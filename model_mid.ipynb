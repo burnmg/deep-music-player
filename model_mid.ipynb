{
  "nbformat": 4,
  "nbformat_minor": 0,
  "metadata": {
    "colab": {
      "name": "model_mid.ipynb",
      "version": "0.3.2",
      "provenance": [],
      "collapsed_sections": [],
      "toc_visible": true
    },
    "kernelspec": {
      "name": "python2",
      "display_name": "Python 2"
    },
    "accelerator": "GPU"
  },
  "cells": [
    {
      "cell_type": "code",
      "metadata": {
        "id": "V8rDHr575m3m",
        "colab_type": "code",
        "colab": {}
      },
      "source": [
        "# !pip install tensorflow-gpu==2.0.0-alpha0\n"
      ],
      "execution_count": 0,
      "outputs": []
    },
    {
      "cell_type": "code",
      "metadata": {
        "id": "gZ4Zpfeg6Pti",
        "colab_type": "code",
        "colab": {
          "base_uri": "https://localhost:8080/",
          "height": 138
        },
        "outputId": "89592795-8ee5-4414-de63-bf98a2bb8295"
      },
      "source": [
        "import tensorflow as tf\n",
        "from tensorflow import keras\n",
        "from tensorflow.keras.layers import Dense, GRU, Dropout, Embedding\n",
        "from music21 import converter, instrument, note, chord, pitch\n",
        "from google.colab import drive\n",
        "import numpy as np\n",
        "import time\n",
        "import glob\n",
        "import pickle\n"
      ],
      "execution_count": 1,
      "outputs": [
        {
          "output_type": "stream",
          "text": [
            " \n",
            "Music21 v.4 is the last version that will support Python 2.\n",
            "Please start using Python 3 instead.\n",
            "\n",
            "Set music21.environment.UserSettings()['warnings'] = 0\n",
            "to disable this message.\n",
            "\n"
          ],
          "name": "stderr"
        }
      ]
    },
    {
      "cell_type": "code",
      "metadata": {
        "id": "r3DDtqkY061Y",
        "colab_type": "code",
        "colab": {
          "base_uri": "https://localhost:8080/",
          "height": 124
        },
        "outputId": "2bd81445-9ef8-426e-d2ec-64352dac8774"
      },
      "source": [
        "drive.mount('/content/gdrive')"
      ],
      "execution_count": 2,
      "outputs": [
        {
          "output_type": "stream",
          "text": [
            "Go to this URL in a browser: https://accounts.google.com/o/oauth2/auth?client_id=947318989803-6bn6qk8qdgf4n4g3pfee6491hc0brc4i.apps.googleusercontent.com&redirect_uri=urn%3Aietf%3Awg%3Aoauth%3A2.0%3Aoob&scope=email%20https%3A%2F%2Fwww.googleapis.com%2Fauth%2Fdocs.test%20https%3A%2F%2Fwww.googleapis.com%2Fauth%2Fdrive%20https%3A%2F%2Fwww.googleapis.com%2Fauth%2Fdrive.photos.readonly%20https%3A%2F%2Fwww.googleapis.com%2Fauth%2Fpeopleapi.readonly&response_type=code\n",
            "\n",
            "Enter your authorization code:\n",
            "··········\n",
            "Mounted at /content/gdrive\n"
          ],
          "name": "stdout"
        }
      ]
    },
    {
      "cell_type": "code",
      "metadata": {
        "id": "V1NHWHqjzR2w",
        "colab_type": "code",
        "colab": {}
      },
      "source": [
        "data_path = \"/content/gdrive/My Drive/Applied Deep Learning/Data/\""
      ],
      "execution_count": 0,
      "outputs": []
    },
    {
      "cell_type": "code",
      "metadata": {
        "id": "Z-WKwrv24GRn",
        "colab_type": "code",
        "colab": {}
      },
      "source": [
        "def get_notes(filename):\n",
        "  notes = []\n",
        "  midi = converter.parse(filename)\n",
        "  notes_to_parse = None\n",
        "  try:  # file has instrument parts\n",
        "    s2 = instrument.partitionByInstrument(midi)\n",
        "    notes_to_parse = s2.parts[0].recurse() \n",
        "  except:  # file has notes in a flat structure\n",
        "    notes_to_parse = midi.flat.notes\n",
        "\n",
        "  for element in notes_to_parse:\n",
        "    \n",
        "    new_chord = [-1] * 6 # 5 pitches + 1 duration\n",
        "    \n",
        "    if isinstance(element, note.Note):\n",
        "      new_chord[0] = element.pitch.ps\n",
        "      new_chord[5] = float(element.duration.quarterLength)\n",
        "#       new_chord[5] = round(float(element.duration.quarterLength), 3)\n",
        "      notes.append(new_chord)\n",
        "    elif isinstance(element, chord.Chord):\n",
        "      new_chord[5] = float(element.duration.quarterLength)\n",
        "#       new_chord[5] = round(float(element.duration.quarterLength), 3)\n",
        "      \n",
        "      for k in range(len(element.pitches)):\n",
        "        new_chord[k] = element.pitches[k].ps\n",
        "        \n",
        "        if k >= len(new_chord) - 1:\n",
        "          break\n",
        "\n",
        "      notes.append(new_chord)\n",
        "\n",
        "  return notes\n"
      ],
      "execution_count": 0,
      "outputs": []
    },
    {
      "cell_type": "code",
      "metadata": {
        "id": "2Gu8nghH0KHU",
        "colab_type": "code",
        "colab": {}
      },
      "source": [
        "# pitch.Pitch(62)"
      ],
      "execution_count": 0,
      "outputs": []
    },
    {
      "cell_type": "code",
      "metadata": {
        "id": "9NLO1eNP8BtW",
        "colab_type": "code",
        "colab": {
          "base_uri": "https://localhost:8080/",
          "height": 1486
        },
        "outputId": "aef4fab9-e93d-4d00-93f8-a38379527c97"
      },
      "source": [
        "from magenta.music import abc_parser as abc_parser\n",
        "import numpy as np\n",
        "\n",
        "MAX_NOTES = 2500\n",
        "NUM_PARAM = 5 + 1 # 5 pitches + 1 duration\n",
        "\n",
        "# 3D numpy array: num songs x MAX_NOTES x NUM_PARAM\n",
        "all_songs_data = np.empty((1, MAX_NOTES, NUM_PARAM), np.float64)\n",
        "\n",
        "for f in glob.glob(data_path + '*.mid'):\n",
        "  song_notes = get_notes(f)\n",
        "\n",
        "  temp_data = np.empty((1, 1, NUM_PARAM), np.float64)\n",
        "  notes_data = np.zeros((1, MAX_NOTES, NUM_PARAM)) - 1\n",
        "  \n",
        "  for elem in song_notes:\n",
        "    # Convert notes into a 2D numpy array\n",
        "    # The 1st dimension is 5 pitches and 1 duration\n",
        "    # The 2nd dimension is the number of notes\n",
        "    raw_notes = np.array([[elem]]) \n",
        "    temp_data = np.append(temp_data, raw_notes, axis=1)\n",
        "  \n",
        "  temp_data = temp_data[:, 1:, :]\n",
        "  notes_data[0, :temp_data.shape[1],:temp_data.shape[2]] = temp_data\n",
        "#   print('notes_data = ', notes_data)\n",
        "  \n",
        "  all_songs_data = np.append(all_songs_data, notes_data, axis=0)\n",
        "\n",
        "  \n",
        "all_songs_data = all_songs_data[1:,:,:]\n",
        "print(all_songs_data)\n"
      ],
      "execution_count": 18,
      "outputs": [
        {
          "output_type": "stream",
          "text": [
            "[[[52.         57.         -1.         -1.         -1.\n",
            "    0.75      ]\n",
            "  [40.         -1.         -1.         -1.         -1.\n",
            "    0.75      ]\n",
            "  [33.         40.         -1.         -1.         -1.\n",
            "    0.75      ]\n",
            "  ...\n",
            "  [-1.         -1.         -1.         -1.         -1.\n",
            "   -1.        ]\n",
            "  [-1.         -1.         -1.         -1.         -1.\n",
            "   -1.        ]\n",
            "  [-1.         -1.         -1.         -1.         -1.\n",
            "   -1.        ]]\n",
            "\n",
            " [[72.         -1.         -1.         -1.         -1.\n",
            "    1.        ]\n",
            "  [64.         -1.         -1.         -1.         -1.\n",
            "    1.33333333]\n",
            "  [36.         -1.         -1.         -1.         -1.\n",
            "    2.        ]\n",
            "  ...\n",
            "  [-1.         -1.         -1.         -1.         -1.\n",
            "   -1.        ]\n",
            "  [-1.         -1.         -1.         -1.         -1.\n",
            "   -1.        ]\n",
            "  [-1.         -1.         -1.         -1.         -1.\n",
            "   -1.        ]]\n",
            "\n",
            " [[-1.         -1.         -1.         -1.         -1.\n",
            "   -1.        ]\n",
            "  [-1.         -1.         -1.         -1.         -1.\n",
            "   -1.        ]\n",
            "  [-1.         -1.         -1.         -1.         -1.\n",
            "   -1.        ]\n",
            "  ...\n",
            "  [-1.         -1.         -1.         -1.         -1.\n",
            "   -1.        ]\n",
            "  [-1.         -1.         -1.         -1.         -1.\n",
            "   -1.        ]\n",
            "  [-1.         -1.         -1.         -1.         -1.\n",
            "   -1.        ]]\n",
            "\n",
            " ...\n",
            "\n",
            " [[89.         -1.         -1.         -1.         -1.\n",
            "    9.        ]\n",
            "  [50.         -1.         -1.         -1.         -1.\n",
            "    0.5       ]\n",
            "  [61.         -1.         -1.         -1.         -1.\n",
            "    0.5       ]\n",
            "  ...\n",
            "  [-1.         -1.         -1.         -1.         -1.\n",
            "   -1.        ]\n",
            "  [-1.         -1.         -1.         -1.         -1.\n",
            "   -1.        ]\n",
            "  [-1.         -1.         -1.         -1.         -1.\n",
            "   -1.        ]]\n",
            "\n",
            " [[78.         -1.         -1.         -1.         -1.\n",
            "    0.5       ]\n",
            "  [62.         69.         74.         76.         -1.\n",
            "    3.75      ]\n",
            "  [81.         -1.         -1.         -1.         -1.\n",
            "    0.5       ]\n",
            "  ...\n",
            "  [-1.         -1.         -1.         -1.         -1.\n",
            "   -1.        ]\n",
            "  [-1.         -1.         -1.         -1.         -1.\n",
            "   -1.        ]\n",
            "  [-1.         -1.         -1.         -1.         -1.\n",
            "   -1.        ]]\n",
            "\n",
            " [[70.         -1.         -1.         -1.         -1.\n",
            "    2.        ]\n",
            "  [62.         -1.         -1.         -1.         -1.\n",
            "    2.        ]\n",
            "  [70.         -1.         -1.         -1.         -1.\n",
            "    0.25      ]\n",
            "  ...\n",
            "  [-1.         -1.         -1.         -1.         -1.\n",
            "   -1.        ]\n",
            "  [-1.         -1.         -1.         -1.         -1.\n",
            "   -1.        ]\n",
            "  [-1.         -1.         -1.         -1.         -1.\n",
            "   -1.        ]]]\n"
          ],
          "name": "stdout"
        }
      ]
    },
    {
      "cell_type": "code",
      "metadata": {
        "id": "K9C0kgHdIxGX",
        "colab_type": "code",
        "colab": {
          "base_uri": "https://localhost:8080/",
          "height": 34
        },
        "outputId": "89ba59e4-1996-4b33-91be-c6f946390081"
      },
      "source": [
        "all_songs_data.shape"
      ],
      "execution_count": 19,
      "outputs": [
        {
          "output_type": "execute_result",
          "data": {
            "text/plain": [
              "(92, 2500, 6)"
            ]
          },
          "metadata": {
            "tags": []
          },
          "execution_count": 19
        }
      ]
    },
    {
      "cell_type": "code",
      "metadata": {
        "id": "g_XwN_rkI715",
        "colab_type": "code",
        "colab": {}
      },
      "source": [
        "import pickle\n",
        "\n",
        "pickle.dump( all_songs_data, open( \"all_songs_data.p\", \"wb\" ) )"
      ],
      "execution_count": 0,
      "outputs": []
    },
    {
      "cell_type": "code",
      "metadata": {
        "id": "Wv9RzEn5Icv_",
        "colab_type": "code",
        "colab": {}
      },
      "source": [
        "all_songs_data = pickle.load( open( \"all_songs_data.p\", \"rb\" ) )"
      ],
      "execution_count": 0,
      "outputs": []
    },
    {
      "cell_type": "markdown",
      "metadata": {
        "id": "UZD2EDDxLxpH",
        "colab_type": "text"
      },
      "source": [
        "## Generate MIDI\n"
      ]
    },
    {
      "cell_type": "code",
      "metadata": {
        "id": "Jc58-2MIWiVa",
        "colab_type": "code",
        "colab": {}
      },
      "source": [
        "from music21 import instrument, note, stream, chord"
      ],
      "execution_count": 0,
      "outputs": []
    },
    {
      "cell_type": "code",
      "metadata": {
        "id": "3vyRW1SYLzRm",
        "colab_type": "code",
        "colab": {}
      },
      "source": [
        "def create_midi(prediction_output, number):\n",
        "    \"\"\" convert the output from the prediction to notes and create a midi file\n",
        "        from the notes \"\"\"\n",
        "    offset = 0\n",
        "    output_notes = []\n",
        "\n",
        "    # create note and chord objects based on the values generated by the model\n",
        "    for pattern in prediction_output:\n",
        "        notes_in_chord = pattern[:-1]\n",
        "        notes = []\n",
        "        for current_note in notes_in_chord:\n",
        "            if int(current_note) != -1:\n",
        "                new_note = note.Note(int(current_note))\n",
        "                new_note.storedInstrument = instrument.Piano()\n",
        "                notes.append(new_note)\n",
        "        new_chord = chord.Chord(notes)\n",
        "        new_chord.offset = offset\n",
        "        output_notes.append(new_chord)    \n",
        "\n",
        "        offset += pattern[-1]\n",
        "\n",
        "    midi_stream = stream.Stream(output_notes)\n",
        "\n",
        "    midi_stream.write('midi', fp='test_output%d.mid' % number)"
      ],
      "execution_count": 0,
      "outputs": []
    },
    {
      "cell_type": "code",
      "metadata": {
        "id": "AsFKr5crXlDi",
        "colab_type": "code",
        "colab": {}
      },
      "source": [
        "create_midi(all_songs_data[5], 5)"
      ],
      "execution_count": 0,
      "outputs": []
    },
    {
      "cell_type": "markdown",
      "metadata": {
        "id": "tmNGau8xdn1k",
        "colab_type": "text"
      },
      "source": [
        "## Convert to Music Using Magenta Framework (Deprecated)"
      ]
    },
    {
      "cell_type": "code",
      "metadata": {
        "id": "Ov4vxydVshVQ",
        "colab_type": "code",
        "colab": {
          "base_uri": "https://localhost:8080/",
          "height": 69
        },
        "outputId": "1dda4206-8762-404d-eeb0-f20012a65985"
      },
      "source": [
        "import ctypes.util\n",
        "orig_ctypes_util_find_library = ctypes.util.find_library\n",
        "def proxy_find_library(lib):\n",
        "  if lib == 'fluidsynth':\n",
        "    return 'libfluidsynth.so.1'\n",
        "  else:\n",
        "    return orig_ctypes_util_find_library(lib)\n",
        "ctypes.util.find_library = proxy_find_library\n",
        "\n",
        "from google.colab import files\n",
        "\n",
        "import magenta.music as mm\n",
        "import magenta\n",
        "import tensorflow\n",
        "\n",
        "print ('🎉 Done!')\n",
        "print (magenta.__version__ )\n",
        "print (tensorflow.__version__)"
      ],
      "execution_count": 21,
      "outputs": [
        {
          "output_type": "stream",
          "text": [
            "🎉 Done!\n",
            "0.3.19\n",
            "1.13.1\n"
          ],
          "name": "stdout"
        }
      ]
    },
    {
      "cell_type": "code",
      "metadata": {
        "id": "yX7HitrdmHjI",
        "colab_type": "code",
        "colab": {}
      },
      "source": [
        "import numpy as np"
      ],
      "execution_count": 0,
      "outputs": []
    },
    {
      "cell_type": "code",
      "metadata": {
        "id": "vlpDFbUpstxL",
        "colab_type": "code",
        "colab": {}
      },
      "source": [
        "# all_songs_data = all_songs_data[:,:100,:]"
      ],
      "execution_count": 0,
      "outputs": []
    },
    {
      "cell_type": "code",
      "metadata": {
        "id": "voAJmOdRqH9p",
        "colab_type": "code",
        "colab": {}
      },
      "source": [
        "from magenta.protobuf import music_pb2\n",
        "\n",
        "magenta_songs = []\n",
        "\n",
        "for k in range(all_songs_data.shape[0]):\n",
        "  song = music_pb2.NoteSequence()\n",
        "\n",
        "  st_time = 0\n",
        "  end_time = 0\n",
        "\n",
        "  # Caution: Somehow the player cannot take a song that is longer than centain\n",
        "  # number of notes. Here limiting to 200. Can adjust accordingly\n",
        "  for m in range(200):\n",
        "#   for m in range(all_songs_data.shape[1]):\n",
        "    # Add the notes to the sequence.\n",
        "    if all_songs_data[k,m,5] >= 0:\n",
        "      st_time = end_time\n",
        "      end_time = st_time + all_songs_data[k,m,5]\n",
        "\n",
        "#       for n in range(1):\n",
        "      for n in range(all_songs_data.shape[2]-1):\n",
        "        pitch = int(all_songs_data[k,m,n])\n",
        "\n",
        "        if pitch != -1:\n",
        "          song.notes.add(pitch=pitch, \n",
        "                         start_time=st_time, \n",
        "                         end_time=end_time,\n",
        "                         velocity=90)\n",
        "  \n",
        "  magenta_songs.append(song)\n"
      ],
      "execution_count": 0,
      "outputs": []
    },
    {
      "cell_type": "markdown",
      "metadata": {
        "id": "UU2qWKR3H3G_",
        "colab_type": "text"
      },
      "source": [
        "## !Warning: the MIDI player below seems to be working only in Python 2 "
      ]
    },
    {
      "cell_type": "code",
      "metadata": {
        "id": "BEiDeEBPtJuH",
        "colab_type": "code",
        "colab": {
          "base_uri": "https://localhost:8080/",
          "height": 304
        },
        "outputId": "f6756aee-ae73-4c0d-de6a-68146cdf997c"
      },
      "source": [
        "k = 1\n",
        "\n",
        "# for k in range(len(magenta_songs)):\n",
        "magenta_songs[k].total_time = 120\n",
        "magenta_songs[k].tempos.add(qpm=150);\n",
        "# This is a colab utility method that visualizes a NoteSequence.\n",
        "mm.plot_sequence(magenta_songs[k])\n",
        "\n",
        "# This is a colab utility method that plays a NoteSequence.\n",
        "# mm.play_sequence(magenta_songs[k],synth=mm.fluidsynth)\n",
        "mm.play_sequence(magenta_songs[k],synth=mm.synthesize)\n"
      ],
      "execution_count": 37,
      "outputs": [
        {
          "output_type": "display_data",
          "data": {
            "text/html": [
              "\n",
              "    <div class=\"bk-root\">\n",
              "        <a href=\"https://bokeh.pydata.org\" target=\"_blank\" class=\"bk-logo bk-logo-small bk-logo-notebook\"></a>\n",
              "        <span id=\"2292\">Loading BokehJS ...</span>\n",
              "    </div>"
            ]
          },
          "metadata": {
            "tags": []
          }
        },
        {
          "output_type": "display_data",
          "data": {
            "application/javascript": [
              "\n",
              "(function(root) {\n",
              "  function now() {\n",
              "    return new Date();\n",
              "  }\n",
              "\n",
              "  var force = true;\n",
              "\n",
              "  if (typeof (root._bokeh_onload_callbacks) === \"undefined\" || force === true) {\n",
              "    root._bokeh_onload_callbacks = [];\n",
              "    root._bokeh_is_loading = undefined;\n",
              "  }\n",
              "\n",
              "  var JS_MIME_TYPE = 'application/javascript';\n",
              "  var HTML_MIME_TYPE = 'text/html';\n",
              "  var EXEC_MIME_TYPE = 'application/vnd.bokehjs_exec.v0+json';\n",
              "  var CLASS_NAME = 'output_bokeh rendered_html';\n",
              "\n",
              "  /**\n",
              "   * Render data to the DOM node\n",
              "   */\n",
              "  function render(props, node) {\n",
              "    var script = document.createElement(\"script\");\n",
              "    node.appendChild(script);\n",
              "  }\n",
              "\n",
              "  /**\n",
              "   * Handle when an output is cleared or removed\n",
              "   */\n",
              "  function handleClearOutput(event, handle) {\n",
              "    var cell = handle.cell;\n",
              "\n",
              "    var id = cell.output_area._bokeh_element_id;\n",
              "    var server_id = cell.output_area._bokeh_server_id;\n",
              "    // Clean up Bokeh references\n",
              "    if (id != null && id in Bokeh.index) {\n",
              "      Bokeh.index[id].model.document.clear();\n",
              "      delete Bokeh.index[id];\n",
              "    }\n",
              "\n",
              "    if (server_id !== undefined) {\n",
              "      // Clean up Bokeh references\n",
              "      var cmd = \"from bokeh.io.state import curstate; print(curstate().uuid_to_server['\" + server_id + \"'].get_sessions()[0].document.roots[0]._id)\";\n",
              "      cell.notebook.kernel.execute(cmd, {\n",
              "        iopub: {\n",
              "          output: function(msg) {\n",
              "            var id = msg.content.text.trim();\n",
              "            if (id in Bokeh.index) {\n",
              "              Bokeh.index[id].model.document.clear();\n",
              "              delete Bokeh.index[id];\n",
              "            }\n",
              "          }\n",
              "        }\n",
              "      });\n",
              "      // Destroy server and session\n",
              "      var cmd = \"import bokeh.io.notebook as ion; ion.destroy_server('\" + server_id + \"')\";\n",
              "      cell.notebook.kernel.execute(cmd);\n",
              "    }\n",
              "  }\n",
              "\n",
              "  /**\n",
              "   * Handle when a new output is added\n",
              "   */\n",
              "  function handleAddOutput(event, handle) {\n",
              "    var output_area = handle.output_area;\n",
              "    var output = handle.output;\n",
              "\n",
              "    // limit handleAddOutput to display_data with EXEC_MIME_TYPE content only\n",
              "    if ((output.output_type != \"display_data\") || (!output.data.hasOwnProperty(EXEC_MIME_TYPE))) {\n",
              "      return\n",
              "    }\n",
              "\n",
              "    var toinsert = output_area.element.find(\".\" + CLASS_NAME.split(' ')[0]);\n",
              "\n",
              "    if (output.metadata[EXEC_MIME_TYPE][\"id\"] !== undefined) {\n",
              "      toinsert[toinsert.length - 1].firstChild.textContent = output.data[JS_MIME_TYPE];\n",
              "      // store reference to embed id on output_area\n",
              "      output_area._bokeh_element_id = output.metadata[EXEC_MIME_TYPE][\"id\"];\n",
              "    }\n",
              "    if (output.metadata[EXEC_MIME_TYPE][\"server_id\"] !== undefined) {\n",
              "      var bk_div = document.createElement(\"div\");\n",
              "      bk_div.innerHTML = output.data[HTML_MIME_TYPE];\n",
              "      var script_attrs = bk_div.children[0].attributes;\n",
              "      for (var i = 0; i < script_attrs.length; i++) {\n",
              "        toinsert[toinsert.length - 1].firstChild.setAttribute(script_attrs[i].name, script_attrs[i].value);\n",
              "      }\n",
              "      // store reference to server id on output_area\n",
              "      output_area._bokeh_server_id = output.metadata[EXEC_MIME_TYPE][\"server_id\"];\n",
              "    }\n",
              "  }\n",
              "\n",
              "  function register_renderer(events, OutputArea) {\n",
              "\n",
              "    function append_mime(data, metadata, element) {\n",
              "      // create a DOM node to render to\n",
              "      var toinsert = this.create_output_subarea(\n",
              "        metadata,\n",
              "        CLASS_NAME,\n",
              "        EXEC_MIME_TYPE\n",
              "      );\n",
              "      this.keyboard_manager.register_events(toinsert);\n",
              "      // Render to node\n",
              "      var props = {data: data, metadata: metadata[EXEC_MIME_TYPE]};\n",
              "      render(props, toinsert[toinsert.length - 1]);\n",
              "      element.append(toinsert);\n",
              "      return toinsert\n",
              "    }\n",
              "\n",
              "    /* Handle when an output is cleared or removed */\n",
              "    events.on('clear_output.CodeCell', handleClearOutput);\n",
              "    events.on('delete.Cell', handleClearOutput);\n",
              "\n",
              "    /* Handle when a new output is added */\n",
              "    events.on('output_added.OutputArea', handleAddOutput);\n",
              "\n",
              "    /**\n",
              "     * Register the mime type and append_mime function with output_area\n",
              "     */\n",
              "    OutputArea.prototype.register_mime_type(EXEC_MIME_TYPE, append_mime, {\n",
              "      /* Is output safe? */\n",
              "      safe: true,\n",
              "      /* Index of renderer in `output_area.display_order` */\n",
              "      index: 0\n",
              "    });\n",
              "  }\n",
              "\n",
              "  // register the mime type if in Jupyter Notebook environment and previously unregistered\n",
              "  if (root.Jupyter !== undefined) {\n",
              "    var events = require('base/js/events');\n",
              "    var OutputArea = require('notebook/js/outputarea').OutputArea;\n",
              "\n",
              "    if (OutputArea.prototype.mime_types().indexOf(EXEC_MIME_TYPE) == -1) {\n",
              "      register_renderer(events, OutputArea);\n",
              "    }\n",
              "  }\n",
              "\n",
              "  \n",
              "  if (typeof (root._bokeh_timeout) === \"undefined\" || force === true) {\n",
              "    root._bokeh_timeout = Date.now() + 5000;\n",
              "    root._bokeh_failed_load = false;\n",
              "  }\n",
              "\n",
              "  var NB_LOAD_WARNING = {'data': {'text/html':\n",
              "     \"<div style='background-color: #fdd'>\\n\"+\n",
              "     \"<p>\\n\"+\n",
              "     \"BokehJS does not appear to have successfully loaded. If loading BokehJS from CDN, this \\n\"+\n",
              "     \"may be due to a slow or bad network connection. Possible fixes:\\n\"+\n",
              "     \"</p>\\n\"+\n",
              "     \"<ul>\\n\"+\n",
              "     \"<li>re-rerun `output_notebook()` to attempt to load from CDN again, or</li>\\n\"+\n",
              "     \"<li>use INLINE resources instead, as so:</li>\\n\"+\n",
              "     \"</ul>\\n\"+\n",
              "     \"<code>\\n\"+\n",
              "     \"from bokeh.resources import INLINE\\n\"+\n",
              "     \"output_notebook(resources=INLINE)\\n\"+\n",
              "     \"</code>\\n\"+\n",
              "     \"</div>\"}};\n",
              "\n",
              "  function display_loaded() {\n",
              "    var el = document.getElementById(\"2292\");\n",
              "    if (el != null) {\n",
              "      el.textContent = \"BokehJS is loading...\";\n",
              "    }\n",
              "    if (root.Bokeh !== undefined) {\n",
              "      if (el != null) {\n",
              "        el.textContent = \"BokehJS \" + root.Bokeh.version + \" successfully loaded.\";\n",
              "      }\n",
              "    } else if (Date.now() < root._bokeh_timeout) {\n",
              "      setTimeout(display_loaded, 100)\n",
              "    }\n",
              "  }\n",
              "\n",
              "\n",
              "  function run_callbacks() {\n",
              "    try {\n",
              "      root._bokeh_onload_callbacks.forEach(function(callback) { callback() });\n",
              "    }\n",
              "    finally {\n",
              "      delete root._bokeh_onload_callbacks\n",
              "    }\n",
              "    console.info(\"Bokeh: all callbacks have finished\");\n",
              "  }\n",
              "\n",
              "  function load_libs(js_urls, callback) {\n",
              "    root._bokeh_onload_callbacks.push(callback);\n",
              "    if (root._bokeh_is_loading > 0) {\n",
              "      console.log(\"Bokeh: BokehJS is being loaded, scheduling callback at\", now());\n",
              "      return null;\n",
              "    }\n",
              "    if (js_urls == null || js_urls.length === 0) {\n",
              "      run_callbacks();\n",
              "      return null;\n",
              "    }\n",
              "    console.log(\"Bokeh: BokehJS not loaded, scheduling load and callback at\", now());\n",
              "    root._bokeh_is_loading = js_urls.length;\n",
              "    for (var i = 0; i < js_urls.length; i++) {\n",
              "      var url = js_urls[i];\n",
              "      var s = document.createElement('script');\n",
              "      s.src = url;\n",
              "      s.async = false;\n",
              "      s.onreadystatechange = s.onload = function() {\n",
              "        root._bokeh_is_loading--;\n",
              "        if (root._bokeh_is_loading === 0) {\n",
              "          console.log(\"Bokeh: all BokehJS libraries loaded\");\n",
              "          run_callbacks()\n",
              "        }\n",
              "      };\n",
              "      s.onerror = function() {\n",
              "        console.warn(\"failed to load library \" + url);\n",
              "      };\n",
              "      console.log(\"Bokeh: injecting script tag for BokehJS library: \", url);\n",
              "      document.getElementsByTagName(\"head\")[0].appendChild(s);\n",
              "    }\n",
              "  };var element = document.getElementById(\"2292\");\n",
              "  if (element == null) {\n",
              "    console.log(\"Bokeh: ERROR: autoload.js configured with elementid '2292' but no matching script tag was found. \")\n",
              "    return false;\n",
              "  }\n",
              "\n",
              "  var js_urls = [\"https://cdn.pydata.org/bokeh/release/bokeh-1.0.4.min.js\", \"https://cdn.pydata.org/bokeh/release/bokeh-widgets-1.0.4.min.js\", \"https://cdn.pydata.org/bokeh/release/bokeh-tables-1.0.4.min.js\", \"https://cdn.pydata.org/bokeh/release/bokeh-gl-1.0.4.min.js\"];\n",
              "\n",
              "  var inline_js = [\n",
              "    function(Bokeh) {\n",
              "      Bokeh.set_log_level(\"info\");\n",
              "    },\n",
              "    \n",
              "    function(Bokeh) {\n",
              "      \n",
              "    },\n",
              "    function(Bokeh) {\n",
              "      console.log(\"Bokeh: injecting CSS: https://cdn.pydata.org/bokeh/release/bokeh-1.0.4.min.css\");\n",
              "      Bokeh.embed.inject_css(\"https://cdn.pydata.org/bokeh/release/bokeh-1.0.4.min.css\");\n",
              "      console.log(\"Bokeh: injecting CSS: https://cdn.pydata.org/bokeh/release/bokeh-widgets-1.0.4.min.css\");\n",
              "      Bokeh.embed.inject_css(\"https://cdn.pydata.org/bokeh/release/bokeh-widgets-1.0.4.min.css\");\n",
              "      console.log(\"Bokeh: injecting CSS: https://cdn.pydata.org/bokeh/release/bokeh-tables-1.0.4.min.css\");\n",
              "      Bokeh.embed.inject_css(\"https://cdn.pydata.org/bokeh/release/bokeh-tables-1.0.4.min.css\");\n",
              "    }\n",
              "  ];\n",
              "\n",
              "  function run_inline_js() {\n",
              "    \n",
              "    if ((root.Bokeh !== undefined) || (force === true)) {\n",
              "      for (var i = 0; i < inline_js.length; i++) {\n",
              "        inline_js[i].call(root, root.Bokeh);\n",
              "      }if (force === true) {\n",
              "        display_loaded();\n",
              "      }} else if (Date.now() < root._bokeh_timeout) {\n",
              "      setTimeout(run_inline_js, 100);\n",
              "    } else if (!root._bokeh_failed_load) {\n",
              "      console.log(\"Bokeh: BokehJS failed to load within specified timeout.\");\n",
              "      root._bokeh_failed_load = true;\n",
              "    } else if (force !== true) {\n",
              "      var cell = $(document.getElementById(\"2292\")).parents('.cell').data().cell;\n",
              "      cell.output_area.append_execute_result(NB_LOAD_WARNING)\n",
              "    }\n",
              "\n",
              "  }\n",
              "\n",
              "  if (root._bokeh_is_loading === 0) {\n",
              "    console.log(\"Bokeh: BokehJS loaded, going straight to plotting\");\n",
              "    run_inline_js();\n",
              "  } else {\n",
              "    load_libs(js_urls, function() {\n",
              "      console.log(\"Bokeh: BokehJS plotting callback run at\", now());\n",
              "      run_inline_js();\n",
              "    });\n",
              "  }\n",
              "}(window));"
            ],
            "application/vnd.bokehjs_load.v0+json": "\n(function(root) {\n  function now() {\n    return new Date();\n  }\n\n  var force = true;\n\n  if (typeof (root._bokeh_onload_callbacks) === \"undefined\" || force === true) {\n    root._bokeh_onload_callbacks = [];\n    root._bokeh_is_loading = undefined;\n  }\n\n  \n\n  \n  if (typeof (root._bokeh_timeout) === \"undefined\" || force === true) {\n    root._bokeh_timeout = Date.now() + 5000;\n    root._bokeh_failed_load = false;\n  }\n\n  var NB_LOAD_WARNING = {'data': {'text/html':\n     \"<div style='background-color: #fdd'>\\n\"+\n     \"<p>\\n\"+\n     \"BokehJS does not appear to have successfully loaded. If loading BokehJS from CDN, this \\n\"+\n     \"may be due to a slow or bad network connection. Possible fixes:\\n\"+\n     \"</p>\\n\"+\n     \"<ul>\\n\"+\n     \"<li>re-rerun `output_notebook()` to attempt to load from CDN again, or</li>\\n\"+\n     \"<li>use INLINE resources instead, as so:</li>\\n\"+\n     \"</ul>\\n\"+\n     \"<code>\\n\"+\n     \"from bokeh.resources import INLINE\\n\"+\n     \"output_notebook(resources=INLINE)\\n\"+\n     \"</code>\\n\"+\n     \"</div>\"}};\n\n  function display_loaded() {\n    var el = document.getElementById(\"2292\");\n    if (el != null) {\n      el.textContent = \"BokehJS is loading...\";\n    }\n    if (root.Bokeh !== undefined) {\n      if (el != null) {\n        el.textContent = \"BokehJS \" + root.Bokeh.version + \" successfully loaded.\";\n      }\n    } else if (Date.now() < root._bokeh_timeout) {\n      setTimeout(display_loaded, 100)\n    }\n  }\n\n\n  function run_callbacks() {\n    try {\n      root._bokeh_onload_callbacks.forEach(function(callback) { callback() });\n    }\n    finally {\n      delete root._bokeh_onload_callbacks\n    }\n    console.info(\"Bokeh: all callbacks have finished\");\n  }\n\n  function load_libs(js_urls, callback) {\n    root._bokeh_onload_callbacks.push(callback);\n    if (root._bokeh_is_loading > 0) {\n      console.log(\"Bokeh: BokehJS is being loaded, scheduling callback at\", now());\n      return null;\n    }\n    if (js_urls == null || js_urls.length === 0) {\n      run_callbacks();\n      return null;\n    }\n    console.log(\"Bokeh: BokehJS not loaded, scheduling load and callback at\", now());\n    root._bokeh_is_loading = js_urls.length;\n    for (var i = 0; i < js_urls.length; i++) {\n      var url = js_urls[i];\n      var s = document.createElement('script');\n      s.src = url;\n      s.async = false;\n      s.onreadystatechange = s.onload = function() {\n        root._bokeh_is_loading--;\n        if (root._bokeh_is_loading === 0) {\n          console.log(\"Bokeh: all BokehJS libraries loaded\");\n          run_callbacks()\n        }\n      };\n      s.onerror = function() {\n        console.warn(\"failed to load library \" + url);\n      };\n      console.log(\"Bokeh: injecting script tag for BokehJS library: \", url);\n      document.getElementsByTagName(\"head\")[0].appendChild(s);\n    }\n  };var element = document.getElementById(\"2292\");\n  if (element == null) {\n    console.log(\"Bokeh: ERROR: autoload.js configured with elementid '2292' but no matching script tag was found. \")\n    return false;\n  }\n\n  var js_urls = [\"https://cdn.pydata.org/bokeh/release/bokeh-1.0.4.min.js\", \"https://cdn.pydata.org/bokeh/release/bokeh-widgets-1.0.4.min.js\", \"https://cdn.pydata.org/bokeh/release/bokeh-tables-1.0.4.min.js\", \"https://cdn.pydata.org/bokeh/release/bokeh-gl-1.0.4.min.js\"];\n\n  var inline_js = [\n    function(Bokeh) {\n      Bokeh.set_log_level(\"info\");\n    },\n    \n    function(Bokeh) {\n      \n    },\n    function(Bokeh) {\n      console.log(\"Bokeh: injecting CSS: https://cdn.pydata.org/bokeh/release/bokeh-1.0.4.min.css\");\n      Bokeh.embed.inject_css(\"https://cdn.pydata.org/bokeh/release/bokeh-1.0.4.min.css\");\n      console.log(\"Bokeh: injecting CSS: https://cdn.pydata.org/bokeh/release/bokeh-widgets-1.0.4.min.css\");\n      Bokeh.embed.inject_css(\"https://cdn.pydata.org/bokeh/release/bokeh-widgets-1.0.4.min.css\");\n      console.log(\"Bokeh: injecting CSS: https://cdn.pydata.org/bokeh/release/bokeh-tables-1.0.4.min.css\");\n      Bokeh.embed.inject_css(\"https://cdn.pydata.org/bokeh/release/bokeh-tables-1.0.4.min.css\");\n    }\n  ];\n\n  function run_inline_js() {\n    \n    if ((root.Bokeh !== undefined) || (force === true)) {\n      for (var i = 0; i < inline_js.length; i++) {\n        inline_js[i].call(root, root.Bokeh);\n      }if (force === true) {\n        display_loaded();\n      }} else if (Date.now() < root._bokeh_timeout) {\n      setTimeout(run_inline_js, 100);\n    } else if (!root._bokeh_failed_load) {\n      console.log(\"Bokeh: BokehJS failed to load within specified timeout.\");\n      root._bokeh_failed_load = true;\n    } else if (force !== true) {\n      var cell = $(document.getElementById(\"2292\")).parents('.cell').data().cell;\n      cell.output_area.append_execute_result(NB_LOAD_WARNING)\n    }\n\n  }\n\n  if (root._bokeh_is_loading === 0) {\n    console.log(\"Bokeh: BokehJS loaded, going straight to plotting\");\n    run_inline_js();\n  } else {\n    load_libs(js_urls, function() {\n      console.log(\"Bokeh: BokehJS plotting callback run at\", now());\n      run_inline_js();\n    });\n  }\n}(window));"
          },
          "metadata": {
            "tags": []
          }
        },
        {
          "output_type": "display_data",
          "data": {
            "text/html": [
              "\n",
              "\n",
              "\n",
              "\n",
              "\n",
              "\n",
              "  <div class=\"bk-root\" id=\"72a35611-0af4-4045-8162-25d060522bbc\" data-root-id=\"2243\"></div>\n"
            ]
          },
          "metadata": {
            "tags": []
          }
        },
        {
          "output_type": "display_data",
          "data": {
            "application/javascript": [
              "(function(root) {\n",
              "  function embed_document(root) {\n",
              "    \n",
              "  var docs_json = {\"f5412335-5a77-40a9-84a6-7c2bdaeecc80\":{\"roots\":{\"references\":[{\"attributes\":{},\"id\":\"2290\",\"type\":\"UnionRenderers\"},{\"attributes\":{\"bottom_units\":\"screen\",\"fill_alpha\":{\"value\":0.5},\"fill_color\":{\"value\":\"lightgrey\"},\"left_units\":\"screen\",\"level\":\"overlay\",\"line_alpha\":{\"value\":1.0},\"line_color\":{\"value\":\"black\"},\"line_dash\":[4,4],\"line_width\":{\"value\":2},\"plot\":null,\"render_mode\":\"css\",\"right_units\":\"screen\",\"top_units\":\"screen\"},\"id\":\"2269\",\"type\":\"BoxAnnotation\"},{\"attributes\":{},\"id\":\"2248\",\"type\":\"LinearScale\"},{\"attributes\":{\"callback\":null},\"id\":\"2244\",\"type\":\"DataRange1d\"},{\"attributes\":{},\"id\":\"2263\",\"type\":\"PanTool\"},{\"attributes\":{\"callback\":null},\"id\":\"2246\",\"type\":\"DataRange1d\"},{\"attributes\":{\"dimension\":1,\"plot\":{\"id\":\"2243\",\"subtype\":\"Figure\",\"type\":\"Plot\"},\"ticker\":{\"id\":\"2277\",\"type\":\"SingleIntervalTicker\"}},\"id\":\"2261\",\"type\":\"Grid\"},{\"attributes\":{},\"id\":\"2266\",\"type\":\"SaveTool\"},{\"attributes\":{\"active_drag\":\"auto\",\"active_inspect\":\"auto\",\"active_multi\":null,\"active_scroll\":\"auto\",\"active_tap\":\"auto\",\"tools\":[{\"id\":\"2262\",\"type\":\"HoverTool\"},{\"id\":\"2263\",\"type\":\"PanTool\"},{\"id\":\"2264\",\"type\":\"BoxZoomTool\"},{\"id\":\"2265\",\"type\":\"ResetTool\"},{\"id\":\"2266\",\"type\":\"SaveTool\"}]},\"id\":\"2267\",\"type\":\"Toolbar\"},{\"attributes\":{\"overlay\":{\"id\":\"2269\",\"type\":\"BoxAnnotation\"}},\"id\":\"2264\",\"type\":\"BoxZoomTool\"},{\"attributes\":{},\"id\":\"2265\",\"type\":\"ResetTool\"},{\"attributes\":{},\"id\":\"2288\",\"type\":\"BasicTickFormatter\"},{\"attributes\":{},\"id\":\"2289\",\"type\":\"Selection\"},{\"attributes\":{\"bottom\":{\"field\":\"bottom\"},\"fill_alpha\":{\"field\":\"fill_alpha\"},\"fill_color\":{\"value\":\"#d53e4f\"},\"left\":{\"field\":\"start_time\"},\"right\":{\"field\":\"end_time\"},\"top\":{\"field\":\"top\"}},\"id\":\"2280\",\"type\":\"Quad\"},{\"attributes\":{\"bottom\":{\"field\":\"bottom\"},\"fill_alpha\":{\"value\":0.1},\"fill_color\":{\"value\":\"#1f77b4\"},\"left\":{\"field\":\"start_time\"},\"line_alpha\":{\"value\":0.1},\"line_color\":{\"value\":\"#1f77b4\"},\"right\":{\"field\":\"end_time\"},\"top\":{\"field\":\"top\"}},\"id\":\"2281\",\"type\":\"Quad\"},{\"attributes\":{\"data_source\":{\"id\":\"2278\",\"type\":\"ColumnDataSource\"},\"glyph\":{\"id\":\"2280\",\"type\":\"Quad\"},\"hover_glyph\":null,\"muted_glyph\":null,\"nonselection_glyph\":{\"id\":\"2281\",\"type\":\"Quad\"},\"selection_glyph\":null,\"view\":{\"id\":\"2283\",\"type\":\"CDSView\"}},\"id\":\"2282\",\"type\":\"GlyphRenderer\"},{\"attributes\":{\"source\":{\"id\":\"2278\",\"type\":\"ColumnDataSource\"}},\"id\":\"2283\",\"type\":\"CDSView\"},{\"attributes\":{\"plot\":null,\"text\":\"\"},\"id\":\"2285\",\"type\":\"Title\"},{\"attributes\":{},\"id\":\"2287\",\"type\":\"BasicTickFormatter\"},{\"attributes\":{\"callback\":null,\"tooltips\":[[\"velo\",\"@velocity\"],[\"program\",\"@program\"],[\"end_time\",\"@end_time\"],[\"pitch\",\"@pitch\"],[\"duration\",\"@duration\"],[\"velocity\",\"@velocity\"],[\"start_time\",\"@start_time\"],[\"fill_alpha\",\"@fill_alpha\"]]},\"id\":\"2262\",\"type\":\"HoverTool\"},{\"attributes\":{\"interval\":12},\"id\":\"2275\",\"type\":\"SingleIntervalTicker\"},{\"attributes\":{\"interval\":12},\"id\":\"2277\",\"type\":\"SingleIntervalTicker\"},{\"attributes\":{\"callback\":null,\"data\":{\"bottom\":{\"__ndarray__\":\"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\",\"dtype\":\"float64\",\"shape\":[208]},\"duration\":{\"__ndarray__\":\"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\",\"dtype\":\"float64\",\"shape\":[208]},\"end_time\":{\"__ndarray__\":\"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\",\"dtype\":\"float64\",\"shape\":[208]},\"fill_alpha\":{\"__ndarray__\":\"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\",\"dtype\":\"float64\",\"shape\":[208]},\"index\":[0,1,2,3,4,5,6,7,8,9,10,11,12,13,14,15,16,17,18,19,20,21,22,23,24,25,26,27,28,29,30,31,32,33,34,35,36,37,38,39,40,41,42,43,44,45,46,47,48,49,50,51,52,53,54,55,56,57,58,59,60,61,62,63,64,65,66,67,68,69,70,71,72,73,74,75,76,77,78,79,80,81,82,83,84,85,86,87,88,89,90,91,92,93,94,95,96,97,98,99,100,101,102,103,104,105,106,107,108,109,110,111,112,113,114,115,116,117,118,119,120,121,122,123,124,125,126,127,128,129,130,131,132,133,134,135,136,137,138,139,140,141,142,143,144,145,146,147,148,149,150,151,152,153,154,155,156,157,158,159,160,161,162,163,164,165,166,167,168,169,170,171,172,173,174,175,176,177,178,179,180,181,182,183,184,185,186,187,188,189,190,191,192,193,194,195,196,197,198,199,200,201,202,203,204,205,206,207],\"instrument\":[0,0,0,0,0,0,0,0,0,0,0,0,0,0,0,0,0,0,0,0,0,0,0,0,0,0,0,0,0,0,0,0,0,0,0,0,0,0,0,0,0,0,0,0,0,0,0,0,0,0,0,0,0,0,0,0,0,0,0,0,0,0,0,0,0,0,0,0,0,0,0,0,0,0,0,0,0,0,0,0,0,0,0,0,0,0,0,0,0,0,0,0,0,0,0,0,0,0,0,0,0,0,0,0,0,0,0,0,0,0,0,0,0,0,0,0,0,0,0,0,0,0,0,0,0,0,0,0,0,0,0,0,0,0,0,0,0,0,0,0,0,0,0,0,0,0,0,0,0,0,0,0,0,0,0,0,0,0,0,0,0,0,0,0,0,0,0,0,0,0,0,0,0,0,0,0,0,0,0,0,0,0,0,0,0,0,0,0,0,0,0,0,0,0,0,0,0,0,0,0,0,0,0,0,0,0,0,0],\"pitch\":[72,64,36,72,64,36,67,67,72,72,74,62,70,34,74,62,70,34,65,65,70,70,77,60,69,29,77,60,69,29,81,60,69,29,81,60,69,29,79,62,71,31,79,62,71,31,76,72,36,76,72,36,36,36,67,67,72,72,74,31,74,31,67,70,67,70,67,70,67,70,31,31,67,72,36,67,72,36,36,36,57,67,57,67,60,72,60,72,58,70,31,58,70,31,62,70,62,70,60,72,60,72,65,74,65,74,31,31,67,76,36,67,76,36,36,36,67,74,67,74,69,76,69,76,69,77,31,69,77,31,65,74,65,74,65,74,65,74,70,82,31,70,82,31,70,77,70,77,70,77,70,77,69,76,36,69,76,36,36,36,67,74,67,74,69,76,69,76,70,77,31,70,77,31,67,74,67,74,70,77,70,77,74,82,74,82,31,31,72,67,36,72,67,36,79,72,79,72,36,36,72,67,72,67,70,31,70,31],\"program\":[0,0,0,0,0,0,0,0,0,0,0,0,0,0,0,0,0,0,0,0,0,0,0,0,0,0,0,0,0,0,0,0,0,0,0,0,0,0,0,0,0,0,0,0,0,0,0,0,0,0,0,0,0,0,0,0,0,0,0,0,0,0,0,0,0,0,0,0,0,0,0,0,0,0,0,0,0,0,0,0,0,0,0,0,0,0,0,0,0,0,0,0,0,0,0,0,0,0,0,0,0,0,0,0,0,0,0,0,0,0,0,0,0,0,0,0,0,0,0,0,0,0,0,0,0,0,0,0,0,0,0,0,0,0,0,0,0,0,0,0,0,0,0,0,0,0,0,0,0,0,0,0,0,0,0,0,0,0,0,0,0,0,0,0,0,0,0,0,0,0,0,0,0,0,0,0,0,0,0,0,0,0,0,0,0,0,0,0,0,0,0,0,0,0,0,0,0,0,0,0,0,0,0,0,0,0,0,0],\"start_time\":{\"__ndarray__\":\"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\",\"dtype\":\"float64\",\"shape\":[208]},\"top\":{\"__ndarray__\":\"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\",\"dtype\":\"float64\",\"shape\":[208]},\"velocity\":[90,90,90,90,90,90,90,90,90,90,90,90,90,90,90,90,90,90,90,90,90,90,90,90,90,90,90,90,90,90,90,90,90,90,90,90,90,90,90,90,90,90,90,90,90,90,90,90,90,90,90,90,90,90,90,90,90,90,90,90,90,90,90,90,90,90,90,90,90,90,90,90,90,90,90,90,90,90,90,90,90,90,90,90,90,90,90,90,90,90,90,90,90,90,90,90,90,90,90,90,90,90,90,90,90,90,90,90,90,90,90,90,90,90,90,90,90,90,90,90,90,90,90,90,90,90,90,90,90,90,90,90,90,90,90,90,90,90,90,90,90,90,90,90,90,90,90,90,90,90,90,90,90,90,90,90,90,90,90,90,90,90,90,90,90,90,90,90,90,90,90,90,90,90,90,90,90,90,90,90,90,90,90,90,90,90,90,90,90,90,90,90,90,90,90,90,90,90,90,90,90,90,90,90,90,90,90,90]},\"selected\":{\"id\":\"2289\",\"type\":\"Selection\"},\"selection_policy\":{\"id\":\"2290\",\"type\":\"UnionRenderers\"}},\"id\":\"2278\",\"type\":\"ColumnDataSource\"},{\"attributes\":{\"axis_label\":\"pitch (MIDI)\",\"formatter\":{\"id\":\"2288\",\"type\":\"BasicTickFormatter\"},\"plot\":{\"id\":\"2243\",\"subtype\":\"Figure\",\"type\":\"Plot\"},\"ticker\":{\"id\":\"2275\",\"type\":\"SingleIntervalTicker\"}},\"id\":\"2257\",\"type\":\"LinearAxis\"},{\"attributes\":{\"plot\":{\"id\":\"2243\",\"subtype\":\"Figure\",\"type\":\"Plot\"},\"ticker\":{\"id\":\"2253\",\"type\":\"BasicTicker\"}},\"id\":\"2256\",\"type\":\"Grid\"},{\"attributes\":{\"below\":[{\"id\":\"2252\",\"type\":\"LinearAxis\"}],\"left\":[{\"id\":\"2257\",\"type\":\"LinearAxis\"}],\"plot_height\":200,\"plot_width\":500,\"renderers\":[{\"id\":\"2252\",\"type\":\"LinearAxis\"},{\"id\":\"2256\",\"type\":\"Grid\"},{\"id\":\"2257\",\"type\":\"LinearAxis\"},{\"id\":\"2261\",\"type\":\"Grid\"},{\"id\":\"2269\",\"type\":\"BoxAnnotation\"},{\"id\":\"2282\",\"type\":\"GlyphRenderer\"}],\"title\":{\"id\":\"2285\",\"type\":\"Title\"},\"toolbar\":{\"id\":\"2267\",\"type\":\"Toolbar\"},\"x_range\":{\"id\":\"2244\",\"type\":\"DataRange1d\"},\"x_scale\":{\"id\":\"2248\",\"type\":\"LinearScale\"},\"y_range\":{\"id\":\"2246\",\"type\":\"DataRange1d\"},\"y_scale\":{\"id\":\"2250\",\"type\":\"LinearScale\"}},\"id\":\"2243\",\"subtype\":\"Figure\",\"type\":\"Plot\"},{\"attributes\":{},\"id\":\"2253\",\"type\":\"BasicTicker\"},{\"attributes\":{\"axis_label\":\"time (sec)\",\"formatter\":{\"id\":\"2287\",\"type\":\"BasicTickFormatter\"},\"plot\":{\"id\":\"2243\",\"subtype\":\"Figure\",\"type\":\"Plot\"},\"ticker\":{\"id\":\"2253\",\"type\":\"BasicTicker\"}},\"id\":\"2252\",\"type\":\"LinearAxis\"},{\"attributes\":{},\"id\":\"2250\",\"type\":\"LinearScale\"}],\"root_ids\":[\"2243\"]},\"title\":\"Bokeh Application\",\"version\":\"1.0.4\"}};\n",
              "  var render_items = [{\"docid\":\"f5412335-5a77-40a9-84a6-7c2bdaeecc80\",\"roots\":{\"2243\":\"72a35611-0af4-4045-8162-25d060522bbc\"}}];\n",
              "  root.Bokeh.embed.embed_items_notebook(docs_json, render_items);\n",
              "\n",
              "  }\n",
              "  if (root.Bokeh !== undefined) {\n",
              "    embed_document(root);\n",
              "  } else {\n",
              "    var attempts = 0;\n",
              "    var timer = setInterval(function(root) {\n",
              "      if (root.Bokeh !== undefined) {\n",
              "        embed_document(root);\n",
              "        clearInterval(timer);\n",
              "      }\n",
              "      attempts++;\n",
              "      if (attempts > 100) {\n",
              "        console.log(\"Bokeh: ERROR: Unable to run BokehJS code because BokehJS library is missing\");\n",
              "        clearInterval(timer);\n",
              "      }\n",
              "    }, 10, root)\n",
              "  }\n",
              "})(window);"
            ],
            "application/vnd.bokehjs_exec.v0+json": ""
          },
          "metadata": {
            "tags": [],
            "application/vnd.bokehjs_exec.v0+json": {
              "id": "2243"
            }
          }
        },
        {
          "output_type": "display_data",
          "data": {
            "text/plain": [
              "<IPython.core.display.HTML object>"
            ],
            "text/html": [
              "<div id=\"id_9\"> </div>"
            ]
          },
          "metadata": {
            "tags": []
          }
        }
      ]
    }
  ]
}