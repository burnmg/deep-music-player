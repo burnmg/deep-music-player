{
  "nbformat": 4,
  "nbformat_minor": 0,
  "metadata": {
    "colab": {
      "name": "model_mid.ipynb",
      "version": "0.3.2",
      "provenance": [],
      "collapsed_sections": [],
      "toc_visible": true
    },
    "kernelspec": {
      "name": "python3",
      "display_name": "Python 3"
    },
    "accelerator": "GPU"
  },
  "cells": [
    {
      "cell_type": "code",
      "metadata": {
        "id": "V8rDHr575m3m",
        "colab_type": "code",
        "colab": {}
      },
      "source": [
        "# !pip install tensorflow-gpu==2.0.0-alpha0\n"
      ],
      "execution_count": 0,
      "outputs": []
    },
    {
      "cell_type": "code",
      "metadata": {
        "id": "gZ4Zpfeg6Pti",
        "colab_type": "code",
        "colab": {}
      },
      "source": [
        "import tensorflow as tf\n",
        "from tensorflow import keras\n",
        "from tensorflow.keras.layers import Dense, GRU, Dropout, Embedding\n",
        "from music21 import converter, instrument, note, chord, pitch\n",
        "from google.colab import drive\n",
        "import numpy as np\n",
        "import time\n",
        "import glob\n",
        "import pickle\n"
      ],
      "execution_count": 0,
      "outputs": []
    },
    {
      "cell_type": "code",
      "metadata": {
        "id": "r3DDtqkY061Y",
        "colab_type": "code",
        "outputId": "92e09828-287e-44d0-fd78-b37745a4fce1",
        "colab": {
          "base_uri": "https://localhost:8080/",
          "height": 124
        }
      },
      "source": [
        "drive.mount('/content/gdrive')"
      ],
      "execution_count": 3,
      "outputs": [
        {
          "output_type": "stream",
          "text": [
            "Go to this URL in a browser: https://accounts.google.com/o/oauth2/auth?client_id=947318989803-6bn6qk8qdgf4n4g3pfee6491hc0brc4i.apps.googleusercontent.com&redirect_uri=urn%3Aietf%3Awg%3Aoauth%3A2.0%3Aoob&scope=email%20https%3A%2F%2Fwww.googleapis.com%2Fauth%2Fdocs.test%20https%3A%2F%2Fwww.googleapis.com%2Fauth%2Fdrive%20https%3A%2F%2Fwww.googleapis.com%2Fauth%2Fdrive.photos.readonly%20https%3A%2F%2Fwww.googleapis.com%2Fauth%2Fpeopleapi.readonly&response_type=code\n",
            "\n",
            "Enter your authorization code:\n",
            "··········\n",
            "Mounted at /content/gdrive\n"
          ],
          "name": "stdout"
        }
      ]
    },
    {
      "cell_type": "code",
      "metadata": {
        "id": "V1NHWHqjzR2w",
        "colab_type": "code",
        "colab": {}
      },
      "source": [
        "data_path = \"/content/gdrive/My Drive/Applied Deep Learning/Data/\""
      ],
      "execution_count": 0,
      "outputs": []
    },
    {
      "cell_type": "code",
      "metadata": {
        "id": "Z-WKwrv24GRn",
        "colab_type": "code",
        "colab": {}
      },
      "source": [
        "def get_notes(filename):\n",
        "  notes = []\n",
        "  midi = converter.parse(filename)\n",
        "  notes_to_parse = None\n",
        "  try:  # file has instrument parts\n",
        "    s2 = instrument.partitionByInstrument(midi)\n",
        "    notes_to_parse = s2.parts[0].recurse() \n",
        "  except:  # file has notes in a flat structure\n",
        "    notes_to_parse = midi.flat.notes\n",
        "\n",
        "  for element in notes_to_parse:\n",
        "    \n",
        "    new_chord = [-1] * 6 # 5 pitches + 1 duration\n",
        "    \n",
        "    if isinstance(element, note.Note):\n",
        "      new_chord[0] = element.pitch.ps\n",
        "      new_chord[5] = round(float(element.duration.quarterLength), 3)\n",
        "      notes.append(new_chord)\n",
        "    elif isinstance(element, chord.Chord):\n",
        "      new_chord[5] = round(float(element.duration.quarterLength), 3)\n",
        "      \n",
        "      for k in range(len(element.pitches)):\n",
        "        new_chord[k] = element.pitches[k].ps\n",
        "        \n",
        "        if k >= len(new_chord) - 1:\n",
        "          break\n",
        "\n",
        "      notes.append(new_chord)\n",
        "\n",
        "  return notes\n"
      ],
      "execution_count": 0,
      "outputs": []
    },
    {
      "cell_type": "code",
      "metadata": {
        "id": "2Gu8nghH0KHU",
        "colab_type": "code",
        "colab": {}
      },
      "source": [
        "# pitch.Pitch(62)"
      ],
      "execution_count": 0,
      "outputs": []
    },
    {
      "cell_type": "code",
      "metadata": {
        "id": "9NLO1eNP8BtW",
        "colab_type": "code",
        "outputId": "78edf318-086a-477d-b71b-39cec8446c64",
        "colab": {
          "base_uri": "https://localhost:8080/",
          "height": 864
        }
      },
      "source": [
        "from magenta.music import abc_parser as abc_parser\n",
        "import numpy as np\n",
        "\n",
        "MAX_NOTES = 2500\n",
        "NUM_PARAM = 5 + 1 # 5 pitches + 1 duration\n",
        "\n",
        "# 3D numpy array: num songs x MAX_NOTES x NUM_PARAM\n",
        "all_songs_data = np.empty((1, MAX_NOTES, NUM_PARAM), np.float64)\n",
        "\n",
        "for f in glob.glob(data_path + '*.mid'):\n",
        "  song_notes = get_notes(f)\n",
        "\n",
        "  temp_data = np.empty((1, 1, NUM_PARAM), np.float64)\n",
        "  notes_data = np.zeros((1, MAX_NOTES, NUM_PARAM)) - 1\n",
        "  \n",
        "  for elem in song_notes:\n",
        "    # Convert notes into a 2D numpy array\n",
        "    # The 1st dimension is 5 pitches and 1 duration\n",
        "    # The 2nd dimension is the number of notes\n",
        "    raw_notes = np.array([[elem]]) \n",
        "    temp_data = np.append(temp_data, raw_notes, axis=1)\n",
        "  \n",
        "  temp_data = temp_data[:, 1:, :]\n",
        "  notes_data[0, :temp_data.shape[1],:temp_data.shape[2]] = temp_data\n",
        "#   print('notes_data = ', notes_data)\n",
        "  \n",
        "  all_songs_data = np.append(all_songs_data, notes_data, axis=0)\n",
        "\n",
        "  \n",
        "all_songs_data = all_songs_data[1:,:,:]\n",
        "print(all_songs_data)\n"
      ],
      "execution_count": 132,
      "outputs": [
        {
          "output_type": "stream",
          "text": [
            "[[[52.    57.    -1.    -1.    -1.     0.75 ]\n",
            "  [40.    -1.    -1.    -1.    -1.     0.75 ]\n",
            "  [33.    40.    -1.    -1.    -1.     0.75 ]\n",
            "  ...\n",
            "  [-1.    -1.    -1.    -1.    -1.    -1.   ]\n",
            "  [-1.    -1.    -1.    -1.    -1.    -1.   ]\n",
            "  [-1.    -1.    -1.    -1.    -1.    -1.   ]]\n",
            "\n",
            " [[72.    -1.    -1.    -1.    -1.     1.   ]\n",
            "  [64.    -1.    -1.    -1.    -1.     1.333]\n",
            "  [36.    -1.    -1.    -1.    -1.     2.   ]\n",
            "  ...\n",
            "  [-1.    -1.    -1.    -1.    -1.    -1.   ]\n",
            "  [-1.    -1.    -1.    -1.    -1.    -1.   ]\n",
            "  [-1.    -1.    -1.    -1.    -1.    -1.   ]]\n",
            "\n",
            " [[-1.    -1.    -1.    -1.    -1.    -1.   ]\n",
            "  [-1.    -1.    -1.    -1.    -1.    -1.   ]\n",
            "  [-1.    -1.    -1.    -1.    -1.    -1.   ]\n",
            "  ...\n",
            "  [-1.    -1.    -1.    -1.    -1.    -1.   ]\n",
            "  [-1.    -1.    -1.    -1.    -1.    -1.   ]\n",
            "  [-1.    -1.    -1.    -1.    -1.    -1.   ]]\n",
            "\n",
            " ...\n",
            "\n",
            " [[89.    -1.    -1.    -1.    -1.     9.   ]\n",
            "  [50.    -1.    -1.    -1.    -1.     0.5  ]\n",
            "  [61.    -1.    -1.    -1.    -1.     0.5  ]\n",
            "  ...\n",
            "  [-1.    -1.    -1.    -1.    -1.    -1.   ]\n",
            "  [-1.    -1.    -1.    -1.    -1.    -1.   ]\n",
            "  [-1.    -1.    -1.    -1.    -1.    -1.   ]]\n",
            "\n",
            " [[78.    -1.    -1.    -1.    -1.     0.5  ]\n",
            "  [62.    69.    74.    76.    -1.     3.75 ]\n",
            "  [81.    -1.    -1.    -1.    -1.     0.5  ]\n",
            "  ...\n",
            "  [-1.    -1.    -1.    -1.    -1.    -1.   ]\n",
            "  [-1.    -1.    -1.    -1.    -1.    -1.   ]\n",
            "  [-1.    -1.    -1.    -1.    -1.    -1.   ]]\n",
            "\n",
            " [[70.    -1.    -1.    -1.    -1.     2.   ]\n",
            "  [62.    -1.    -1.    -1.    -1.     2.   ]\n",
            "  [70.    -1.    -1.    -1.    -1.     0.25 ]\n",
            "  ...\n",
            "  [-1.    -1.    -1.    -1.    -1.    -1.   ]\n",
            "  [-1.    -1.    -1.    -1.    -1.    -1.   ]\n",
            "  [-1.    -1.    -1.    -1.    -1.    -1.   ]]]\n"
          ],
          "name": "stdout"
        }
      ]
    },
    {
      "cell_type": "code",
      "metadata": {
        "id": "K9C0kgHdIxGX",
        "colab_type": "code",
        "outputId": "8aacdb79-d681-481f-be4e-f43e4ab165ee",
        "colab": {
          "base_uri": "https://localhost:8080/",
          "height": 34
        }
      },
      "source": [
        "all_songs_data.shape"
      ],
      "execution_count": 133,
      "outputs": [
        {
          "output_type": "execute_result",
          "data": {
            "text/plain": [
              "(92, 2500, 6)"
            ]
          },
          "metadata": {
            "tags": []
          },
          "execution_count": 133
        }
      ]
    },
    {
      "cell_type": "code",
      "metadata": {
        "id": "g_XwN_rkI715",
        "colab_type": "code",
        "colab": {}
      },
      "source": [
        "import pickle\n",
        "\n",
        "pickle.dump( all_songs_data, open( \"all_songs_data.p\", \"wb\" ) )\n",
        "\n",
        "all_songs_data = pickle.load( open( \"all_songs_data.p\", \"rb\" ) )"
      ],
      "execution_count": 0,
      "outputs": []
    },
    {
      "cell_type": "markdown",
      "metadata": {
        "id": "tmNGau8xdn1k",
        "colab_type": "text"
      },
      "source": [
        "# Convert to Music"
      ]
    },
    {
      "cell_type": "code",
      "metadata": {
        "id": "Ov4vxydVshVQ",
        "colab_type": "code",
        "outputId": "147bee9f-be98-4da5-e3cb-686fd48a4768",
        "colab": {
          "base_uri": "https://localhost:8080/",
          "height": 69
        }
      },
      "source": [
        "import ctypes.util\n",
        "orig_ctypes_util_find_library = ctypes.util.find_library\n",
        "def proxy_find_library(lib):\n",
        "  if lib == 'fluidsynth':\n",
        "    return 'libfluidsynth.so.1'\n",
        "  else:\n",
        "    return orig_ctypes_util_find_library(lib)\n",
        "ctypes.util.find_library = proxy_find_library\n",
        "\n",
        "from google.colab import files\n",
        "\n",
        "import magenta.music as mm\n",
        "import magenta\n",
        "import tensorflow\n",
        "\n",
        "print ('🎉 Done!')\n",
        "print (magenta.__version__ )\n",
        "print (tensorflow.__version__)"
      ],
      "execution_count": 107,
      "outputs": [
        {
          "output_type": "stream",
          "text": [
            "🎉 Done!\n",
            "0.3.19\n",
            "1.13.1\n"
          ],
          "name": "stdout"
        }
      ]
    },
    {
      "cell_type": "code",
      "metadata": {
        "id": "yX7HitrdmHjI",
        "colab_type": "code",
        "colab": {}
      },
      "source": [
        "import numpy as np"
      ],
      "execution_count": 0,
      "outputs": []
    },
    {
      "cell_type": "code",
      "metadata": {
        "id": "vlpDFbUpstxL",
        "colab_type": "code",
        "colab": {}
      },
      "source": [
        "all_songs_data = all_songs_data[:,:100,:]"
      ],
      "execution_count": 0,
      "outputs": []
    },
    {
      "cell_type": "code",
      "metadata": {
        "id": "_C2AvvQotljs",
        "colab_type": "code",
        "colab": {
          "base_uri": "https://localhost:8080/",
          "height": 864
        },
        "outputId": "35da5b6f-e695-4e33-a06f-dfb810ba3725"
      },
      "source": [
        "all_songs_data"
      ],
      "execution_count": 148,
      "outputs": [
        {
          "output_type": "execute_result",
          "data": {
            "text/plain": [
              "array([[[52.   , 57.   , -1.   , -1.   , -1.   ,  0.75 ],\n",
              "        [40.   , -1.   , -1.   , -1.   , -1.   ,  0.75 ],\n",
              "        [33.   , 40.   , -1.   , -1.   , -1.   ,  0.75 ],\n",
              "        ...,\n",
              "        [43.   , -1.   , -1.   , -1.   , -1.   ,  0.5  ],\n",
              "        [47.   , -1.   , -1.   , -1.   , -1.   ,  0.5  ],\n",
              "        [51.   , -1.   , -1.   , -1.   , -1.   ,  0.5  ]],\n",
              "\n",
              "       [[72.   , -1.   , -1.   , -1.   , -1.   ,  1.   ],\n",
              "        [64.   , -1.   , -1.   , -1.   , -1.   ,  1.333],\n",
              "        [36.   , -1.   , -1.   , -1.   , -1.   ,  2.   ],\n",
              "        ...,\n",
              "        [74.   , -1.   , -1.   , -1.   , -1.   ,  2.333],\n",
              "        [31.   , -1.   , -1.   , -1.   , -1.   ,  2.   ],\n",
              "        [31.   , -1.   , -1.   , -1.   , -1.   ,  2.   ]],\n",
              "\n",
              "       [[-1.   , -1.   , -1.   , -1.   , -1.   , -1.   ],\n",
              "        [-1.   , -1.   , -1.   , -1.   , -1.   , -1.   ],\n",
              "        [-1.   , -1.   , -1.   , -1.   , -1.   , -1.   ],\n",
              "        ...,\n",
              "        [-1.   , -1.   , -1.   , -1.   , -1.   , -1.   ],\n",
              "        [-1.   , -1.   , -1.   , -1.   , -1.   , -1.   ],\n",
              "        [-1.   , -1.   , -1.   , -1.   , -1.   , -1.   ]],\n",
              "\n",
              "       ...,\n",
              "\n",
              "       [[89.   , -1.   , -1.   , -1.   , -1.   ,  9.   ],\n",
              "        [50.   , -1.   , -1.   , -1.   , -1.   ,  0.5  ],\n",
              "        [61.   , -1.   , -1.   , -1.   , -1.   ,  0.5  ],\n",
              "        ...,\n",
              "        [50.   , -1.   , -1.   , -1.   , -1.   ,  0.5  ],\n",
              "        [61.   , -1.   , -1.   , -1.   , -1.   ,  0.5  ],\n",
              "        [57.   , -1.   , -1.   , -1.   , -1.   ,  0.5  ]],\n",
              "\n",
              "       [[78.   , -1.   , -1.   , -1.   , -1.   ,  0.5  ],\n",
              "        [62.   , 69.   , 74.   , 76.   , -1.   ,  3.75 ],\n",
              "        [81.   , -1.   , -1.   , -1.   , -1.   ,  0.5  ],\n",
              "        ...,\n",
              "        [49.   , -1.   , -1.   , -1.   , -1.   ,  0.5  ],\n",
              "        [66.   , 71.   , -1.   , -1.   , -1.   ,  0.5  ],\n",
              "        [57.   , -1.   , -1.   , -1.   , -1.   ,  0.5  ]],\n",
              "\n",
              "       [[70.   , -1.   , -1.   , -1.   , -1.   ,  2.   ],\n",
              "        [62.   , -1.   , -1.   , -1.   , -1.   ,  2.   ],\n",
              "        [70.   , -1.   , -1.   , -1.   , -1.   ,  0.25 ],\n",
              "        ...,\n",
              "        [70.   , -1.   , -1.   , -1.   , -1.   ,  0.25 ],\n",
              "        [72.   , -1.   , -1.   , -1.   , -1.   ,  0.25 ],\n",
              "        [73.   , -1.   , -1.   , -1.   , -1.   ,  0.5  ]]])"
            ]
          },
          "metadata": {
            "tags": []
          },
          "execution_count": 148
        }
      ]
    },
    {
      "cell_type": "code",
      "metadata": {
        "id": "voAJmOdRqH9p",
        "colab_type": "code",
        "colab": {}
      },
      "source": [
        "from magenta.protobuf import music_pb2\n",
        "\n",
        "magenta_songs = []\n",
        "\n",
        "for k in range(all_songs_data.shape[0]):\n",
        "  song = music_pb2.NoteSequence()\n",
        "\n",
        "  st_time = 0\n",
        "  end_time = 0\n",
        "  \n",
        "  for m in range(all_songs_data.shape[1]):\n",
        "    # Add the notes to the sequence.\n",
        "    if all_songs_data[k,m,5] >= 0:\n",
        "      st_time = end_time\n",
        "      end_time = st_time + all_songs_data[k,m,5]\n",
        "\n",
        "      for n in range(1):\n",
        "#       for n in range(all_songs_data.shape[2]-1):\n",
        "        pitch = int(all_songs_data[k,m,n])\n",
        "\n",
        "        if pitch != -1:\n",
        "          song.notes.add(pitch=pitch, \n",
        "                         start_time=st_time, \n",
        "                         end_time=end_time)\n",
        "  \n",
        "  magenta_songs.append(song)\n"
      ],
      "execution_count": 0,
      "outputs": []
    },
    {
      "cell_type": "code",
      "metadata": {
        "id": "BEiDeEBPtJuH",
        "colab_type": "code",
        "outputId": "cfce99ab-6a24-45cb-9bfc-4df1422f338f",
        "colab": {
          "base_uri": "https://localhost:8080/",
          "height": 359
        }
      },
      "source": [
        "k = 6\n",
        "\n",
        "# for k in range(len(magenta_songs)):\n",
        "magenta_songs[k].total_time = 120\n",
        "magenta_songs[k].tempos.add(qpm=100);\n",
        "# This is a colab utility method that visualizes a NoteSequence.\n",
        "mm.plot_sequence(magenta_songs[k])\n",
        "\n",
        "# This is a colab utility method that plays a NoteSequence.\n",
        "# mm.play_sequence(magenta_songs[k],synth=mm.fluidsynth)\n",
        "mm.play_sequence(magenta_songs[k],synth=mm.synthesize)\n"
      ],
      "execution_count": 151,
      "outputs": [
        {
          "output_type": "display_data",
          "data": {
            "text/html": [
              "\n",
              "    <div class=\"bk-root\">\n",
              "        <a href=\"https://bokeh.pydata.org\" target=\"_blank\" class=\"bk-logo bk-logo-small bk-logo-notebook\"></a>\n",
              "        <span id=\"3706\">Loading BokehJS ...</span>\n",
              "    </div>"
            ]
          },
          "metadata": {
            "tags": []
          }
        },
        {
          "output_type": "display_data",
          "data": {
            "application/javascript": [
              "\n",
              "(function(root) {\n",
              "  function now() {\n",
              "    return new Date();\n",
              "  }\n",
              "\n",
              "  var force = true;\n",
              "\n",
              "  if (typeof (root._bokeh_onload_callbacks) === \"undefined\" || force === true) {\n",
              "    root._bokeh_onload_callbacks = [];\n",
              "    root._bokeh_is_loading = undefined;\n",
              "  }\n",
              "\n",
              "  var JS_MIME_TYPE = 'application/javascript';\n",
              "  var HTML_MIME_TYPE = 'text/html';\n",
              "  var EXEC_MIME_TYPE = 'application/vnd.bokehjs_exec.v0+json';\n",
              "  var CLASS_NAME = 'output_bokeh rendered_html';\n",
              "\n",
              "  /**\n",
              "   * Render data to the DOM node\n",
              "   */\n",
              "  function render(props, node) {\n",
              "    var script = document.createElement(\"script\");\n",
              "    node.appendChild(script);\n",
              "  }\n",
              "\n",
              "  /**\n",
              "   * Handle when an output is cleared or removed\n",
              "   */\n",
              "  function handleClearOutput(event, handle) {\n",
              "    var cell = handle.cell;\n",
              "\n",
              "    var id = cell.output_area._bokeh_element_id;\n",
              "    var server_id = cell.output_area._bokeh_server_id;\n",
              "    // Clean up Bokeh references\n",
              "    if (id != null && id in Bokeh.index) {\n",
              "      Bokeh.index[id].model.document.clear();\n",
              "      delete Bokeh.index[id];\n",
              "    }\n",
              "\n",
              "    if (server_id !== undefined) {\n",
              "      // Clean up Bokeh references\n",
              "      var cmd = \"from bokeh.io.state import curstate; print(curstate().uuid_to_server['\" + server_id + \"'].get_sessions()[0].document.roots[0]._id)\";\n",
              "      cell.notebook.kernel.execute(cmd, {\n",
              "        iopub: {\n",
              "          output: function(msg) {\n",
              "            var id = msg.content.text.trim();\n",
              "            if (id in Bokeh.index) {\n",
              "              Bokeh.index[id].model.document.clear();\n",
              "              delete Bokeh.index[id];\n",
              "            }\n",
              "          }\n",
              "        }\n",
              "      });\n",
              "      // Destroy server and session\n",
              "      var cmd = \"import bokeh.io.notebook as ion; ion.destroy_server('\" + server_id + \"')\";\n",
              "      cell.notebook.kernel.execute(cmd);\n",
              "    }\n",
              "  }\n",
              "\n",
              "  /**\n",
              "   * Handle when a new output is added\n",
              "   */\n",
              "  function handleAddOutput(event, handle) {\n",
              "    var output_area = handle.output_area;\n",
              "    var output = handle.output;\n",
              "\n",
              "    // limit handleAddOutput to display_data with EXEC_MIME_TYPE content only\n",
              "    if ((output.output_type != \"display_data\") || (!output.data.hasOwnProperty(EXEC_MIME_TYPE))) {\n",
              "      return\n",
              "    }\n",
              "\n",
              "    var toinsert = output_area.element.find(\".\" + CLASS_NAME.split(' ')[0]);\n",
              "\n",
              "    if (output.metadata[EXEC_MIME_TYPE][\"id\"] !== undefined) {\n",
              "      toinsert[toinsert.length - 1].firstChild.textContent = output.data[JS_MIME_TYPE];\n",
              "      // store reference to embed id on output_area\n",
              "      output_area._bokeh_element_id = output.metadata[EXEC_MIME_TYPE][\"id\"];\n",
              "    }\n",
              "    if (output.metadata[EXEC_MIME_TYPE][\"server_id\"] !== undefined) {\n",
              "      var bk_div = document.createElement(\"div\");\n",
              "      bk_div.innerHTML = output.data[HTML_MIME_TYPE];\n",
              "      var script_attrs = bk_div.children[0].attributes;\n",
              "      for (var i = 0; i < script_attrs.length; i++) {\n",
              "        toinsert[toinsert.length - 1].firstChild.setAttribute(script_attrs[i].name, script_attrs[i].value);\n",
              "      }\n",
              "      // store reference to server id on output_area\n",
              "      output_area._bokeh_server_id = output.metadata[EXEC_MIME_TYPE][\"server_id\"];\n",
              "    }\n",
              "  }\n",
              "\n",
              "  function register_renderer(events, OutputArea) {\n",
              "\n",
              "    function append_mime(data, metadata, element) {\n",
              "      // create a DOM node to render to\n",
              "      var toinsert = this.create_output_subarea(\n",
              "        metadata,\n",
              "        CLASS_NAME,\n",
              "        EXEC_MIME_TYPE\n",
              "      );\n",
              "      this.keyboard_manager.register_events(toinsert);\n",
              "      // Render to node\n",
              "      var props = {data: data, metadata: metadata[EXEC_MIME_TYPE]};\n",
              "      render(props, toinsert[toinsert.length - 1]);\n",
              "      element.append(toinsert);\n",
              "      return toinsert\n",
              "    }\n",
              "\n",
              "    /* Handle when an output is cleared or removed */\n",
              "    events.on('clear_output.CodeCell', handleClearOutput);\n",
              "    events.on('delete.Cell', handleClearOutput);\n",
              "\n",
              "    /* Handle when a new output is added */\n",
              "    events.on('output_added.OutputArea', handleAddOutput);\n",
              "\n",
              "    /**\n",
              "     * Register the mime type and append_mime function with output_area\n",
              "     */\n",
              "    OutputArea.prototype.register_mime_type(EXEC_MIME_TYPE, append_mime, {\n",
              "      /* Is output safe? */\n",
              "      safe: true,\n",
              "      /* Index of renderer in `output_area.display_order` */\n",
              "      index: 0\n",
              "    });\n",
              "  }\n",
              "\n",
              "  // register the mime type if in Jupyter Notebook environment and previously unregistered\n",
              "  if (root.Jupyter !== undefined) {\n",
              "    var events = require('base/js/events');\n",
              "    var OutputArea = require('notebook/js/outputarea').OutputArea;\n",
              "\n",
              "    if (OutputArea.prototype.mime_types().indexOf(EXEC_MIME_TYPE) == -1) {\n",
              "      register_renderer(events, OutputArea);\n",
              "    }\n",
              "  }\n",
              "\n",
              "  \n",
              "  if (typeof (root._bokeh_timeout) === \"undefined\" || force === true) {\n",
              "    root._bokeh_timeout = Date.now() + 5000;\n",
              "    root._bokeh_failed_load = false;\n",
              "  }\n",
              "\n",
              "  var NB_LOAD_WARNING = {'data': {'text/html':\n",
              "     \"<div style='background-color: #fdd'>\\n\"+\n",
              "     \"<p>\\n\"+\n",
              "     \"BokehJS does not appear to have successfully loaded. If loading BokehJS from CDN, this \\n\"+\n",
              "     \"may be due to a slow or bad network connection. Possible fixes:\\n\"+\n",
              "     \"</p>\\n\"+\n",
              "     \"<ul>\\n\"+\n",
              "     \"<li>re-rerun `output_notebook()` to attempt to load from CDN again, or</li>\\n\"+\n",
              "     \"<li>use INLINE resources instead, as so:</li>\\n\"+\n",
              "     \"</ul>\\n\"+\n",
              "     \"<code>\\n\"+\n",
              "     \"from bokeh.resources import INLINE\\n\"+\n",
              "     \"output_notebook(resources=INLINE)\\n\"+\n",
              "     \"</code>\\n\"+\n",
              "     \"</div>\"}};\n",
              "\n",
              "  function display_loaded() {\n",
              "    var el = document.getElementById(\"3706\");\n",
              "    if (el != null) {\n",
              "      el.textContent = \"BokehJS is loading...\";\n",
              "    }\n",
              "    if (root.Bokeh !== undefined) {\n",
              "      if (el != null) {\n",
              "        el.textContent = \"BokehJS \" + root.Bokeh.version + \" successfully loaded.\";\n",
              "      }\n",
              "    } else if (Date.now() < root._bokeh_timeout) {\n",
              "      setTimeout(display_loaded, 100)\n",
              "    }\n",
              "  }\n",
              "\n",
              "\n",
              "  function run_callbacks() {\n",
              "    try {\n",
              "      root._bokeh_onload_callbacks.forEach(function(callback) { callback() });\n",
              "    }\n",
              "    finally {\n",
              "      delete root._bokeh_onload_callbacks\n",
              "    }\n",
              "    console.info(\"Bokeh: all callbacks have finished\");\n",
              "  }\n",
              "\n",
              "  function load_libs(js_urls, callback) {\n",
              "    root._bokeh_onload_callbacks.push(callback);\n",
              "    if (root._bokeh_is_loading > 0) {\n",
              "      console.log(\"Bokeh: BokehJS is being loaded, scheduling callback at\", now());\n",
              "      return null;\n",
              "    }\n",
              "    if (js_urls == null || js_urls.length === 0) {\n",
              "      run_callbacks();\n",
              "      return null;\n",
              "    }\n",
              "    console.log(\"Bokeh: BokehJS not loaded, scheduling load and callback at\", now());\n",
              "    root._bokeh_is_loading = js_urls.length;\n",
              "    for (var i = 0; i < js_urls.length; i++) {\n",
              "      var url = js_urls[i];\n",
              "      var s = document.createElement('script');\n",
              "      s.src = url;\n",
              "      s.async = false;\n",
              "      s.onreadystatechange = s.onload = function() {\n",
              "        root._bokeh_is_loading--;\n",
              "        if (root._bokeh_is_loading === 0) {\n",
              "          console.log(\"Bokeh: all BokehJS libraries loaded\");\n",
              "          run_callbacks()\n",
              "        }\n",
              "      };\n",
              "      s.onerror = function() {\n",
              "        console.warn(\"failed to load library \" + url);\n",
              "      };\n",
              "      console.log(\"Bokeh: injecting script tag for BokehJS library: \", url);\n",
              "      document.getElementsByTagName(\"head\")[0].appendChild(s);\n",
              "    }\n",
              "  };var element = document.getElementById(\"3706\");\n",
              "  if (element == null) {\n",
              "    console.log(\"Bokeh: ERROR: autoload.js configured with elementid '3706' but no matching script tag was found. \")\n",
              "    return false;\n",
              "  }\n",
              "\n",
              "  var js_urls = [\"https://cdn.pydata.org/bokeh/release/bokeh-1.0.4.min.js\", \"https://cdn.pydata.org/bokeh/release/bokeh-widgets-1.0.4.min.js\", \"https://cdn.pydata.org/bokeh/release/bokeh-tables-1.0.4.min.js\", \"https://cdn.pydata.org/bokeh/release/bokeh-gl-1.0.4.min.js\"];\n",
              "\n",
              "  var inline_js = [\n",
              "    function(Bokeh) {\n",
              "      Bokeh.set_log_level(\"info\");\n",
              "    },\n",
              "    \n",
              "    function(Bokeh) {\n",
              "      \n",
              "    },\n",
              "    function(Bokeh) {\n",
              "      console.log(\"Bokeh: injecting CSS: https://cdn.pydata.org/bokeh/release/bokeh-1.0.4.min.css\");\n",
              "      Bokeh.embed.inject_css(\"https://cdn.pydata.org/bokeh/release/bokeh-1.0.4.min.css\");\n",
              "      console.log(\"Bokeh: injecting CSS: https://cdn.pydata.org/bokeh/release/bokeh-widgets-1.0.4.min.css\");\n",
              "      Bokeh.embed.inject_css(\"https://cdn.pydata.org/bokeh/release/bokeh-widgets-1.0.4.min.css\");\n",
              "      console.log(\"Bokeh: injecting CSS: https://cdn.pydata.org/bokeh/release/bokeh-tables-1.0.4.min.css\");\n",
              "      Bokeh.embed.inject_css(\"https://cdn.pydata.org/bokeh/release/bokeh-tables-1.0.4.min.css\");\n",
              "    }\n",
              "  ];\n",
              "\n",
              "  function run_inline_js() {\n",
              "    \n",
              "    if ((root.Bokeh !== undefined) || (force === true)) {\n",
              "      for (var i = 0; i < inline_js.length; i++) {\n",
              "        inline_js[i].call(root, root.Bokeh);\n",
              "      }if (force === true) {\n",
              "        display_loaded();\n",
              "      }} else if (Date.now() < root._bokeh_timeout) {\n",
              "      setTimeout(run_inline_js, 100);\n",
              "    } else if (!root._bokeh_failed_load) {\n",
              "      console.log(\"Bokeh: BokehJS failed to load within specified timeout.\");\n",
              "      root._bokeh_failed_load = true;\n",
              "    } else if (force !== true) {\n",
              "      var cell = $(document.getElementById(\"3706\")).parents('.cell').data().cell;\n",
              "      cell.output_area.append_execute_result(NB_LOAD_WARNING)\n",
              "    }\n",
              "\n",
              "  }\n",
              "\n",
              "  if (root._bokeh_is_loading === 0) {\n",
              "    console.log(\"Bokeh: BokehJS loaded, going straight to plotting\");\n",
              "    run_inline_js();\n",
              "  } else {\n",
              "    load_libs(js_urls, function() {\n",
              "      console.log(\"Bokeh: BokehJS plotting callback run at\", now());\n",
              "      run_inline_js();\n",
              "    });\n",
              "  }\n",
              "}(window));"
            ],
            "application/vnd.bokehjs_load.v0+json": "\n(function(root) {\n  function now() {\n    return new Date();\n  }\n\n  var force = true;\n\n  if (typeof (root._bokeh_onload_callbacks) === \"undefined\" || force === true) {\n    root._bokeh_onload_callbacks = [];\n    root._bokeh_is_loading = undefined;\n  }\n\n  \n\n  \n  if (typeof (root._bokeh_timeout) === \"undefined\" || force === true) {\n    root._bokeh_timeout = Date.now() + 5000;\n    root._bokeh_failed_load = false;\n  }\n\n  var NB_LOAD_WARNING = {'data': {'text/html':\n     \"<div style='background-color: #fdd'>\\n\"+\n     \"<p>\\n\"+\n     \"BokehJS does not appear to have successfully loaded. If loading BokehJS from CDN, this \\n\"+\n     \"may be due to a slow or bad network connection. Possible fixes:\\n\"+\n     \"</p>\\n\"+\n     \"<ul>\\n\"+\n     \"<li>re-rerun `output_notebook()` to attempt to load from CDN again, or</li>\\n\"+\n     \"<li>use INLINE resources instead, as so:</li>\\n\"+\n     \"</ul>\\n\"+\n     \"<code>\\n\"+\n     \"from bokeh.resources import INLINE\\n\"+\n     \"output_notebook(resources=INLINE)\\n\"+\n     \"</code>\\n\"+\n     \"</div>\"}};\n\n  function display_loaded() {\n    var el = document.getElementById(\"3706\");\n    if (el != null) {\n      el.textContent = \"BokehJS is loading...\";\n    }\n    if (root.Bokeh !== undefined) {\n      if (el != null) {\n        el.textContent = \"BokehJS \" + root.Bokeh.version + \" successfully loaded.\";\n      }\n    } else if (Date.now() < root._bokeh_timeout) {\n      setTimeout(display_loaded, 100)\n    }\n  }\n\n\n  function run_callbacks() {\n    try {\n      root._bokeh_onload_callbacks.forEach(function(callback) { callback() });\n    }\n    finally {\n      delete root._bokeh_onload_callbacks\n    }\n    console.info(\"Bokeh: all callbacks have finished\");\n  }\n\n  function load_libs(js_urls, callback) {\n    root._bokeh_onload_callbacks.push(callback);\n    if (root._bokeh_is_loading > 0) {\n      console.log(\"Bokeh: BokehJS is being loaded, scheduling callback at\", now());\n      return null;\n    }\n    if (js_urls == null || js_urls.length === 0) {\n      run_callbacks();\n      return null;\n    }\n    console.log(\"Bokeh: BokehJS not loaded, scheduling load and callback at\", now());\n    root._bokeh_is_loading = js_urls.length;\n    for (var i = 0; i < js_urls.length; i++) {\n      var url = js_urls[i];\n      var s = document.createElement('script');\n      s.src = url;\n      s.async = false;\n      s.onreadystatechange = s.onload = function() {\n        root._bokeh_is_loading--;\n        if (root._bokeh_is_loading === 0) {\n          console.log(\"Bokeh: all BokehJS libraries loaded\");\n          run_callbacks()\n        }\n      };\n      s.onerror = function() {\n        console.warn(\"failed to load library \" + url);\n      };\n      console.log(\"Bokeh: injecting script tag for BokehJS library: \", url);\n      document.getElementsByTagName(\"head\")[0].appendChild(s);\n    }\n  };var element = document.getElementById(\"3706\");\n  if (element == null) {\n    console.log(\"Bokeh: ERROR: autoload.js configured with elementid '3706' but no matching script tag was found. \")\n    return false;\n  }\n\n  var js_urls = [\"https://cdn.pydata.org/bokeh/release/bokeh-1.0.4.min.js\", \"https://cdn.pydata.org/bokeh/release/bokeh-widgets-1.0.4.min.js\", \"https://cdn.pydata.org/bokeh/release/bokeh-tables-1.0.4.min.js\", \"https://cdn.pydata.org/bokeh/release/bokeh-gl-1.0.4.min.js\"];\n\n  var inline_js = [\n    function(Bokeh) {\n      Bokeh.set_log_level(\"info\");\n    },\n    \n    function(Bokeh) {\n      \n    },\n    function(Bokeh) {\n      console.log(\"Bokeh: injecting CSS: https://cdn.pydata.org/bokeh/release/bokeh-1.0.4.min.css\");\n      Bokeh.embed.inject_css(\"https://cdn.pydata.org/bokeh/release/bokeh-1.0.4.min.css\");\n      console.log(\"Bokeh: injecting CSS: https://cdn.pydata.org/bokeh/release/bokeh-widgets-1.0.4.min.css\");\n      Bokeh.embed.inject_css(\"https://cdn.pydata.org/bokeh/release/bokeh-widgets-1.0.4.min.css\");\n      console.log(\"Bokeh: injecting CSS: https://cdn.pydata.org/bokeh/release/bokeh-tables-1.0.4.min.css\");\n      Bokeh.embed.inject_css(\"https://cdn.pydata.org/bokeh/release/bokeh-tables-1.0.4.min.css\");\n    }\n  ];\n\n  function run_inline_js() {\n    \n    if ((root.Bokeh !== undefined) || (force === true)) {\n      for (var i = 0; i < inline_js.length; i++) {\n        inline_js[i].call(root, root.Bokeh);\n      }if (force === true) {\n        display_loaded();\n      }} else if (Date.now() < root._bokeh_timeout) {\n      setTimeout(run_inline_js, 100);\n    } else if (!root._bokeh_failed_load) {\n      console.log(\"Bokeh: BokehJS failed to load within specified timeout.\");\n      root._bokeh_failed_load = true;\n    } else if (force !== true) {\n      var cell = $(document.getElementById(\"3706\")).parents('.cell').data().cell;\n      cell.output_area.append_execute_result(NB_LOAD_WARNING)\n    }\n\n  }\n\n  if (root._bokeh_is_loading === 0) {\n    console.log(\"Bokeh: BokehJS loaded, going straight to plotting\");\n    run_inline_js();\n  } else {\n    load_libs(js_urls, function() {\n      console.log(\"Bokeh: BokehJS plotting callback run at\", now());\n      run_inline_js();\n    });\n  }\n}(window));"
          },
          "metadata": {
            "tags": []
          }
        },
        {
          "output_type": "display_data",
          "data": {
            "text/html": [
              "\n",
              "\n",
              "\n",
              "\n",
              "\n",
              "\n",
              "  <div class=\"bk-root\" id=\"666429aa-9703-4816-850a-07a1d68833d4\" data-root-id=\"3657\"></div>\n"
            ]
          },
          "metadata": {
            "tags": []
          }
        },
        {
          "output_type": "display_data",
          "data": {
            "application/javascript": [
              "(function(root) {\n",
              "  function embed_document(root) {\n",
              "    \n",
              "  var docs_json = {\"b2c48f01-10c3-4fe7-858c-6dcc5437cca0\":{\"roots\":{\"references\":[{\"attributes\":{\"below\":[{\"id\":\"3666\",\"type\":\"LinearAxis\"}],\"left\":[{\"id\":\"3671\",\"type\":\"LinearAxis\"}],\"plot_height\":200,\"plot_width\":500,\"renderers\":[{\"id\":\"3666\",\"type\":\"LinearAxis\"},{\"id\":\"3670\",\"type\":\"Grid\"},{\"id\":\"3671\",\"type\":\"LinearAxis\"},{\"id\":\"3675\",\"type\":\"Grid\"},{\"id\":\"3683\",\"type\":\"BoxAnnotation\"},{\"id\":\"3696\",\"type\":\"GlyphRenderer\"}],\"title\":{\"id\":\"3698\",\"type\":\"Title\"},\"toolbar\":{\"id\":\"3681\",\"type\":\"Toolbar\"},\"x_range\":{\"id\":\"3658\",\"type\":\"DataRange1d\"},\"x_scale\":{\"id\":\"3662\",\"type\":\"LinearScale\"},\"y_range\":{\"id\":\"3660\",\"type\":\"DataRange1d\"},\"y_scale\":{\"id\":\"3664\",\"type\":\"LinearScale\"}},\"id\":\"3657\",\"subtype\":\"Figure\",\"type\":\"Plot\"},{\"attributes\":{\"callback\":null,\"tooltips\":[[\"pitch\",\"@pitch\"],[\"program\",\"@program\"],[\"velo\",\"@velocity\"],[\"duration\",\"@duration\"],[\"start_time\",\"@start_time\"],[\"end_time\",\"@end_time\"],[\"velocity\",\"@velocity\"],[\"fill_alpha\",\"@fill_alpha\"]]},\"id\":\"3676\",\"type\":\"HoverTool\"},{\"attributes\":{\"dimension\":1,\"plot\":{\"id\":\"3657\",\"subtype\":\"Figure\",\"type\":\"Plot\"},\"ticker\":{\"id\":\"3691\",\"type\":\"SingleIntervalTicker\"}},\"id\":\"3675\",\"type\":\"Grid\"},{\"attributes\":{\"plot\":{\"id\":\"3657\",\"subtype\":\"Figure\",\"type\":\"Plot\"},\"ticker\":{\"id\":\"3667\",\"type\":\"BasicTicker\"}},\"id\":\"3670\",\"type\":\"Grid\"},{\"attributes\":{\"bottom_units\":\"screen\",\"fill_alpha\":{\"value\":0.5},\"fill_color\":{\"value\":\"lightgrey\"},\"left_units\":\"screen\",\"level\":\"overlay\",\"line_alpha\":{\"value\":1.0},\"line_color\":{\"value\":\"black\"},\"line_dash\":[4,4],\"line_width\":{\"value\":2},\"plot\":null,\"render_mode\":\"css\",\"right_units\":\"screen\",\"top_units\":\"screen\"},\"id\":\"3683\",\"type\":\"BoxAnnotation\"},{\"attributes\":{\"data_source\":{\"id\":\"3692\",\"type\":\"ColumnDataSource\"},\"glyph\":{\"id\":\"3694\",\"type\":\"Quad\"},\"hover_glyph\":null,\"muted_glyph\":null,\"nonselection_glyph\":{\"id\":\"3695\",\"type\":\"Quad\"},\"selection_glyph\":null,\"view\":{\"id\":\"3697\",\"type\":\"CDSView\"}},\"id\":\"3696\",\"type\":\"GlyphRenderer\"},{\"attributes\":{\"active_drag\":\"auto\",\"active_inspect\":\"auto\",\"active_multi\":null,\"active_scroll\":\"auto\",\"active_tap\":\"auto\",\"tools\":[{\"id\":\"3676\",\"type\":\"HoverTool\"},{\"id\":\"3677\",\"type\":\"PanTool\"},{\"id\":\"3678\",\"type\":\"BoxZoomTool\"},{\"id\":\"3679\",\"type\":\"ResetTool\"},{\"id\":\"3680\",\"type\":\"SaveTool\"}]},\"id\":\"3681\",\"type\":\"Toolbar\"},{\"attributes\":{},\"id\":\"3704\",\"type\":\"Selection\"},{\"attributes\":{\"axis_label\":\"pitch (MIDI)\",\"formatter\":{\"id\":\"3702\",\"type\":\"BasicTickFormatter\"},\"plot\":{\"id\":\"3657\",\"subtype\":\"Figure\",\"type\":\"Plot\"},\"ticker\":{\"id\":\"3689\",\"type\":\"SingleIntervalTicker\"}},\"id\":\"3671\",\"type\":\"LinearAxis\"},{\"attributes\":{},\"id\":\"3700\",\"type\":\"BasicTickFormatter\"},{\"attributes\":{},\"id\":\"3664\",\"type\":\"LinearScale\"},{\"attributes\":{\"plot\":null,\"text\":\"\"},\"id\":\"3698\",\"type\":\"Title\"},{\"attributes\":{},\"id\":\"3679\",\"type\":\"ResetTool\"},{\"attributes\":{\"interval\":12},\"id\":\"3689\",\"type\":\"SingleIntervalTicker\"},{\"attributes\":{},\"id\":\"3680\",\"type\":\"SaveTool\"},{\"attributes\":{},\"id\":\"3677\",\"type\":\"PanTool\"},{\"attributes\":{\"bottom\":{\"field\":\"bottom\"},\"fill_alpha\":{\"value\":0.1},\"fill_color\":{\"value\":\"#1f77b4\"},\"left\":{\"field\":\"start_time\"},\"line_alpha\":{\"value\":0.1},\"line_color\":{\"value\":\"#1f77b4\"},\"right\":{\"field\":\"end_time\"},\"top\":{\"field\":\"top\"}},\"id\":\"3695\",\"type\":\"Quad\"},{\"attributes\":{},\"id\":\"3702\",\"type\":\"BasicTickFormatter\"},{\"attributes\":{\"callback\":null},\"id\":\"3660\",\"type\":\"DataRange1d\"},{\"attributes\":{\"callback\":null,\"data\":{\"bottom\":{\"__ndarray__\":\"zczMzMxMTkDNzMzMzExAQM3MzMzMTEZAzczMzMxMRkDNzMzMzExAQM3MzMzMTEBAzczMzMxMRkDNzMzMzExGQM3MzMzMTEBAzczMzMzMTkDNzMzMzExAQM3MzMzMTEZAzczMzMxMRkDNzMzMzExAQM3MzMzMTEBAzczMzMxMRkDNzMzMzExGQM3MzMzMTEBAzczMzMxMT0DNzMzMzExAQM3MzMzMTEZAzczMzMxMRkDNzMzMzExAQM3MzMzMTEBAzczMzMxMRkDNzMzMzExGQM3MzMzMTEBAzczMzMzMT0DNzMzMzExAQM3MzMzMTEZAzczMzMxMRkDNzMzMzExAQM3MzMzMTEBAzczMzMxMRkDNzMzMzExGQM3MzMzMTEBAzczMzMxMTkDNzMzMzExAQM3MzMzMTEBAzczMzMxMQEDNzMzMzExAQM3MzMzMzE1AzczMzMzMTUDNzMzMzMxNQM3MzMzMTE1AzczMzMxMRkDNzMzMzMxDQM3MzMzMzENAzczMzMzMQ0DNzMzMzMxOQM3MzMzMTEZAZmZmZmamUEDNzMzMzMxDQM3MzMzMzENAzczMzMzMQ0BmZmZmZqZRQM3MzMzMTEZAzczMzMzMQ0DNzMzMzMxDQM3MzMzMzENAZmZmZmZmUkDNzMzMzExLQM3MzMzMTEtAzczMzMxMS0DNzMzMzExNQM3MzMzMzEhAzczMzMxMTUDNzMzMzMxJQM3MzMzMTE1AzczMzMzMR0DNzMzMzMxNQM3MzMzMTEZAzczMzMzMQ0DNzMzMzMxDQM3MzMzMzENAZmZmZmYmUUDNzMzMzExGQM3MzMzMTEVAzczMzMxMR0DNzMzMzExFQM3MzMzMzE9AzczMzMxMRkDNzMzMzMxEQM3MzMzMTEVAzczMzMzMRUDNzMzMzMxNQM3MzMzMTEZAzczMzMzMTUDNzMzMzExGQM3MzMzMzE1AzczMzMxMRkDNzMzMzMxNQM3MzMzMTEZAzczMzMzMTkDNzMzMzMxGQM3MzMzMzE1AzczMzMxMRkDNzMzMzExMQM3MzMzMzE1AzczMzMzMRUA=\",\"dtype\":\"float64\",\"shape\":[100]},\"duration\":{\"__ndarray__\":\"AAAAAAAAH0CIFtnO91P1PwAAAAAAAOg/AAAAAAAA6D8AAAAAAADgP4gW2c73U/U/AAAAAAAA6D8AAAAAAADgPwAAAAAAAOg/AAAAAAAAH0CAFtnO91P1PwAAAAAAAOg/AAAAAAAA6D8AAAAAAADgP4AW2c73U/U/AAAAAAAA6D8AAAAAAADgPwAAAAAAAOg//P//////HkCAFtnO91P1PwAAAAAAAOg/AAAAAAAA6D8AAAAAAADgP4AW2c73U/U/AAAAAAAA6D8AAAAAAADgPwAAAAAAAOg/AAAAAAAAH0CAFtnO91P1PwAAAAAAAOg/AAAAAAAA6D8AAAAAAADgP4AW2c73U/U/AAAAAAAA6D8AAAAAAADgPwAAAAAAAOg/AAAAAAAADkAAAAAAAAD8PwAAAAAAAPw/AAAAAAAA/D8AAAAAAAD8PwBaZDvfT9U/AFpkO99P1T8AWmQ730/VPwAAAAAAAPw/AAAAAAAA6D8AWmQ730/VPwBaZDvfT9U/AFpkO99P1T8AAAAAAADoPwAAAAAAAOg/AAAAAAAA6D8AWmQ730/VPwBaZDvfT9U/AFpkO99P1T8AAAAAAAD8PwAAAAAAAOg/AFpkO99P1T8AWmQ730/VPwBaZDvfT9U/AAAAAAAA6D8AAAAAAADgPwAAAAAAAAAAAAAAAAAA0D8AWmQ730/VPwBaZDvfT9U/AFpkO99P1T8AWmQ730/VPwBaZDvfT9U/AFpkO99P1T8AAAAAAAD8PwAAAAAAAOg/AFpkO99P1T8AWmQ730/VPwBaZDvfT9U/AAAAAAAA/D8AAAAAAADoPwBaZDvfT9U/AFpkO99P1T8AWmQ730/VPwAAAAAAAPw/AAAAAAAA6D8AWmQ730/VPwBaZDvfT9U/AFpkO99P1T8AAAAAAADoPwAAAAAAAOg/AFpkO99P1T8AWmQ730/VPwBaZDvfT9U/AFpkO99P1T8AWmQ730/VPwBaZDvfT9U/AAAAAAAA6D8AAAAAAADoPwAAAAAAANA/AAAAAAAA0D8AAAAAAADgPwAAAAAAAOA/AAAAAAAA6D8=\",\"dtype\":\"float64\",\"shape\":[100]},\"end_time\":{\"__ndarray__\":\"AAAAAAAAH0DRItv5fioiQNEi2/l+qiNA0SLb+X4qJUDRItv5fiomQKJFtvP91ChAokW28/1UKkCiRbbz/VQrQKJFtvP91CxA0SLb+X4qNkA5tMh2vn83QDm0yHa+PzhAObTIdr7/OEA5tMh2vn85QKFFtvP91DpAoUW28/2UO0ChRbbz/RQ8QKFFtvP91DxA0CLb+X5KQkCE61G4HvVCQITrUbgeVUNAhOtRuB61Q0CE61G4HvVDQDi0yHa+n0RAOLTIdr7/REA4tMh2vj9FQDi0yHa+n0VAOLTIdr5/SUDsfD81XipKQOx8PzVeikpA7Hw/NV7qSkDsfD81XipLQKBFtvP91EtAoEW28/00TECgRbbz/XRMQKBFtvP91ExAoEW28/20TkCgRbbz/ZRPQNAi2/l+OlBA0CLb+X6qUEDQItv5fhpRQCqHFtnOL1FAhOtRuB5FUUDeT42XblpRQN5PjZduylFA3k+Nl276UUA4tMh2vg9SQJIYBFYOJVJA7Hw/NV46UkDsfD81XmpSQOx8PzVemlJA7Hw/NV7KUkBG4XoUrt9SQKBFtvP99FJA+qnx0k0KU0D6qfHSTXpTQPqp8dJNqlNAVA4tsp2/U0CucmiR7dRTQAjXo3A96lNACNejcD0aVEAI16NwPTpUQAjXo3A9OlRACNejcD1KVEBiO99PjV9UQLyfGi/ddFRAFgRWDi2KVEBwaJHtfJ9UQMrMzMzMtFRAJDEIrBzKVEAkMQisHDpVQCQxCKwcalVAfpVDi2x/VUDY+X5qvJRVQDJeukkMqlVAMl66SQwaVkAyXrpJDEpWQIzC9ShcX1ZA5iYxCKx0VkBAi2zn+4lWQECLbOf7+VZAQIts5/spV0Ca76fGSz9XQPRT46WbVFdATrgehetpV0BOuB6F65lXQE64HoXryVdAqBxaZDvfV0ACgZVDi/RXQFzl0CLbCVhAtkkMAisfWEAQrkfhejRYQGoSg8DKSVhAahKDwMp5WEBqEoPAyqlYQGoSg8DKuVhAahKDwMrJWEBqEoPAyulYQGoSg8DKCVlAahKDwMo5WUA=\",\"dtype\":\"float64\",\"shape\":[100]},\"fill_alpha\":{\"__ndarray__\":\"AAAAAAAA8D8AAAAAAADwPwAAAAAAAPA/AAAAAAAA8D8AAAAAAADwPwAAAAAAAPA/AAAAAAAA8D8AAAAAAADwPwAAAAAAAPA/AAAAAAAA8D8AAAAAAADwPwAAAAAAAPA/AAAAAAAA8D8AAAAAAADwPwAAAAAAAPA/AAAAAAAA8D8AAAAAAADwPwAAAAAAAPA/AAAAAAAA8D8AAAAAAADwPwAAAAAAAPA/AAAAAAAA8D8AAAAAAADwPwAAAAAAAPA/AAAAAAAA8D8AAAAAAADwPwAAAAAAAPA/AAAAAAAA8D8AAAAAAADwPwAAAAAAAPA/AAAAAAAA8D8AAAAAAADwPwAAAAAAAPA/AAAAAAAA8D8AAAAAAADwPwAAAAAAAPA/AAAAAAAA8D8AAAAAAADwPwAAAAAAAPA/AAAAAAAA8D8AAAAAAADwPwAAAAAAAPA/AAAAAAAA8D8AAAAAAADwPwAAAAAAAPA/AAAAAAAA8D8AAAAAAADwPwAAAAAAAPA/AAAAAAAA8D8AAAAAAADwPwAAAAAAAPA/AAAAAAAA8D8AAAAAAADwPwAAAAAAAPA/AAAAAAAA8D8AAAAAAADwPwAAAAAAAPA/AAAAAAAA8D8AAAAAAADwPwAAAAAAAPA/AAAAAAAA8D8AAAAAAADwPwAAAAAAAPA/AAAAAAAA8D8AAAAAAADwPwAAAAAAAPA/AAAAAAAA8D8AAAAAAADwPwAAAAAAAPA/AAAAAAAA8D8AAAAAAADwPwAAAAAAAPA/AAAAAAAA8D8AAAAAAADwPwAAAAAAAPA/AAAAAAAA8D8AAAAAAADwPwAAAAAAAPA/AAAAAAAA8D8AAAAAAADwPwAAAAAAAPA/AAAAAAAA8D8AAAAAAADwPwAAAAAAAPA/AAAAAAAA8D8AAAAAAADwPwAAAAAAAPA/AAAAAAAA8D8AAAAAAADwPwAAAAAAAPA/AAAAAAAA8D8AAAAAAADwPwAAAAAAAPA/AAAAAAAA8D8AAAAAAADwPwAAAAAAAPA/AAAAAAAA8D8AAAAAAADwPwAAAAAAAPA/AAAAAAAA8D8=\",\"dtype\":\"float64\",\"shape\":[100]},\"index\":[0,1,2,3,4,5,6,7,8,9,10,11,12,13,14,15,16,17,18,19,20,21,22,23,24,25,26,27,28,29,30,31,32,33,34,35,36,37,38,39,40,41,42,43,44,45,46,47,48,49,50,51,52,53,54,55,56,57,58,59,60,61,62,63,64,65,66,67,68,69,70,71,72,73,74,75,76,77,78,79,80,81,82,83,84,85,86,87,88,89,90,91,92,93,94,95,96,97,98,99],\"instrument\":[0,0,0,0,0,0,0,0,0,0,0,0,0,0,0,0,0,0,0,0,0,0,0,0,0,0,0,0,0,0,0,0,0,0,0,0,0,0,0,0,0,0,0,0,0,0,0,0,0,0,0,0,0,0,0,0,0,0,0,0,0,0,0,0,0,0,0,0,0,0,0,0,0,0,0,0,0,0,0,0,0,0,0,0,0,0,0,0,0,0,0,0,0,0,0,0,0,0,0,0],\"pitch\":[61,33,45,45,33,33,45,45,33,62,33,45,45,33,33,45,45,33,63,33,45,45,33,33,45,45,33,64,33,45,45,33,33,45,45,33,61,33,33,33,33,60,60,60,59,45,40,40,40,62,45,67,40,40,40,71,45,40,40,40,74,55,55,55,59,50,59,52,59,48,60,45,40,40,40,69,45,43,47,43,64,45,42,43,44,60,45,60,45,60,45,60,45,62,46,60,45,57,60,44],\"program\":[0,0,0,0,0,0,0,0,0,0,0,0,0,0,0,0,0,0,0,0,0,0,0,0,0,0,0,0,0,0,0,0,0,0,0,0,0,0,0,0,0,0,0,0,0,0,0,0,0,0,0,0,0,0,0,0,0,0,0,0,0,0,0,0,0,0,0,0,0,0,0,0,0,0,0,0,0,0,0,0,0,0,0,0,0,0,0,0,0,0,0,0,0,0,0,0,0,0,0,0],\"start_time\":{\"__ndarray__\":\"AAAAAAAAAAAAAAAAAAAfQNEi2/l+KiJA0SLb+X6qI0DRItv5fiolQNEi2/l+KiZAokW28/3UKECiRbbz/VQqQKJFtvP9VCtAokW28/3ULEDRItv5fio2QDm0yHa+fzdAObTIdr4/OEA5tMh2vv84QDm0yHa+fzlAoUW28/3UOkChRbbz/ZQ7QKFFtvP9FDxAoUW28/3UPEDQItv5fkpCQITrUbge9UJAhOtRuB5VQ0CE61G4HrVDQITrUbge9UNAOLTIdr6fREA4tMh2vv9EQDi0yHa+P0VAOLTIdr6fRUA4tMh2vn9JQOx8PzVeKkpA7Hw/NV6KSkDsfD81XupKQOx8PzVeKktAoEW28/3US0CgRbbz/TRMQKBFtvP9dExAoEW28/3UTECgRbbz/bROQKBFtvP9lE9A0CLb+X46UEDQItv5fqpQQNAi2/l+GlFAKocW2c4vUUCE61G4HkVRQN5PjZduWlFA3k+Nl27KUUDeT42XbvpRQDi0yHa+D1JAkhgEVg4lUkDsfD81XjpSQOx8PzVealJA7Hw/NV6aUkDsfD81XspSQEbhehSu31JAoEW28/30UkD6qfHSTQpTQPqp8dJNelNA+qnx0k2qU0BUDi2ynb9TQK5yaJHt1FNACNejcD3qU0AI16NwPRpUQAjXo3A9OlRACNejcD06VEAI16NwPUpUQGI730+NX1RAvJ8aL910VEAWBFYOLYpUQHBoke18n1RAyszMzMy0VEAkMQisHMpUQCQxCKwcOlVAJDEIrBxqVUB+lUOLbH9VQNj5fmq8lFVAMl66SQyqVUAyXrpJDBpWQDJeukkMSlZAjML1KFxfVkDmJjEIrHRWQECLbOf7iVZAQIts5/v5VkBAi2zn+ylXQJrvp8ZLP1dA9FPjpZtUV0BOuB6F62lXQE64HoXrmVdATrgehevJV0CoHFpkO99XQAKBlUOL9FdAXOXQItsJWEC2SQwCKx9YQBCuR+F6NFhAahKDwMpJWEBqEoPAynlYQGoSg8DKqVhAahKDwMq5WEBqEoPAyslYQGoSg8DK6VhAahKDwMoJWUA=\",\"dtype\":\"float64\",\"shape\":[100]},\"top\":{\"__ndarray__\":\"MzMzMzOzTkAzMzMzM7NAQDMzMzMzs0ZAMzMzMzOzRkAzMzMzM7NAQDMzMzMzs0BAMzMzMzOzRkAzMzMzM7NGQDMzMzMzs0BAMzMzMzMzT0AzMzMzM7NAQDMzMzMzs0ZAMzMzMzOzRkAzMzMzM7NAQDMzMzMzs0BAMzMzMzOzRkAzMzMzM7NGQDMzMzMzs0BAMzMzMzOzT0AzMzMzM7NAQDMzMzMzs0ZAMzMzMzOzRkAzMzMzM7NAQDMzMzMzs0BAMzMzMzOzRkAzMzMzM7NGQDMzMzMzs0BAmpmZmZkZUEAzMzMzM7NAQDMzMzMzs0ZAMzMzMzOzRkAzMzMzM7NAQDMzMzMzs0BAMzMzMzOzRkAzMzMzM7NGQDMzMzMzs0BAMzMzMzOzTkAzMzMzM7NAQDMzMzMzs0BAMzMzMzOzQEAzMzMzM7NAQDMzMzMzM05AMzMzMzMzTkAzMzMzMzNOQDMzMzMzs01AMzMzMzOzRkAzMzMzMzNEQDMzMzMzM0RAMzMzMzMzREAzMzMzMzNPQDMzMzMzs0ZAmpmZmZnZUEAzMzMzMzNEQDMzMzMzM0RAMzMzMzMzRECamZmZmdlRQDMzMzMzs0ZAMzMzMzMzREAzMzMzMzNEQDMzMzMzM0RAmpmZmZmZUkAzMzMzM7NLQDMzMzMzs0tAMzMzMzOzS0AzMzMzM7NNQDMzMzMzM0lAMzMzMzOzTUAzMzMzMzNKQDMzMzMzs01AMzMzMzMzSEAzMzMzMzNOQDMzMzMzs0ZAMzMzMzMzREAzMzMzMzNEQDMzMzMzM0RAmpmZmZlZUUAzMzMzM7NGQDMzMzMzs0VAMzMzMzOzR0AzMzMzM7NFQJqZmZmZGVBAMzMzMzOzRkAzMzMzMzNFQDMzMzMzs0VAMzMzMzMzRkAzMzMzMzNOQDMzMzMzs0ZAMzMzMzMzTkAzMzMzM7NGQDMzMzMzM05AMzMzMzOzRkAzMzMzMzNOQDMzMzMzs0ZAMzMzMzMzT0AzMzMzMzNHQDMzMzMzM05AMzMzMzOzRkAzMzMzM7NMQDMzMzMzM05AMzMzMzMzRkA=\",\"dtype\":\"float64\",\"shape\":[100]},\"velocity\":[0,0,0,0,0,0,0,0,0,0,0,0,0,0,0,0,0,0,0,0,0,0,0,0,0,0,0,0,0,0,0,0,0,0,0,0,0,0,0,0,0,0,0,0,0,0,0,0,0,0,0,0,0,0,0,0,0,0,0,0,0,0,0,0,0,0,0,0,0,0,0,0,0,0,0,0,0,0,0,0,0,0,0,0,0,0,0,0,0,0,0,0,0,0,0,0,0,0,0,0]},\"selected\":{\"id\":\"3704\",\"type\":\"Selection\"},\"selection_policy\":{\"id\":\"3703\",\"type\":\"UnionRenderers\"}},\"id\":\"3692\",\"type\":\"ColumnDataSource\"},{\"attributes\":{\"bottom\":{\"field\":\"bottom\"},\"fill_alpha\":{\"field\":\"fill_alpha\"},\"fill_color\":{\"value\":\"#d53e4f\"},\"left\":{\"field\":\"start_time\"},\"right\":{\"field\":\"end_time\"},\"top\":{\"field\":\"top\"}},\"id\":\"3694\",\"type\":\"Quad\"},{\"attributes\":{\"axis_label\":\"time (sec)\",\"formatter\":{\"id\":\"3700\",\"type\":\"BasicTickFormatter\"},\"plot\":{\"id\":\"3657\",\"subtype\":\"Figure\",\"type\":\"Plot\"},\"ticker\":{\"id\":\"3667\",\"type\":\"BasicTicker\"}},\"id\":\"3666\",\"type\":\"LinearAxis\"},{\"attributes\":{},\"id\":\"3703\",\"type\":\"UnionRenderers\"},{\"attributes\":{},\"id\":\"3662\",\"type\":\"LinearScale\"},{\"attributes\":{\"interval\":12},\"id\":\"3691\",\"type\":\"SingleIntervalTicker\"},{\"attributes\":{},\"id\":\"3667\",\"type\":\"BasicTicker\"},{\"attributes\":{\"callback\":null},\"id\":\"3658\",\"type\":\"DataRange1d\"},{\"attributes\":{\"overlay\":{\"id\":\"3683\",\"type\":\"BoxAnnotation\"}},\"id\":\"3678\",\"type\":\"BoxZoomTool\"},{\"attributes\":{\"source\":{\"id\":\"3692\",\"type\":\"ColumnDataSource\"}},\"id\":\"3697\",\"type\":\"CDSView\"}],\"root_ids\":[\"3657\"]},\"title\":\"Bokeh Application\",\"version\":\"1.0.4\"}};\n",
              "  var render_items = [{\"docid\":\"b2c48f01-10c3-4fe7-858c-6dcc5437cca0\",\"roots\":{\"3657\":\"666429aa-9703-4816-850a-07a1d68833d4\"}}];\n",
              "  root.Bokeh.embed.embed_items_notebook(docs_json, render_items);\n",
              "\n",
              "  }\n",
              "  if (root.Bokeh !== undefined) {\n",
              "    embed_document(root);\n",
              "  } else {\n",
              "    var attempts = 0;\n",
              "    var timer = setInterval(function(root) {\n",
              "      if (root.Bokeh !== undefined) {\n",
              "        embed_document(root);\n",
              "        clearInterval(timer);\n",
              "      }\n",
              "      attempts++;\n",
              "      if (attempts > 100) {\n",
              "        console.log(\"Bokeh: ERROR: Unable to run BokehJS code because BokehJS library is missing\");\n",
              "        clearInterval(timer);\n",
              "      }\n",
              "    }, 10, root)\n",
              "  }\n",
              "})(window);"
            ],
            "application/vnd.bokehjs_exec.v0+json": ""
          },
          "metadata": {
            "tags": [],
            "application/vnd.bokehjs_exec.v0+json": {
              "id": "3657"
            }
          }
        },
        {
          "output_type": "stream",
          "text": [
            "/usr/local/lib/python3.6/dist-packages/pretty_midi/pretty_midi.py:890: RuntimeWarning: invalid value encountered in true_divide\n",
            "  synthesized /= np.abs(synthesized).max()\n"
          ],
          "name": "stderr"
        },
        {
          "output_type": "display_data",
          "data": {
            "text/html": [
              "<div id=\"id_17\"> </div>"
            ],
            "text/plain": [
              "<IPython.core.display.HTML object>"
            ]
          },
          "metadata": {
            "tags": []
          }
        }
      ]
    }
  ]
}