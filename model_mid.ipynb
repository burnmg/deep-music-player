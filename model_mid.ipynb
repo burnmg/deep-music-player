{
  "nbformat": 4,
  "nbformat_minor": 0,
  "metadata": {
    "colab": {
      "name": "model_mid.ipynb",
      "version": "0.3.2",
      "provenance": [],
      "collapsed_sections": [],
      "toc_visible": true
    },
    "kernelspec": {
      "name": "python3",
      "display_name": "Python 3"
    },
    "accelerator": "GPU"
  },
  "cells": [
    {
      "cell_type": "code",
      "metadata": {
        "id": "V8rDHr575m3m",
        "colab_type": "code",
        "outputId": "c32b5bc7-4f30-44d8-98d6-c6b3e361982a",
        "colab": {
          "base_uri": "https://localhost:8080/",
          "height": 538
        }
      },
      "source": [
        "!pip install tensorflow-gpu==2.0.0-alpha0\n"
      ],
      "execution_count": 0,
      "outputs": [
        {
          "output_type": "stream",
          "text": [
            "Collecting tensorflow-gpu==2.0.0-alpha0\n",
            "\u001b[?25l  Downloading https://files.pythonhosted.org/packages/1a/66/32cffad095253219d53f6b6c2a436637bbe45ac4e7be0244557210dc3918/tensorflow_gpu-2.0.0a0-cp36-cp36m-manylinux1_x86_64.whl (332.1MB)\n",
            "\u001b[K     |████████████████████████████████| 332.1MB 68kB/s \n",
            "\u001b[?25hRequirement already satisfied: astor>=0.6.0 in /usr/local/lib/python3.6/dist-packages (from tensorflow-gpu==2.0.0-alpha0) (0.7.1)\n",
            "Requirement already satisfied: keras-preprocessing>=1.0.5 in /usr/local/lib/python3.6/dist-packages (from tensorflow-gpu==2.0.0-alpha0) (1.0.9)\n",
            "Collecting tf-estimator-nightly<1.14.0.dev2019030116,>=1.14.0.dev2019030115 (from tensorflow-gpu==2.0.0-alpha0)\n",
            "\u001b[?25l  Downloading https://files.pythonhosted.org/packages/13/82/f16063b4eed210dc2ab057930ac1da4fbe1e91b7b051a6c8370b401e6ae7/tf_estimator_nightly-1.14.0.dev2019030115-py2.py3-none-any.whl (411kB)\n",
            "\u001b[K     |████████████████████████████████| 419kB 49.6MB/s \n",
            "\u001b[?25hRequirement already satisfied: wheel>=0.26 in /usr/local/lib/python3.6/dist-packages (from tensorflow-gpu==2.0.0-alpha0) (0.33.1)\n",
            "Collecting tb-nightly<1.14.0a20190302,>=1.14.0a20190301 (from tensorflow-gpu==2.0.0-alpha0)\n",
            "\u001b[?25l  Downloading https://files.pythonhosted.org/packages/a9/51/aa1d756644bf4624c03844115e4ac4058eff77acd786b26315f051a4b195/tb_nightly-1.14.0a20190301-py3-none-any.whl (3.0MB)\n",
            "\u001b[K     |████████████████████████████████| 3.0MB 41.9MB/s \n",
            "\u001b[?25hRequirement already satisfied: gast>=0.2.0 in /usr/local/lib/python3.6/dist-packages (from tensorflow-gpu==2.0.0-alpha0) (0.2.2)\n",
            "Requirement already satisfied: numpy<2.0,>=1.14.5 in /usr/local/lib/python3.6/dist-packages (from tensorflow-gpu==2.0.0-alpha0) (1.16.3)\n",
            "Collecting google-pasta>=0.1.2 (from tensorflow-gpu==2.0.0-alpha0)\n",
            "\u001b[?25l  Downloading https://files.pythonhosted.org/packages/f9/68/a14620bfb042691f532dcde8576ff82ee82e4c003cdc0a3dbee5f289cee6/google_pasta-0.1.6-py3-none-any.whl (51kB)\n",
            "\u001b[K     |████████████████████████████████| 61kB 30.8MB/s \n",
            "\u001b[?25hRequirement already satisfied: grpcio>=1.8.6 in /usr/local/lib/python3.6/dist-packages (from tensorflow-gpu==2.0.0-alpha0) (1.15.0)\n",
            "Requirement already satisfied: termcolor>=1.1.0 in /usr/local/lib/python3.6/dist-packages (from tensorflow-gpu==2.0.0-alpha0) (1.1.0)\n",
            "Requirement already satisfied: six>=1.10.0 in /usr/local/lib/python3.6/dist-packages (from tensorflow-gpu==2.0.0-alpha0) (1.12.0)\n",
            "Requirement already satisfied: protobuf>=3.6.1 in /usr/local/lib/python3.6/dist-packages (from tensorflow-gpu==2.0.0-alpha0) (3.7.1)\n",
            "Requirement already satisfied: keras-applications>=1.0.6 in /usr/local/lib/python3.6/dist-packages (from tensorflow-gpu==2.0.0-alpha0) (1.0.7)\n",
            "Requirement already satisfied: absl-py>=0.7.0 in /usr/local/lib/python3.6/dist-packages (from tensorflow-gpu==2.0.0-alpha0) (0.7.1)\n",
            "Requirement already satisfied: markdown>=2.6.8 in /usr/local/lib/python3.6/dist-packages (from tb-nightly<1.14.0a20190302,>=1.14.0a20190301->tensorflow-gpu==2.0.0-alpha0) (3.1)\n",
            "Requirement already satisfied: werkzeug>=0.11.15 in /usr/local/lib/python3.6/dist-packages (from tb-nightly<1.14.0a20190302,>=1.14.0a20190301->tensorflow-gpu==2.0.0-alpha0) (0.15.2)\n",
            "Requirement already satisfied: setuptools in /usr/local/lib/python3.6/dist-packages (from protobuf>=3.6.1->tensorflow-gpu==2.0.0-alpha0) (41.0.1)\n",
            "Requirement already satisfied: h5py in /usr/local/lib/python3.6/dist-packages (from keras-applications>=1.0.6->tensorflow-gpu==2.0.0-alpha0) (2.8.0)\n",
            "Installing collected packages: tf-estimator-nightly, tb-nightly, google-pasta, tensorflow-gpu\n",
            "Successfully installed google-pasta-0.1.6 tb-nightly-1.14.0a20190301 tensorflow-gpu-2.0.0a0 tf-estimator-nightly-1.14.0.dev2019030115\n"
          ],
          "name": "stdout"
        }
      ]
    },
    {
      "cell_type": "code",
      "metadata": {
        "id": "gZ4Zpfeg6Pti",
        "colab_type": "code",
        "colab": {}
      },
      "source": [
        "import tensorflow as tf\n",
        "from tensorflow import keras\n",
        "from tensorflow.keras.layers import Dense, GRU, Dropout, Embedding\n",
        "from music21 import converter, instrument, note, chord, pitch\n",
        "from google.colab import drive\n",
        "import numpy as np\n",
        "import time\n",
        "import glob\n",
        "import pickle\n"
      ],
      "execution_count": 0,
      "outputs": []
    },
    {
      "cell_type": "code",
      "metadata": {
        "id": "r3DDtqkY061Y",
        "colab_type": "code",
        "outputId": "d75bf798-2f9e-4043-e92f-716356fdeac8",
        "colab": {
          "base_uri": "https://localhost:8080/",
          "height": 124
        }
      },
      "source": [
        "drive.mount('/content/gdrive')"
      ],
      "execution_count": 2,
      "outputs": [
        {
          "output_type": "stream",
          "text": [
            "Go to this URL in a browser: https://accounts.google.com/o/oauth2/auth?client_id=947318989803-6bn6qk8qdgf4n4g3pfee6491hc0brc4i.apps.googleusercontent.com&redirect_uri=urn%3Aietf%3Awg%3Aoauth%3A2.0%3Aoob&scope=email%20https%3A%2F%2Fwww.googleapis.com%2Fauth%2Fdocs.test%20https%3A%2F%2Fwww.googleapis.com%2Fauth%2Fdrive%20https%3A%2F%2Fwww.googleapis.com%2Fauth%2Fdrive.photos.readonly%20https%3A%2F%2Fwww.googleapis.com%2Fauth%2Fpeopleapi.readonly&response_type=code\n",
            "\n",
            "Enter your authorization code:\n",
            "··········\n",
            "Mounted at /content/gdrive\n"
          ],
          "name": "stdout"
        }
      ]
    },
    {
      "cell_type": "code",
      "metadata": {
        "id": "V1NHWHqjzR2w",
        "colab_type": "code",
        "colab": {}
      },
      "source": [
        "data_path = \"/content/gdrive/My Drive/Applied Deep Learning/Data/\""
      ],
      "execution_count": 0,
      "outputs": []
    },
    {
      "cell_type": "code",
      "metadata": {
        "id": "CZWzQ4U-6kt5",
        "colab_type": "code",
        "colab": {}
      },
      "source": [
        "embedding_size = 8\n",
        "start_note = '<start>'\n",
        "end_note = '<end>'\n"
      ],
      "execution_count": 0,
      "outputs": []
    },
    {
      "cell_type": "code",
      "metadata": {
        "id": "Z-WKwrv24GRn",
        "colab_type": "code",
        "colab": {}
      },
      "source": [
        "def get_notes(filename):\n",
        "  notes = []\n",
        "  midi = converter.parse(filename)\n",
        "  notes_to_parse = None\n",
        "  try:  # file has instrument parts\n",
        "    s2 = instrument.partitionByInstrument(midi)\n",
        "    notes_to_parse = s2.parts[0].recurse() \n",
        "  except:  # file has notes in a flat structure\n",
        "    notes_to_parse = midi.flat.notes\n",
        "\n",
        "  for element in notes_to_parse:\n",
        "    \n",
        "    new_chord = [-1] * 6 # 5 pitches + 1 duration\n",
        "    \n",
        "    if isinstance(element, note.Note):\n",
        "      new_chord[0] = element.pitch.ps\n",
        "      new_chord[5] = float(element.duration.quarterLength)\n",
        "      notes.append(new_chord)\n",
        "    elif isinstance(element, chord.Chord):\n",
        "      new_chord[5] = float(element.duration.quarterLength)\n",
        "      \n",
        "      for k in range(len(element.pitches)):\n",
        "        new_chord[k] = element.pitches[k].ps\n",
        "        \n",
        "        if k >= len(new_chord) - 1:\n",
        "          break\n",
        "\n",
        "      notes.append(new_chord)\n",
        "\n",
        "  return notes\n"
      ],
      "execution_count": 0,
      "outputs": []
    },
    {
      "cell_type": "code",
      "metadata": {
        "id": "2Gu8nghH0KHU",
        "colab_type": "code",
        "colab": {
          "base_uri": "https://localhost:8080/",
          "height": 34
        },
        "outputId": "c12b7879-61d0-4723-f461-a5ffa75b76c6"
      },
      "source": [
        "# pitch.Pitch(62)"
      ],
      "execution_count": 47,
      "outputs": [
        {
          "output_type": "execute_result",
          "data": {
            "text/plain": [
              "<music21.pitch.Pitch D4>"
            ]
          },
          "metadata": {
            "tags": []
          },
          "execution_count": 47
        }
      ]
    },
    {
      "cell_type": "code",
      "metadata": {
        "id": "6XT9h-XotZsk",
        "colab_type": "code",
        "colab": {}
      },
      "source": [
        "test_notes = get_notes(data_path + '8.mid')"
      ],
      "execution_count": 0,
      "outputs": []
    },
    {
      "cell_type": "code",
      "metadata": {
        "id": "9x2hvXO-txSV",
        "colab_type": "code",
        "colab": {}
      },
      "source": [
        "test_notes"
      ],
      "execution_count": 0,
      "outputs": []
    },
    {
      "cell_type": "code",
      "metadata": {
        "id": "oV2EN4mmH9Om",
        "colab_type": "code",
        "colab": {
          "base_uri": "https://localhost:8080/",
          "height": 52
        },
        "outputId": "47476f4b-205a-47c7-eb6f-3d9f79fc0178"
      },
      "source": [
        "np.zeros((2, 2)) - 1"
      ],
      "execution_count": 81,
      "outputs": [
        {
          "output_type": "execute_result",
          "data": {
            "text/plain": [
              "array([[-1., -1.],\n",
              "       [-1., -1.]])"
            ]
          },
          "metadata": {
            "tags": []
          },
          "execution_count": 81
        }
      ]
    },
    {
      "cell_type": "code",
      "metadata": {
        "id": "9NLO1eNP8BtW",
        "colab_type": "code",
        "colab": {
          "base_uri": "https://localhost:8080/",
          "height": 1486
        },
        "outputId": "61d947a6-4b4b-4f78-a2c5-d2f63add0fa0"
      },
      "source": [
        "# Parse abc to notesequence\n",
        "\n",
        "from magenta.music import abc_parser as abc_parser\n",
        "import numpy as np\n",
        "\n",
        "MAX_NOTES = 5000\n",
        "NUM_PARAM = 5 + 1 # 5 pitches + 1 duration\n",
        "\n",
        "# 3D numpy array: num songs x MAX_NOTES x NUM_PARAM\n",
        "all_songs_data = np.empty((1, MAX_NOTES, NUM_PARAM), np.float64)\n",
        "\n",
        "for f in glob.glob(data_path + '*.mid'):\n",
        "  song_notes = get_notes(f)\n",
        "\n",
        "# for k in range(len(songs_wo_tuplets)):\n",
        "#   res = abc_parser.parse_abc_tunebook(songs_wo_tuplets[k])[0]\n",
        "  \n",
        "#   for key in res.keys():\n",
        "  temp_data = np.empty((1, 1, NUM_PARAM), np.float64)\n",
        "  notes_data = np.zeros((1, MAX_NOTES, NUM_PARAM)) - 1\n",
        "  \n",
        "  for elem in song_notes:\n",
        "    # Convert notes into a 2D numpy array\n",
        "    # The 1st dimension is 5 pitches and 1 duration\n",
        "    # The 2nd dimension is the number of notes\n",
        "    raw_notes = np.array([[elem]]) \n",
        "    temp_data = np.append(temp_data, raw_notes, axis=1)\n",
        "\n",
        "  notes_data[0, :temp_data.shape[1],:temp_data.shape[2]] = temp_data\n",
        "#   print('notes_data = ', notes_data)\n",
        "  \n",
        "  all_songs_data = np.append(all_songs_data, notes_data, axis=0)\n",
        "\n",
        "print(all_songs_data)\n"
      ],
      "execution_count": 84,
      "outputs": [
        {
          "output_type": "stream",
          "text": [
            "[[[ 7.26991432e-316  1.00000000e+000  1.00000000e+000  1.00000000e+000\n",
            "    1.00000000e+000  1.66666667e+000]\n",
            "  [-1.00000000e+000 -1.00000000e+000 -1.00000000e+000 -1.00000000e+000\n",
            "   -1.00000000e+000 -1.00000000e+000]\n",
            "  [-1.00000000e+000 -1.00000000e+000 -1.00000000e+000 -1.00000000e+000\n",
            "   -1.00000000e+000 -1.00000000e+000]\n",
            "  ...\n",
            "  [-1.00000000e+000 -1.00000000e+000 -1.00000000e+000 -1.00000000e+000\n",
            "   -1.00000000e+000 -1.00000000e+000]\n",
            "  [-1.00000000e+000 -1.00000000e+000 -1.00000000e+000 -1.00000000e+000\n",
            "   -1.00000000e+000 -1.00000000e+000]\n",
            "  [-1.00000000e+000 -1.00000000e+000 -1.00000000e+000 -1.00000000e+000\n",
            "   -1.00000000e+000 -1.00000000e+000]]\n",
            "\n",
            " [[ 6.90000000e+001  1.00000000e+000  1.00000000e+000  1.00000000e+000\n",
            "    1.00000000e+000  1.33333333e+000]\n",
            "  [ 5.20000000e+001  5.70000000e+001 -1.00000000e+000 -1.00000000e+000\n",
            "   -1.00000000e+000  7.50000000e-001]\n",
            "  [ 4.00000000e+001 -1.00000000e+000 -1.00000000e+000 -1.00000000e+000\n",
            "   -1.00000000e+000  7.50000000e-001]\n",
            "  ...\n",
            "  [-1.00000000e+000 -1.00000000e+000 -1.00000000e+000 -1.00000000e+000\n",
            "   -1.00000000e+000 -1.00000000e+000]\n",
            "  [-1.00000000e+000 -1.00000000e+000 -1.00000000e+000 -1.00000000e+000\n",
            "   -1.00000000e+000 -1.00000000e+000]\n",
            "  [-1.00000000e+000 -1.00000000e+000 -1.00000000e+000 -1.00000000e+000\n",
            "   -1.00000000e+000 -1.00000000e+000]]\n",
            "\n",
            " [[ 6.40000000e+001  6.90000000e+001 -1.00000000e+000 -1.00000000e+000\n",
            "   -1.00000000e+000  7.50000000e-001]\n",
            "  [ 7.20000000e+001 -1.00000000e+000 -1.00000000e+000 -1.00000000e+000\n",
            "   -1.00000000e+000  1.00000000e+000]\n",
            "  [ 6.40000000e+001 -1.00000000e+000 -1.00000000e+000 -1.00000000e+000\n",
            "   -1.00000000e+000  1.33333333e+000]\n",
            "  ...\n",
            "  [-1.00000000e+000 -1.00000000e+000 -1.00000000e+000 -1.00000000e+000\n",
            "   -1.00000000e+000 -1.00000000e+000]\n",
            "  [-1.00000000e+000 -1.00000000e+000 -1.00000000e+000 -1.00000000e+000\n",
            "   -1.00000000e+000 -1.00000000e+000]\n",
            "  [-1.00000000e+000 -1.00000000e+000 -1.00000000e+000 -1.00000000e+000\n",
            "   -1.00000000e+000 -1.00000000e+000]]\n",
            "\n",
            " ...\n",
            "\n",
            " [[ 6.60000000e+001 -1.00000000e+000 -1.00000000e+000 -1.00000000e+000\n",
            "   -1.00000000e+000  3.33333333e-001]\n",
            "  [ 8.90000000e+001 -1.00000000e+000 -1.00000000e+000 -1.00000000e+000\n",
            "   -1.00000000e+000  9.00000000e+000]\n",
            "  [ 5.00000000e+001 -1.00000000e+000 -1.00000000e+000 -1.00000000e+000\n",
            "   -1.00000000e+000  5.00000000e-001]\n",
            "  ...\n",
            "  [-1.00000000e+000 -1.00000000e+000 -1.00000000e+000 -1.00000000e+000\n",
            "   -1.00000000e+000 -1.00000000e+000]\n",
            "  [-1.00000000e+000 -1.00000000e+000 -1.00000000e+000 -1.00000000e+000\n",
            "   -1.00000000e+000 -1.00000000e+000]\n",
            "  [-1.00000000e+000 -1.00000000e+000 -1.00000000e+000 -1.00000000e+000\n",
            "   -1.00000000e+000 -1.00000000e+000]]\n",
            "\n",
            " [[ 6.10000000e+001 -1.00000000e+000 -1.00000000e+000 -1.00000000e+000\n",
            "   -1.00000000e+000  5.00000000e-001]\n",
            "  [ 7.80000000e+001 -1.00000000e+000 -1.00000000e+000 -1.00000000e+000\n",
            "   -1.00000000e+000  5.00000000e-001]\n",
            "  [ 6.20000000e+001  6.90000000e+001  7.40000000e+001  7.60000000e+001\n",
            "   -1.00000000e+000  3.75000000e+000]\n",
            "  ...\n",
            "  [-1.00000000e+000 -1.00000000e+000 -1.00000000e+000 -1.00000000e+000\n",
            "   -1.00000000e+000 -1.00000000e+000]\n",
            "  [-1.00000000e+000 -1.00000000e+000 -1.00000000e+000 -1.00000000e+000\n",
            "   -1.00000000e+000 -1.00000000e+000]\n",
            "  [-1.00000000e+000 -1.00000000e+000 -1.00000000e+000 -1.00000000e+000\n",
            "   -1.00000000e+000 -1.00000000e+000]]\n",
            "\n",
            " [[ 6.60000000e+001  6.90000000e+001  7.40000000e+001 -1.00000000e+000\n",
            "   -1.00000000e+000  3.75000000e+000]\n",
            "  [ 7.00000000e+001 -1.00000000e+000 -1.00000000e+000 -1.00000000e+000\n",
            "   -1.00000000e+000  2.00000000e+000]\n",
            "  [ 6.20000000e+001 -1.00000000e+000 -1.00000000e+000 -1.00000000e+000\n",
            "   -1.00000000e+000  2.00000000e+000]\n",
            "  ...\n",
            "  [-1.00000000e+000 -1.00000000e+000 -1.00000000e+000 -1.00000000e+000\n",
            "   -1.00000000e+000 -1.00000000e+000]\n",
            "  [-1.00000000e+000 -1.00000000e+000 -1.00000000e+000 -1.00000000e+000\n",
            "   -1.00000000e+000 -1.00000000e+000]\n",
            "  [-1.00000000e+000 -1.00000000e+000 -1.00000000e+000 -1.00000000e+000\n",
            "   -1.00000000e+000 -1.00000000e+000]]]\n"
          ],
          "name": "stdout"
        }
      ]
    },
    {
      "cell_type": "code",
      "metadata": {
        "id": "K9C0kgHdIxGX",
        "colab_type": "code",
        "colab": {
          "base_uri": "https://localhost:8080/",
          "height": 34
        },
        "outputId": "5d2940b4-d78e-4826-8a7a-6f762d3a3136"
      },
      "source": [
        "all_songs_data.shape"
      ],
      "execution_count": 85,
      "outputs": [
        {
          "output_type": "execute_result",
          "data": {
            "text/plain": [
              "(93, 5000, 6)"
            ]
          },
          "metadata": {
            "tags": []
          },
          "execution_count": 85
        }
      ]
    },
    {
      "cell_type": "code",
      "metadata": {
        "id": "g_XwN_rkI715",
        "colab_type": "code",
        "colab": {}
      },
      "source": [
        "import pickle\n",
        "\n",
        "pickle.dump( all_songs_data, open( \"all_songs_data.p\", \"wb\" ) )\n",
        "\n",
        "all_songs_data = pickle.load( open( \"all_songs_data.p\", \"rb\" ) )"
      ],
      "execution_count": 0,
      "outputs": []
    },
    {
      "cell_type": "markdown",
      "metadata": {
        "id": "w2wK_H9TLGm1",
        "colab_type": "text"
      },
      "source": [
        "# Below is deprecated"
      ]
    },
    {
      "cell_type": "code",
      "metadata": {
        "id": "975R3SvP-gX7",
        "colab_type": "code",
        "colab": {}
      },
      "source": [
        "songs = [' '.join([start_note] + get_notes(f) + [end_note]) for f in glob.glob(data_path + '*.mid')]\n",
        "with open('songs_data', 'wb') as f:\n",
        "    pickle.dump(songs, f)\n"
      ],
      "execution_count": 0,
      "outputs": []
    },
    {
      "cell_type": "code",
      "metadata": {
        "id": "oULVntMGyOhr",
        "colab_type": "code",
        "outputId": "2439ab94-969f-483a-f4e1-00b233f0e53c",
        "colab": {
          "base_uri": "https://localhost:8080/",
          "height": 54
        }
      },
      "source": [
        "print(songs[0])"
      ],
      "execution_count": 0,
      "outputs": [
        {
          "output_type": "stream",
          "text": [
            "<start> G5&0.25 F#5&0.25 D5&0.25 C5&0.25 B4&2.0 G2&0.5 D3&0.5 G3&1.0 0.4&2.0 11.2&2.0 G2&0.5 D3&0.5 G3&1.0 B4&0.25 C5&0.25 D5&0.25 F#4&0.25 G4&2.0 G2&0.5 D3&0.5 G3&1.0 9.0&2.0 7.11&3.0 G2&0.5 D3&0.5 G3&1.0 G2&0.5 D3&0.5 G5&0.5 G3&1.0 F#5&0.5 D5&1.5 E5&0.5 C5&0.5 G2&0.5 D5&0.5 D3&0.5 B4&2.0 G3&1.0 G5&0.25 F#5&0.25 D5&0.25 C5&0.25 B4&1.5 G2&0.5 D3&0.5 G3&1.0 C5&0.5 D5&1.0 F#4&1.0 G4&3.0 G2&0.5 D3&0.5 G3&1.0 G5&0.25 F#5&0.25 D5&0.25 C5&0.25 B4&1.0 G2&0.5 D3&0.5 G5&0.5 G3&1.0 F#5&0.5 D5&1.5 E5&0.5 C5&0.5 G2&0.5 D5&0.5 D3&0.5 B4&2.0 G3&1.0 B4&0.25 C5&0.25 D5&0.25 F#4&0.25 G4&1.5 G2&0.5 D3&0.5 G3&1.0 G4&0.5 A4&1.0 C5&1.0 B4&2.0 G2&0.5 D3&0.5 G3&1.0 E4&0.5 E4&0.5 F#4&0.5 G4&1.5 G3&2.5 E3&4.0 A4&0.5 B4&1.0 F#3&0.5 D5&1.0 G3&0.5 A3&0.5 F#4&3.0 B3&1.0 2.6&4.0 D4&3.0 F#4&0.5 D4&1.0 7.0&4.0 G4&0.5 C4&3.0 E4&2.0 E4&0.5 F#4&0.5 D4&3.0 2.7&4.0 C4&1.0 B3&2.0 G4&1.5 E3&4.0 G3&2.5 A4&0.5 B4&1.0 F#3&0.5 D5&0.5 G3&0.5 F#5&4.5 A3&0.5 2.6&4.0 B3&1.0 D4&3.0 F#5&0.5 0.4.7&2.0 G5&0.5 D5&0.5 C5&0.5 B4&0.5 5.9.0&2.0 F4&0.5 A4&0.5 C5&0.5 B4&2.0 D3&3.0 2.7&2.0 A4&1.0 0.6&1.0 G5&0.25 F#5&0.25 D5&0.25 C5&0.25 B4&2.0 G2&0.5 D3&0.5 G3&1.0 0.4&2.0 11.2&2.0 G2&0.5 D3&0.5 G3&1.0 B4&0.25 C5&0.25 D5&0.25 F#4&0.25 G4&2.0 G2&0.5 D3&0.5 G3&1.0 9.0&2.0 7.11&3.0 G2&0.5 D3&0.5 G3&1.0 G2&0.5 D3&0.5 G5&0.5 G3&1.0 F#5&0.5 D5&1.5 E5&0.5 C5&0.5 G2&0.5 D5&0.5 D3&0.5 B4&2.0 G3&1.0 G5&0.25 F#5&0.25 D5&0.25 C5&0.25 B4&1.5 G2&0.5 D3&0.5 G3&1.0 C5&0.5 D5&1.0 F#4&1.0 G4&3.0 G2&0.5 D3&0.5 G3&1.0 G5&0.25 F#5&0.25 D5&0.25 C5&0.25 B4&1.0 G2&0.5 D3&0.5 G5&0.5 G3&1.0 F#5&0.5 D5&1.5 E5&0.5 C5&0.5 G2&0.5 D5&0.5 D3&0.5 B4&2.0 G3&1.0 B4&0.25 C5&0.25 D5&0.25 F#4&0.25 G4&1.5 G2&0.5 D3&0.5 G3&1.0 G4&0.5 A4&1.0 C5&1.0 B4&2.0 G2&0.5 D3&0.5 G3&1.0 E4&0.5 E4&0.5 F#4&0.5 G4&1.5 G3&2.5 E3&4.0 A4&0.5 B4&1.0 F#3&0.5 D5&1.0 G3&0.5 A3&0.5 F#4&3.0 B3&1.0 2.6&4.0 D4&3.0 F#4&0.5 D4&1.0 7.0&4.0 G4&0.5 C4&3.0 E4&2.0 E4&0.5 F#4&0.5 D4&3.0 2.7&4.0 C4&1.0 B3&2.0 G4&1.5 E3&4.0 G3&2.5 A4&0.5 B4&1.0 F#3&0.5 D5&0.5 G3&0.5 F#5&4.5 A3&0.5 2.6&4.0 B3&1.0 D4&3.0 F#5&0.5 0.4.7&2.0 G5&0.5 D5&0.5 C5&0.5 B4&0.5 5.9.0&2.0 F4&0.5 A4&0.5 C5&0.5 B4&2.0 D3&3.0 2.7&2.0 A4&1.0 0.6&1.0 G5&0.25 F#5&0.25 D5&0.25 C5&0.25 B4&4.0 7.11&4.0 G1&4.0 <end>\n"
          ],
          "name": "stdout"
        }
      ]
    },
    {
      "cell_type": "code",
      "metadata": {
        "id": "eBfUn7n4IwFP",
        "colab_type": "code",
        "colab": {}
      },
      "source": [
        "with open('songs_data', 'rb') as f:\n",
        "    songs = pickle.load(f)\n"
      ],
      "execution_count": 0,
      "outputs": []
    },
    {
      "cell_type": "code",
      "metadata": {
        "id": "55wRjJDdYSgc",
        "colab_type": "code",
        "colab": {}
      },
      "source": [
        "# note_to_label = {(0, 0, 0):0}\n",
        "# label_to_note = {0:(0, 0, 0)}\n",
        "\n",
        "# data = np.load('Data.npy')\n",
        "# tokenized = []\n",
        "# for song in data:\n",
        "#   s = [start_note]\n",
        "#   for row in song:\n",
        "#     note = tuple(row)\n",
        "#     if note == (0, 0, 0):\n",
        "#       continue\n",
        "#     if note not in note_to_label:\n",
        "#       note_to_label[note] = len(note_to_label) + 2\n",
        "#       label_to_note[note_to_label[note]] = note\n",
        "#     s.append(note_to_label[note])\n",
        "#   s.append(end_note)\n",
        "#   tokenized.append(s)\n",
        "\n",
        "# num_notes = len(note_to_label) + 3\n"
      ],
      "execution_count": 0,
      "outputs": []
    },
    {
      "cell_type": "code",
      "metadata": {
        "id": "JLJQXC0g_dWI",
        "colab_type": "code",
        "colab": {}
      },
      "source": [
        "tokenizer = keras.preprocessing.text.Tokenizer(lower=False, filters='')\n",
        "tokenizer.fit_on_texts(songs)\n",
        "tokenized = tokenizer.texts_to_sequences(songs)\n",
        "num_notes = len(tokenizer.word_index) + 1\n"
      ],
      "execution_count": 0,
      "outputs": []
    },
    {
      "cell_type": "code",
      "metadata": {
        "id": "xHnfvcZ-aae3",
        "colab_type": "code",
        "colab": {}
      },
      "source": [
        "x = keras.preprocessing.sequence.pad_sequences(tokenized, padding='post')\n",
        "n, maxlen = x.shape\n",
        "y = np.hstack([x[:, 1:], np.zeros((n, 1), dtype=np.int)])\n",
        "\n",
        "indexes = np.random.permutation(n)\n",
        "split_index = int(0.9 * n)\n",
        "x_train = x[indexes[:split_index]]\n",
        "x_val = x[indexes[split_index:]]\n",
        "y_train = y[indexes[:split_index]]\n",
        "y_val = y[indexes[split_index:]]\n"
      ],
      "execution_count": 0,
      "outputs": []
    },
    {
      "cell_type": "code",
      "metadata": {
        "id": "oI39M5C05aM8",
        "colab_type": "code",
        "colab": {}
      },
      "source": [
        "# model = keras.models.Sequential()\n",
        "# model.add(Embedding(notes_size, embedding_size))\n",
        "# model.add(GRU(16, return_sequences=True))\n",
        "# model.add(Dropout(0.2))\n",
        "# model.add(Dense(notes_size, activation='softmax'))\n",
        "# model.summary()\n",
        "\n",
        "class MyModel(keras.Model):\n",
        "  def __init__(self):\n",
        "    super(MyModel, self).__init__()\n",
        "    self.embedding = Embedding(num_notes, embedding_size)\n",
        "    self.gru = GRU(16, input_shape=(2, 2212), \\\n",
        "                   return_sequences=True, return_state=True)\n",
        "    self.dropout = Dropout(0.2)\n",
        "    self.d = Dense(num_notes, activation='softmax')\n",
        "\n",
        "  def call(self, x, state=None):\n",
        "    x = self.embedding(x)\n",
        "    x, output_state = self.gru(x, initial_state=state)\n",
        "    x = self.dropout(x)\n",
        "    x = self.d(x)\n",
        "    return x, output_state\n",
        "\n",
        "model = MyModel()\n"
      ],
      "execution_count": 0,
      "outputs": []
    },
    {
      "cell_type": "code",
      "metadata": {
        "id": "T3xJ6e6aWnVT",
        "colab_type": "code",
        "colab": {}
      },
      "source": [
        "optimizer = keras.optimizers.Adam()\n",
        "loss_metric_train = keras.metrics.Mean()\n",
        "loss_metric_val = keras.metrics.Mean()\n",
        "\n",
        "scc = keras.losses.SparseCategoricalCrossentropy()\n",
        "def loss_function(y, output):\n",
        "  return scc(y, output, sample_weight=tf.math.not_equal(y, 0))\n"
      ],
      "execution_count": 0,
      "outputs": []
    },
    {
      "cell_type": "code",
      "metadata": {
        "id": "Bn9iXJns7NeP",
        "colab_type": "code",
        "colab": {}
      },
      "source": [
        "@tf.function\n",
        "def train_step(x, y, model):\n",
        "  with tf.GradientTape() as tape:    \n",
        "    output = model(x)[0]\n",
        "    loss = loss_function(y, output)\n",
        "\n",
        "  gradients = tape.gradient(loss, model.trainable_variables)\n",
        "  optimizer.apply_gradients(zip(gradients, model.trainable_variables))\n",
        "\n",
        "  loss_metric_train(loss)\n",
        "\n",
        "\n",
        "@tf.function\n",
        "def val_step(x, y, model):\n",
        "  output = model(x)[0]\n",
        "  loss = loss_function(y, output)\n",
        "  \n",
        "  loss_metric_val(loss)\n"
      ],
      "execution_count": 0,
      "outputs": []
    },
    {
      "cell_type": "code",
      "metadata": {
        "id": "iipXewUt7udF",
        "colab_type": "code",
        "outputId": "5653ab02-93e8-4fdd-f723-b8706ce0dd8e",
        "colab": {
          "base_uri": "https://localhost:8080/",
          "height": 190
        }
      },
      "source": [
        "epochs = 10\n",
        "batch_size = 1\n",
        "\n",
        "# model.compile(optimizer='adam', loss=loss_function)\n",
        "# model.fit(x, y, epochs=epochs, validation_split=0.1)\n",
        "\n",
        "train_data = tf.data.Dataset.from_tensor_slices((x_train, y_train)).batch(batch_size)\n",
        "val_data = tf.data.Dataset.from_tensor_slices((x_val, y_val)).batch(x_val.shape[0])\n",
        "\n",
        "start = time.time()\n",
        "for epoch in range(epochs):\n",
        "  for x, y in train_data:\n",
        "    train_step(x, y, model)\n",
        "  for x, y in val_data:\n",
        "    val_step(x, y, model)\n",
        "  if epoch % 1 == 0:\n",
        "    end = time.time()\n",
        "    print(f'Epoch {epoch}, Time: {end - start: .3f}s, Loss: {loss_metric_train.result(): .4f}, Validation Loss: {loss_metric_val.result(): .4f}')\n",
        "    start = time.time()\n"
      ],
      "execution_count": 0,
      "outputs": [
        {
          "output_type": "stream",
          "text": [
            "Epoch 0, Time:  6.840s, Loss:  2.0733, Validation Loss:  3.1115\n",
            "Epoch 1, Time:  4.409s, Loss:  1.9486, Validation Loss:  3.0247\n",
            "Epoch 2, Time:  4.373s, Loss:  1.8741, Validation Loss:  2.9999\n",
            "Epoch 3, Time:  4.235s, Loss:  1.8322, Validation Loss:  2.9914\n",
            "Epoch 4, Time:  4.240s, Loss:  1.8055, Validation Loss:  2.9888\n",
            "Epoch 5, Time:  4.226s, Loss:  1.7871, Validation Loss:  2.9887\n",
            "Epoch 6, Time:  4.242s, Loss:  1.7736, Validation Loss:  2.9899\n",
            "Epoch 7, Time:  4.246s, Loss:  1.7633, Validation Loss:  2.9915\n",
            "Epoch 8, Time:  4.219s, Loss:  1.7552, Validation Loss:  2.9934\n",
            "Epoch 9, Time:  4.227s, Loss:  1.7485, Validation Loss:  2.9943\n"
          ],
          "name": "stdout"
        }
      ]
    },
    {
      "cell_type": "code",
      "metadata": {
        "id": "CYfDGewaFKw5",
        "colab_type": "code",
        "colab": {}
      },
      "source": [
        "def generate(model, k=10):\n",
        "  result = [tokenizer.word_index[start_note]]\n",
        "  state = None\n",
        "  while True:\n",
        "    seq = np.array([[result[-1]]])\n",
        "    output, state = model(seq, state=state)\n",
        "    note = np.random.choice(np.argpartition(output[0][0], -k)[-k:])\n",
        "    if note == 0:\n",
        "      result.append(tokenizer.word_index[end_note])\n",
        "    else:\n",
        "      result.append(note)\n",
        "    if result[-1] == tokenizer.word_index[end_note] or len(result) >= 300:\n",
        "      break\n",
        "  return result[1:-1]\n"
      ],
      "execution_count": 0,
      "outputs": []
    },
    {
      "cell_type": "code",
      "metadata": {
        "id": "nvevCQVIKRUc",
        "colab_type": "code",
        "outputId": "a930eaf8-6010-49e4-8313-0151bbf65df7",
        "colab": {
          "base_uri": "https://localhost:8080/",
          "height": 72
        }
      },
      "source": [
        "generated = generate(model)\n",
        "print(len(generated))\n",
        "print(generated)\n"
      ],
      "execution_count": 0,
      "outputs": [
        {
          "output_type": "stream",
          "text": [
            "298\n",
            "[2, 6, 1, 3, 9, 9, 4, 1, 1, 8, 11, 1, 3, 7, 3, 8, 1, 9, 9, 11, 2, 5, 9, 6, 2, 9, 6, 7, 7, 3, 5, 9, 3, 7, 8, 6, 6, 7, 4, 2, 9, 5, 1, 9, 1, 5, 8, 1, 2, 11, 4, 5, 8, 3, 3, 5, 4, 5, 5, 9, 2, 3, 9, 7, 3, 4, 8, 2, 7, 1, 7, 7, 9, 4, 3, 5, 11, 2, 5, 2, 1, 3, 7, 2, 11, 1, 4, 2, 5, 7, 9, 4, 11, 8, 11, 2, 8, 11, 1, 11, 7, 2, 3, 6, 5, 5, 7, 5, 2, 4, 5, 8, 1, 5, 1, 4, 8, 11, 2, 2, 7, 4, 7, 3, 4, 1, 5, 2, 11, 3, 7, 9, 4, 4, 8, 11, 3, 2, 6, 1, 8, 11, 11, 11, 7, 9, 3, 6, 8, 2, 9, 8, 2, 11, 5, 4, 5, 1, 1, 4, 2, 4, 6, 11, 6, 9, 5, 11, 5, 11, 8, 2, 8, 4, 8, 4, 7, 7, 1, 2, 7, 3, 6, 8, 3, 8, 3, 4, 4, 7, 9, 3, 6, 3, 2, 6, 3, 8, 3, 3, 1, 6, 3, 1, 6, 11, 3, 7, 11, 5, 2, 3, 5, 1, 6, 11, 1, 2, 8, 6, 11, 7, 11, 4, 7, 4, 2, 4, 2, 9, 5, 2, 6, 6, 11, 6, 11, 8, 9, 2, 2, 6, 9, 11, 1, 3, 3, 11, 6, 2, 3, 6, 1, 9, 7, 8, 6, 11, 3, 6, 9, 4, 7, 1, 1, 9, 3, 4, 7, 3, 1, 7, 2, 1, 8, 3, 11, 2, 3, 11, 4, 5, 11, 6, 8, 2, 11, 2, 2, 11, 1, 6, 4, 3, 1, 7, 1, 7]\n"
          ],
          "name": "stdout"
        }
      ]
    },
    {
      "cell_type": "code",
      "metadata": {
        "id": "C8ftHPGwJfxV",
        "colab_type": "code",
        "outputId": "17f8e716-c764-4e26-e684-60fafad76353",
        "colab": {
          "base_uri": "https://localhost:8080/",
          "height": 54
        }
      },
      "source": [
        "s = [tokenizer.index_word[i] for i in generated]\n",
        "print(s)\n"
      ],
      "execution_count": 0,
      "outputs": [
        {
          "output_type": "stream",
          "text": [
            "['D3&0.5', 'C4&0.5', 'G3&0.5', 'C3&0.5', 'E4&0.5', 'E4&0.5', 'A3&0.5', 'G3&0.5', 'G3&0.5', 'E3&0.5', 'B3&0.5', 'G3&0.5', 'C3&0.5', 'D4&0.5', 'C3&0.5', 'E3&0.5', 'G3&0.5', 'E4&0.5', 'E4&0.5', 'B3&0.5', 'D3&0.5', 'A2&0.5', 'E4&0.5', 'C4&0.5', 'D3&0.5', 'E4&0.5', 'C4&0.5', 'D4&0.5', 'D4&0.5', 'C3&0.5', 'A2&0.5', 'E4&0.5', 'C3&0.5', 'D4&0.5', 'E3&0.5', 'C4&0.5', 'C4&0.5', 'D4&0.5', 'A3&0.5', 'D3&0.5', 'E4&0.5', 'A2&0.5', 'G3&0.5', 'E4&0.5', 'G3&0.5', 'A2&0.5', 'E3&0.5', 'G3&0.5', 'D3&0.5', 'B3&0.5', 'A3&0.5', 'A2&0.5', 'E3&0.5', 'C3&0.5', 'C3&0.5', 'A2&0.5', 'A3&0.5', 'A2&0.5', 'A2&0.5', 'E4&0.5', 'D3&0.5', 'C3&0.5', 'E4&0.5', 'D4&0.5', 'C3&0.5', 'A3&0.5', 'E3&0.5', 'D3&0.5', 'D4&0.5', 'G3&0.5', 'D4&0.5', 'D4&0.5', 'E4&0.5', 'A3&0.5', 'C3&0.5', 'A2&0.5', 'B3&0.5', 'D3&0.5', 'A2&0.5', 'D3&0.5', 'G3&0.5', 'C3&0.5', 'D4&0.5', 'D3&0.5', 'B3&0.5', 'G3&0.5', 'A3&0.5', 'D3&0.5', 'A2&0.5', 'D4&0.5', 'E4&0.5', 'A3&0.5', 'B3&0.5', 'E3&0.5', 'B3&0.5', 'D3&0.5', 'E3&0.5', 'B3&0.5', 'G3&0.5', 'B3&0.5', 'D4&0.5', 'D3&0.5', 'C3&0.5', 'C4&0.5', 'A2&0.5', 'A2&0.5', 'D4&0.5', 'A2&0.5', 'D3&0.5', 'A3&0.5', 'A2&0.5', 'E3&0.5', 'G3&0.5', 'A2&0.5', 'G3&0.5', 'A3&0.5', 'E3&0.5', 'B3&0.5', 'D3&0.5', 'D3&0.5', 'D4&0.5', 'A3&0.5', 'D4&0.5', 'C3&0.5', 'A3&0.5', 'G3&0.5', 'A2&0.5', 'D3&0.5', 'B3&0.5', 'C3&0.5', 'D4&0.5', 'E4&0.5', 'A3&0.5', 'A3&0.5', 'E3&0.5', 'B3&0.5', 'C3&0.5', 'D3&0.5', 'C4&0.5', 'G3&0.5', 'E3&0.5', 'B3&0.5', 'B3&0.5', 'B3&0.5', 'D4&0.5', 'E4&0.5', 'C3&0.5', 'C4&0.5', 'E3&0.5', 'D3&0.5', 'E4&0.5', 'E3&0.5', 'D3&0.5', 'B3&0.5', 'A2&0.5', 'A3&0.5', 'A2&0.5', 'G3&0.5', 'G3&0.5', 'A3&0.5', 'D3&0.5', 'A3&0.5', 'C4&0.5', 'B3&0.5', 'C4&0.5', 'E4&0.5', 'A2&0.5', 'B3&0.5', 'A2&0.5', 'B3&0.5', 'E3&0.5', 'D3&0.5', 'E3&0.5', 'A3&0.5', 'E3&0.5', 'A3&0.5', 'D4&0.5', 'D4&0.5', 'G3&0.5', 'D3&0.5', 'D4&0.5', 'C3&0.5', 'C4&0.5', 'E3&0.5', 'C3&0.5', 'E3&0.5', 'C3&0.5', 'A3&0.5', 'A3&0.5', 'D4&0.5', 'E4&0.5', 'C3&0.5', 'C4&0.5', 'C3&0.5', 'D3&0.5', 'C4&0.5', 'C3&0.5', 'E3&0.5', 'C3&0.5', 'C3&0.5', 'G3&0.5', 'C4&0.5', 'C3&0.5', 'G3&0.5', 'C4&0.5', 'B3&0.5', 'C3&0.5', 'D4&0.5', 'B3&0.5', 'A2&0.5', 'D3&0.5', 'C3&0.5', 'A2&0.5', 'G3&0.5', 'C4&0.5', 'B3&0.5', 'G3&0.5', 'D3&0.5', 'E3&0.5', 'C4&0.5', 'B3&0.5', 'D4&0.5', 'B3&0.5', 'A3&0.5', 'D4&0.5', 'A3&0.5', 'D3&0.5', 'A3&0.5', 'D3&0.5', 'E4&0.5', 'A2&0.5', 'D3&0.5', 'C4&0.5', 'C4&0.5', 'B3&0.5', 'C4&0.5', 'B3&0.5', 'E3&0.5', 'E4&0.5', 'D3&0.5', 'D3&0.5', 'C4&0.5', 'E4&0.5', 'B3&0.5', 'G3&0.5', 'C3&0.5', 'C3&0.5', 'B3&0.5', 'C4&0.5', 'D3&0.5', 'C3&0.5', 'C4&0.5', 'G3&0.5', 'E4&0.5', 'D4&0.5', 'E3&0.5', 'C4&0.5', 'B3&0.5', 'C3&0.5', 'C4&0.5', 'E4&0.5', 'A3&0.5', 'D4&0.5', 'G3&0.5', 'G3&0.5', 'E4&0.5', 'C3&0.5', 'A3&0.5', 'D4&0.5', 'C3&0.5', 'G3&0.5', 'D4&0.5', 'D3&0.5', 'G3&0.5', 'E3&0.5', 'C3&0.5', 'B3&0.5', 'D3&0.5', 'C3&0.5', 'B3&0.5', 'A3&0.5', 'A2&0.5', 'B3&0.5', 'C4&0.5', 'E3&0.5', 'D3&0.5', 'B3&0.5', 'D3&0.5', 'D3&0.5', 'B3&0.5', 'G3&0.5', 'C4&0.5', 'A3&0.5', 'C3&0.5', 'G3&0.5', 'D4&0.5', 'G3&0.5', 'D4&0.5']\n"
          ],
          "name": "stdout"
        }
      ]
    },
    {
      "cell_type": "code",
      "metadata": {
        "id": "i9riCnFapueO",
        "colab_type": "code",
        "colab": {}
      },
      "source": [
        "generated_data = [generate(model) for i in range(2)]\n"
      ],
      "execution_count": 0,
      "outputs": []
    },
    {
      "cell_type": "code",
      "metadata": {
        "id": "8yLb4nigscH1",
        "colab_type": "code",
        "colab": {}
      },
      "source": [
        "new_songs = [[tokenizer.index_word[i] for i in g] for g in generated_data]\n"
      ],
      "execution_count": 0,
      "outputs": []
    },
    {
      "cell_type": "code",
      "metadata": {
        "id": "okYefP_R1toK",
        "colab_type": "code",
        "colab": {}
      },
      "source": [
        "model.save_weights('my_model_weights.h5')\n"
      ],
      "execution_count": 0,
      "outputs": []
    },
    {
      "cell_type": "code",
      "metadata": {
        "id": "-_YmbTmsCr2d",
        "colab_type": "code",
        "colab": {}
      },
      "source": [
        "model.load_weights('my_model_weights.h5')\n"
      ],
      "execution_count": 0,
      "outputs": []
    },
    {
      "cell_type": "code",
      "metadata": {
        "id": "dZYXRp9VS_Ma",
        "colab_type": "code",
        "outputId": "61478a48-d55b-46c8-815b-4d7ed617d202",
        "colab": {
          "base_uri": "https://localhost:8080/",
          "height": 10316
        }
      },
      "source": [
        "new_songs"
      ],
      "execution_count": 0,
      "outputs": [
        {
          "output_type": "execute_result",
          "data": {
            "text/plain": [
              "[['B3&0.5',\n",
              "  'A3&0.5',\n",
              "  'D4&0.5',\n",
              "  'B3&0.5',\n",
              "  'C3&0.5',\n",
              "  'A3&0.5',\n",
              "  'D3&0.5',\n",
              "  'C4&0.5',\n",
              "  'A3&0.5',\n",
              "  'E3&0.5',\n",
              "  'D3&0.5',\n",
              "  'E4&0.5',\n",
              "  'A2&0.5',\n",
              "  'E3&0.5',\n",
              "  'G3&0.5',\n",
              "  'C4&0.5',\n",
              "  'G3&0.5',\n",
              "  'B3&0.5',\n",
              "  'C3&0.5',\n",
              "  'G3&0.5',\n",
              "  'C3&0.5',\n",
              "  'D4&0.5',\n",
              "  'E4&0.5',\n",
              "  'A3&0.5',\n",
              "  'B3&0.5',\n",
              "  'C4&0.5',\n",
              "  'E3&0.5',\n",
              "  'A3&0.5',\n",
              "  'E4&0.5',\n",
              "  'C3&0.5',\n",
              "  'D4&0.5',\n",
              "  'D4&0.5',\n",
              "  'A2&0.5',\n",
              "  'G3&0.5',\n",
              "  'A3&0.5',\n",
              "  'E4&0.5',\n",
              "  'C3&0.5',\n",
              "  'B3&0.5',\n",
              "  'D4&0.5',\n",
              "  'C4&0.5',\n",
              "  'G3&0.5',\n",
              "  'E3&0.5',\n",
              "  'D3&0.5',\n",
              "  'D4&0.5',\n",
              "  'A3&0.5',\n",
              "  'D4&0.5',\n",
              "  'A2&0.5',\n",
              "  'E3&0.5',\n",
              "  'B3&0.5',\n",
              "  'E4&0.5',\n",
              "  'A3&0.5',\n",
              "  'C3&0.5',\n",
              "  'A2&0.5',\n",
              "  'G3&0.5',\n",
              "  'E4&0.5',\n",
              "  'C3&0.5',\n",
              "  'D4&0.5',\n",
              "  'E3&0.5',\n",
              "  'C4&0.5',\n",
              "  'A2&0.5',\n",
              "  'D3&0.5',\n",
              "  'D3&0.5',\n",
              "  'G3&0.5',\n",
              "  'C4&0.5',\n",
              "  'D3&0.5',\n",
              "  'A3&0.5',\n",
              "  'D4&0.5',\n",
              "  'E3&0.5',\n",
              "  'A3&0.5',\n",
              "  'D3&0.5',\n",
              "  'C3&0.5',\n",
              "  'D3&0.5',\n",
              "  'A3&0.5',\n",
              "  'B3&0.5',\n",
              "  'E4&0.5',\n",
              "  'D4&0.5',\n",
              "  'G3&0.5',\n",
              "  'A2&0.5',\n",
              "  'A2&0.5',\n",
              "  'C4&0.5',\n",
              "  'E4&0.5',\n",
              "  'A2&0.5',\n",
              "  'G3&0.5',\n",
              "  'A3&0.5',\n",
              "  'C3&0.5',\n",
              "  'A3&0.5',\n",
              "  'D3&0.5',\n",
              "  'A3&0.5',\n",
              "  'E3&0.5',\n",
              "  'D4&0.5',\n",
              "  'D4&0.5',\n",
              "  'A3&0.5',\n",
              "  'D3&0.5',\n",
              "  'C3&0.5',\n",
              "  'D4&0.5',\n",
              "  'C4&0.5',\n",
              "  'E3&0.5',\n",
              "  'A2&0.5',\n",
              "  'A3&0.5',\n",
              "  'B3&0.5',\n",
              "  'G3&0.5',\n",
              "  'E4&0.5',\n",
              "  'A3&0.5',\n",
              "  'E3&0.5',\n",
              "  'E3&0.5',\n",
              "  'B3&0.5',\n",
              "  'E4&0.5',\n",
              "  'D3&0.5',\n",
              "  'E3&0.5',\n",
              "  'G3&0.5',\n",
              "  'B3&0.5',\n",
              "  'C3&0.5',\n",
              "  'C4&0.5',\n",
              "  'D4&0.5',\n",
              "  'D3&0.5',\n",
              "  'A2&0.5',\n",
              "  'C4&0.5',\n",
              "  'A3&0.5',\n",
              "  'G3&0.5',\n",
              "  'C3&0.5',\n",
              "  'B3&0.5',\n",
              "  'G3&0.5',\n",
              "  'G3&0.5',\n",
              "  'D4&0.5',\n",
              "  'C4&0.5',\n",
              "  'D4&0.5',\n",
              "  'B3&0.5',\n",
              "  'E3&0.5',\n",
              "  'D4&0.5',\n",
              "  'G3&0.5',\n",
              "  'A2&0.5',\n",
              "  'A2&0.5',\n",
              "  'D3&0.5',\n",
              "  'E4&0.5',\n",
              "  'A3&0.5',\n",
              "  'A3&0.5',\n",
              "  'A2&0.5',\n",
              "  'D3&0.5',\n",
              "  'A3&0.5',\n",
              "  'G3&0.5',\n",
              "  'C4&0.5',\n",
              "  'E3&0.5',\n",
              "  'E4&0.5',\n",
              "  'C3&0.5',\n",
              "  'E4&0.5',\n",
              "  'E4&0.5',\n",
              "  'E3&0.5',\n",
              "  'E3&0.5',\n",
              "  'C3&0.5',\n",
              "  'G3&0.5',\n",
              "  'E4&0.5',\n",
              "  'B3&0.5',\n",
              "  'G3&0.5',\n",
              "  'B3&0.5',\n",
              "  'G3&0.5',\n",
              "  'D4&0.5',\n",
              "  'E4&0.5',\n",
              "  'A3&0.5',\n",
              "  'B3&0.5',\n",
              "  'C4&0.5',\n",
              "  'E4&0.5',\n",
              "  'B3&0.5',\n",
              "  'A2&0.5',\n",
              "  'D4&0.5',\n",
              "  'C4&0.5',\n",
              "  'C4&0.5',\n",
              "  'E4&0.5',\n",
              "  'E3&0.5',\n",
              "  'C4&0.5',\n",
              "  'E3&0.5',\n",
              "  'C4&0.5',\n",
              "  'A2&0.5',\n",
              "  'B3&0.5',\n",
              "  'A3&0.5',\n",
              "  'D4&0.5',\n",
              "  'D4&0.5',\n",
              "  'D4&0.5',\n",
              "  'C3&0.5',\n",
              "  'G3&0.5',\n",
              "  'E3&0.5',\n",
              "  'D3&0.5',\n",
              "  'C4&0.5',\n",
              "  'D4&0.5',\n",
              "  'A2&0.5',\n",
              "  'A3&0.5',\n",
              "  'G3&0.5',\n",
              "  'G3&0.5',\n",
              "  'B3&0.5',\n",
              "  'B3&0.5',\n",
              "  'C3&0.5',\n",
              "  'G3&0.5',\n",
              "  'E3&0.5',\n",
              "  'C3&0.5',\n",
              "  'E3&0.5',\n",
              "  'A2&0.5',\n",
              "  'D3&0.5',\n",
              "  'A3&0.5',\n",
              "  'D3&0.5',\n",
              "  'C3&0.5',\n",
              "  'D3&0.5',\n",
              "  'E3&0.5',\n",
              "  'B3&0.5',\n",
              "  'A2&0.5',\n",
              "  'A3&0.5',\n",
              "  'E3&0.5',\n",
              "  'A2&0.5',\n",
              "  'C4&0.5',\n",
              "  'D3&0.5',\n",
              "  'E4&0.5',\n",
              "  'A2&0.5',\n",
              "  'D3&0.5',\n",
              "  'A3&0.5',\n",
              "  'G3&0.5',\n",
              "  'C3&0.5',\n",
              "  'C4&0.5',\n",
              "  'E4&0.5',\n",
              "  'E4&0.5',\n",
              "  'A3&0.5',\n",
              "  'E4&0.5',\n",
              "  'B3&0.5',\n",
              "  'A3&0.5',\n",
              "  'A3&0.5',\n",
              "  'B3&0.5',\n",
              "  'C4&0.5',\n",
              "  'A3&0.5',\n",
              "  'G3&0.5',\n",
              "  'A2&0.5',\n",
              "  'B3&0.5',\n",
              "  'D4&0.5',\n",
              "  'C3&0.5',\n",
              "  'D4&0.5',\n",
              "  'D4&0.5',\n",
              "  'A3&0.5',\n",
              "  'A2&0.5',\n",
              "  'A3&0.5',\n",
              "  'D3&0.5',\n",
              "  'A2&0.5',\n",
              "  'C4&0.5',\n",
              "  'B3&0.5',\n",
              "  'D3&0.5',\n",
              "  'C4&0.5',\n",
              "  'B3&0.5',\n",
              "  'C4&0.5',\n",
              "  'E3&0.5',\n",
              "  'E3&0.5',\n",
              "  'C3&0.5',\n",
              "  'G3&0.5',\n",
              "  'E3&0.5',\n",
              "  'A3&0.5',\n",
              "  'E3&0.5',\n",
              "  'D3&0.5',\n",
              "  'C4&0.5',\n",
              "  'A3&0.5',\n",
              "  'C3&0.5',\n",
              "  'G3&0.5',\n",
              "  'A3&0.5',\n",
              "  'G3&0.5',\n",
              "  'G3&0.5',\n",
              "  'E4&0.5',\n",
              "  'A2&0.5',\n",
              "  'D3&0.5',\n",
              "  'E3&0.5',\n",
              "  'G3&0.5',\n",
              "  'A3&0.5',\n",
              "  'E4&0.5',\n",
              "  'B3&0.5',\n",
              "  'C4&0.5',\n",
              "  'E3&0.5',\n",
              "  'D3&0.5',\n",
              "  'A2&0.5',\n",
              "  'E4&0.5',\n",
              "  'A3&0.5',\n",
              "  'A2&0.5',\n",
              "  'C3&0.5',\n",
              "  'C3&0.5',\n",
              "  'G3&0.5',\n",
              "  'C3&0.5',\n",
              "  'C3&0.5',\n",
              "  'D4&0.5',\n",
              "  'G3&0.5',\n",
              "  'C3&0.5',\n",
              "  'C4&0.5',\n",
              "  'C3&0.5',\n",
              "  'E4&0.5',\n",
              "  'A3&0.5',\n",
              "  'C3&0.5',\n",
              "  'E4&0.5',\n",
              "  'A3&0.5',\n",
              "  'E4&0.5',\n",
              "  'A2&0.5',\n",
              "  'C4&0.5',\n",
              "  'C3&0.5',\n",
              "  'E4&0.5',\n",
              "  'A3&0.5',\n",
              "  'A3&0.5',\n",
              "  'A3&0.5',\n",
              "  'D4&0.5',\n",
              "  'D3&0.5'],\n",
              " ['D4&0.5',\n",
              "  'D3&0.5',\n",
              "  'G3&0.5',\n",
              "  'B3&0.5',\n",
              "  'G3&0.5',\n",
              "  'E4&0.5',\n",
              "  'A3&0.5',\n",
              "  'C3&0.5',\n",
              "  'A2&0.5',\n",
              "  'B3&0.5',\n",
              "  'A3&0.5',\n",
              "  'B3&0.5',\n",
              "  'A2&0.5',\n",
              "  'C3&0.5',\n",
              "  'D3&0.5',\n",
              "  'C4&0.5',\n",
              "  'E3&0.5',\n",
              "  'E4&0.5',\n",
              "  'B3&0.5',\n",
              "  'G3&0.5',\n",
              "  'E3&0.5',\n",
              "  'D4&0.5',\n",
              "  'A3&0.5',\n",
              "  'D3&0.5',\n",
              "  'B3&0.5',\n",
              "  'D3&0.5',\n",
              "  'B3&0.5',\n",
              "  'C3&0.5',\n",
              "  'B3&0.5',\n",
              "  'A3&0.5',\n",
              "  'D3&0.5',\n",
              "  'B3&0.5',\n",
              "  'C4&0.5',\n",
              "  'C3&0.5',\n",
              "  'D3&0.5',\n",
              "  'G3&0.5',\n",
              "  'C4&0.5',\n",
              "  'B3&0.5',\n",
              "  'D3&0.5',\n",
              "  'G3&0.5',\n",
              "  'G3&0.5',\n",
              "  'C4&0.5',\n",
              "  'C3&0.5',\n",
              "  'C4&0.5',\n",
              "  'D4&0.5',\n",
              "  'B3&0.5',\n",
              "  'E4&0.5',\n",
              "  'E3&0.5',\n",
              "  'G3&0.5',\n",
              "  'C3&0.5',\n",
              "  'D3&0.5',\n",
              "  'G3&0.5',\n",
              "  'E4&0.5',\n",
              "  'B3&0.5',\n",
              "  'C3&0.5',\n",
              "  'G3&0.5',\n",
              "  'C3&0.5',\n",
              "  'D4&0.5',\n",
              "  'A2&0.5',\n",
              "  'E4&0.5',\n",
              "  'A2&0.5',\n",
              "  'A3&0.5',\n",
              "  'E4&0.5',\n",
              "  'A2&0.5',\n",
              "  'A3&0.5',\n",
              "  'E4&0.5',\n",
              "  'G3&0.5',\n",
              "  'E4&0.5',\n",
              "  'C3&0.5',\n",
              "  'C4&0.5',\n",
              "  'A3&0.5',\n",
              "  'D4&0.5',\n",
              "  'C3&0.5',\n",
              "  'C3&0.5',\n",
              "  'C3&0.5',\n",
              "  'G3&0.5',\n",
              "  'D4&0.5',\n",
              "  'E4&0.5',\n",
              "  'C3&0.5',\n",
              "  'E3&0.5',\n",
              "  'D3&0.5',\n",
              "  'A2&0.5',\n",
              "  'A3&0.5',\n",
              "  'D3&0.5',\n",
              "  'G3&0.5',\n",
              "  'G3&0.5',\n",
              "  'B3&0.5',\n",
              "  'A2&0.5',\n",
              "  'C3&0.5',\n",
              "  'C3&0.5',\n",
              "  'C3&0.5',\n",
              "  'D3&0.5',\n",
              "  'C4&0.5',\n",
              "  'C4&0.5',\n",
              "  'D4&0.5',\n",
              "  'A2&0.5',\n",
              "  'B3&0.5',\n",
              "  'D3&0.5',\n",
              "  'E4&0.5',\n",
              "  'C3&0.5',\n",
              "  'D3&0.5',\n",
              "  'E4&0.5',\n",
              "  'D3&0.5',\n",
              "  'B3&0.5',\n",
              "  'D4&0.5',\n",
              "  'A3&0.5',\n",
              "  'B3&0.5',\n",
              "  'C3&0.5',\n",
              "  'E3&0.5',\n",
              "  'E3&0.5',\n",
              "  'C3&0.5',\n",
              "  'E3&0.5',\n",
              "  'B3&0.5',\n",
              "  'D3&0.5',\n",
              "  'C3&0.5',\n",
              "  'E4&0.5',\n",
              "  'A2&0.5',\n",
              "  'E3&0.5',\n",
              "  'A2&0.5',\n",
              "  'G3&0.5',\n",
              "  'C3&0.5',\n",
              "  'C4&0.5',\n",
              "  'E3&0.5',\n",
              "  'D3&0.5',\n",
              "  'D4&0.5',\n",
              "  'A2&0.5',\n",
              "  'G3&0.5',\n",
              "  'G3&0.5',\n",
              "  'A3&0.5',\n",
              "  'D4&0.5',\n",
              "  'E4&0.5',\n",
              "  'G3&0.5',\n",
              "  'A2&0.5',\n",
              "  'G3&0.5',\n",
              "  'E3&0.5',\n",
              "  'A3&0.5',\n",
              "  'B3&0.5',\n",
              "  'E4&0.5',\n",
              "  'E3&0.5',\n",
              "  'D3&0.5',\n",
              "  'G3&0.5',\n",
              "  'D4&0.5',\n",
              "  'A3&0.5',\n",
              "  'C4&0.5',\n",
              "  'E3&0.5',\n",
              "  'C3&0.5',\n",
              "  'A2&0.5',\n",
              "  'C3&0.5',\n",
              "  'C4&0.5',\n",
              "  'D4&0.5',\n",
              "  'G3&0.5',\n",
              "  'E4&0.5',\n",
              "  'G3&0.5',\n",
              "  'C3&0.5',\n",
              "  'G3&0.5',\n",
              "  'C4&0.5',\n",
              "  'D4&0.5',\n",
              "  'A3&0.5',\n",
              "  'A3&0.5',\n",
              "  'G3&0.5',\n",
              "  'C3&0.5',\n",
              "  'E4&0.5',\n",
              "  'C3&0.5',\n",
              "  'A2&0.5',\n",
              "  'B3&0.5',\n",
              "  'E3&0.5',\n",
              "  'A2&0.5',\n",
              "  'G3&0.5',\n",
              "  'E3&0.5',\n",
              "  'E3&0.5',\n",
              "  'B3&0.5',\n",
              "  'C3&0.5',\n",
              "  'D3&0.5',\n",
              "  'E3&0.5',\n",
              "  'C3&0.5',\n",
              "  'C3&0.5',\n",
              "  'G3&0.5',\n",
              "  'D4&0.5',\n",
              "  'G3&0.5',\n",
              "  'D3&0.5',\n",
              "  'C4&0.5',\n",
              "  'A2&0.5',\n",
              "  'D3&0.5',\n",
              "  'D3&0.5',\n",
              "  'G3&0.5',\n",
              "  'A2&0.5',\n",
              "  'D4&0.5',\n",
              "  'D3&0.5',\n",
              "  'D3&0.5',\n",
              "  'D4&0.5',\n",
              "  'E3&0.5',\n",
              "  'E4&0.5',\n",
              "  'A2&0.5',\n",
              "  'E3&0.5',\n",
              "  'B3&0.5',\n",
              "  'A3&0.5',\n",
              "  'D4&0.5',\n",
              "  'D4&0.5',\n",
              "  'A2&0.5',\n",
              "  'C3&0.5',\n",
              "  'A3&0.5',\n",
              "  'B3&0.5',\n",
              "  'B3&0.5',\n",
              "  'E3&0.5',\n",
              "  'D3&0.5',\n",
              "  'D3&0.5',\n",
              "  'C3&0.5',\n",
              "  'C3&0.5',\n",
              "  'C3&0.5',\n",
              "  'E4&0.5',\n",
              "  'C4&0.5',\n",
              "  'A2&0.5',\n",
              "  'C3&0.5',\n",
              "  'A2&0.5',\n",
              "  'G3&0.5',\n",
              "  'D4&0.5',\n",
              "  'A3&0.5',\n",
              "  'G3&0.5',\n",
              "  'A3&0.5',\n",
              "  'A3&0.5',\n",
              "  'A2&0.5',\n",
              "  'E4&0.5',\n",
              "  'E4&0.5',\n",
              "  'C3&0.5',\n",
              "  'D4&0.5',\n",
              "  'C4&0.5',\n",
              "  'A2&0.5',\n",
              "  'G3&0.5',\n",
              "  'D4&0.5',\n",
              "  'D4&0.5',\n",
              "  'G3&0.5',\n",
              "  'D4&0.5',\n",
              "  'D3&0.5',\n",
              "  'D3&0.5',\n",
              "  'D4&0.5',\n",
              "  'D4&0.5',\n",
              "  'E4&0.5',\n",
              "  'C3&0.5',\n",
              "  'E3&0.5',\n",
              "  'B3&0.5',\n",
              "  'D3&0.5',\n",
              "  'E4&0.5',\n",
              "  'C3&0.5',\n",
              "  'D3&0.5',\n",
              "  'G3&0.5',\n",
              "  'D4&0.5',\n",
              "  'C4&0.5',\n",
              "  'D3&0.5',\n",
              "  'C3&0.5',\n",
              "  'E4&0.5',\n",
              "  'A2&0.5',\n",
              "  'D4&0.5',\n",
              "  'E4&0.5',\n",
              "  'D3&0.5',\n",
              "  'D4&0.5',\n",
              "  'C3&0.5',\n",
              "  'B3&0.5',\n",
              "  'C4&0.5',\n",
              "  'A2&0.5',\n",
              "  'A3&0.5',\n",
              "  'C3&0.5',\n",
              "  'C3&0.5',\n",
              "  'C3&0.5',\n",
              "  'E3&0.5',\n",
              "  'A2&0.5',\n",
              "  'E3&0.5',\n",
              "  'C4&0.5',\n",
              "  'C4&0.5',\n",
              "  'E3&0.5',\n",
              "  'A2&0.5',\n",
              "  'G3&0.5',\n",
              "  'E4&0.5',\n",
              "  'D3&0.5',\n",
              "  'C4&0.5',\n",
              "  'E4&0.5',\n",
              "  'C3&0.5',\n",
              "  'E4&0.5',\n",
              "  'A3&0.5',\n",
              "  'A2&0.5',\n",
              "  'G3&0.5',\n",
              "  'G3&0.5',\n",
              "  'B3&0.5',\n",
              "  'B3&0.5',\n",
              "  'A3&0.5',\n",
              "  'C3&0.5',\n",
              "  'A3&0.5',\n",
              "  'C3&0.5',\n",
              "  'G3&0.5',\n",
              "  'B3&0.5',\n",
              "  'A3&0.5',\n",
              "  'C4&0.5',\n",
              "  'G3&0.5',\n",
              "  'C3&0.5',\n",
              "  'E3&0.5',\n",
              "  'E4&0.5',\n",
              "  'A2&0.5',\n",
              "  'A3&0.5',\n",
              "  'A2&0.5']]"
            ]
          },
          "metadata": {
            "tags": []
          },
          "execution_count": 118
        }
      ]
    }
  ]
}