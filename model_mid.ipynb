{
 "cells": [
  {
   "cell_type": "code",
   "execution_count": 0,
   "metadata": {
    "id": "V8rDHr575m3m",
    "colab_type": "code",
    "colab": {}
   },
   "outputs": [],
   "source": [
    "# !pip install tensorflow-gpu==2.0.0-alpha0\n"
   ]
  },
  {
   "cell_type": "code",
   "execution_count": 0,
   "metadata": {
    "id": "gZ4Zpfeg6Pti",
    "colab_type": "code",
    "colab": {}
   },
   "outputs": [],
   "source": [
    "import tensorflow as tf\n",
    "from tensorflow import keras\n",
    "from tensorflow.keras.layers import Dense, GRU, Dropout, Embedding\n",
    "from music21 import converter, instrument, note, chord, pitch\n",
    "from google.colab import drive\n",
    "import numpy as np\n",
    "import time\n",
    "import glob\n",
    "import pickle\n"
   ]
  },
  {
   "cell_type": "code",
   "execution_count": 3,
   "metadata": {
    "id": "r3DDtqkY061Y",
    "colab_type": "code",
    "colab": {
     "base_uri": "https://localhost:8080/",
     "height": 124.0
    },
    "outputId": "f3828254-8849-41e4-f0f0-fcd284120789"
   },
   "outputs": [
    {
     "name": "stdout",
     "output_type": "stream",
     "text": [
      "Go to this URL in a browser: https://accounts.google.com/o/oauth2/auth?client_id=947318989803-6bn6qk8qdgf4n4g3pfee6491hc0brc4i.apps.googleusercontent.com&redirect_uri=urn%3Aietf%3Awg%3Aoauth%3A2.0%3Aoob&scope=email%20https%3A%2F%2Fwww.googleapis.com%2Fauth%2Fdocs.test%20https%3A%2F%2Fwww.googleapis.com%2Fauth%2Fdrive%20https%3A%2F%2Fwww.googleapis.com%2Fauth%2Fdrive.photos.readonly%20https%3A%2F%2Fwww.googleapis.com%2Fauth%2Fpeopleapi.readonly&response_type=code\n",
      "\n",
      "Enter your authorization code:\n",
      "··········\n",
      "Mounted at /content/gdrive\n"
     ]
    }
   ],
   "source": [
    "drive.mount('/content/gdrive')"
   ]
  },
  {
   "cell_type": "code",
   "execution_count": 0,
   "metadata": {
    "id": "V1NHWHqjzR2w",
    "colab_type": "code",
    "colab": {}
   },
   "outputs": [],
   "source": [
    "data_path = \"/content/gdrive/My Drive/Applied Deep Learning/Data/\""
   ]
  },
  {
   "cell_type": "code",
   "execution_count": 0,
   "metadata": {
    "id": "Z-WKwrv24GRn",
    "colab_type": "code",
    "colab": {}
   },
   "outputs": [],
   "source": [
    "def get_notes(filename):\n",
    "  notes = []\n",
    "  midi = converter.parse(filename)\n",
    "  notes_to_parse = None\n",
    "  try:  # file has instrument parts\n",
    "    s2 = instrument.partitionByInstrument(midi)\n",
    "    notes_to_parse = s2.parts[0].recurse() \n",
    "  except:  # file has notes in a flat structure\n",
    "    notes_to_parse = midi.flat.notes\n",
    "\n",
    "  for element in notes_to_parse:\n",
    "    \n",
    "    new_chord = [-1] * 6 # 5 pitches + 1 duration\n",
    "    \n",
    "    if isinstance(element, note.Note):\n",
    "      new_chord[0] = element.pitch.ps\n",
    "      new_chord[5] = float(element.duration.quarterLength)\n",
    "#       new_chord[5] = round(float(element.duration.quarterLength), 3)\n",
    "      notes.append(new_chord)\n",
    "    elif isinstance(element, chord.Chord):\n",
    "      new_chord[5] = float(element.duration.quarterLength)\n",
    "#       new_chord[5] = round(float(element.duration.quarterLength), 3)\n",
    "      \n",
    "      for k in range(len(element.pitches)):\n",
    "        new_chord[k] = element.pitches[k].ps\n",
    "        \n",
    "        if k >= len(new_chord) - 1:\n",
    "          break\n",
    "\n",
    "      notes.append(new_chord)\n",
    "\n",
    "  return notes\n"
   ]
  },
  {
   "cell_type": "code",
   "execution_count": 0,
   "metadata": {
    "id": "2Gu8nghH0KHU",
    "colab_type": "code",
    "colab": {}
   },
   "outputs": [],
   "source": [
    "# pitch.Pitch(62)"
   ]
  },
  {
   "cell_type": "code",
   "execution_count": 6,
   "metadata": {
    "id": "9NLO1eNP8BtW",
    "colab_type": "code",
    "colab": {
     "base_uri": "https://localhost:8080/",
     "height": 1607.0
    },
    "outputId": "e78df8a7-a3eb-499b-d88d-953266335799"
   },
   "outputs": [
    {
     "name": "stdout",
     "output_type": "stream",
     "text": [
      "\n",
      "WARNING: The TensorFlow contrib module will not be included in TensorFlow 2.0.\n",
      "For more information, please see:\n",
      "  * https://github.com/tensorflow/community/blob/master/rfcs/20180907-contrib-sunset.md\n",
      "  * https://github.com/tensorflow/addons\n",
      "If you depend on functionality not listed there, please file an issue.\n",
      "\n",
      "[[[52.         57.         -1.         -1.         -1.\n",
      "    0.75      ]\n",
      "  [40.         -1.         -1.         -1.         -1.\n",
      "    0.75      ]\n",
      "  [33.         40.         -1.         -1.         -1.\n",
      "    0.75      ]\n",
      "  ...\n",
      "  [-1.         -1.         -1.         -1.         -1.\n",
      "   -1.        ]\n",
      "  [-1.         -1.         -1.         -1.         -1.\n",
      "   -1.        ]\n",
      "  [-1.         -1.         -1.         -1.         -1.\n",
      "   -1.        ]]\n",
      "\n",
      " [[72.         -1.         -1.         -1.         -1.\n",
      "    1.        ]\n",
      "  [64.         -1.         -1.         -1.         -1.\n",
      "    1.33333333]\n",
      "  [36.         -1.         -1.         -1.         -1.\n",
      "    2.        ]\n",
      "  ...\n",
      "  [-1.         -1.         -1.         -1.         -1.\n",
      "   -1.        ]\n",
      "  [-1.         -1.         -1.         -1.         -1.\n",
      "   -1.        ]\n",
      "  [-1.         -1.         -1.         -1.         -1.\n",
      "   -1.        ]]\n",
      "\n",
      " [[-1.         -1.         -1.         -1.         -1.\n",
      "   -1.        ]\n",
      "  [-1.         -1.         -1.         -1.         -1.\n",
      "   -1.        ]\n",
      "  [-1.         -1.         -1.         -1.         -1.\n",
      "   -1.        ]\n",
      "  ...\n",
      "  [-1.         -1.         -1.         -1.         -1.\n",
      "   -1.        ]\n",
      "  [-1.         -1.         -1.         -1.         -1.\n",
      "   -1.        ]\n",
      "  [-1.         -1.         -1.         -1.         -1.\n",
      "   -1.        ]]\n",
      "\n",
      " ...\n",
      "\n",
      " [[89.         -1.         -1.         -1.         -1.\n",
      "    9.        ]\n",
      "  [50.         -1.         -1.         -1.         -1.\n",
      "    0.5       ]\n",
      "  [61.         -1.         -1.         -1.         -1.\n",
      "    0.5       ]\n",
      "  ...\n",
      "  [-1.         -1.         -1.         -1.         -1.\n",
      "   -1.        ]\n",
      "  [-1.         -1.         -1.         -1.         -1.\n",
      "   -1.        ]\n",
      "  [-1.         -1.         -1.         -1.         -1.\n",
      "   -1.        ]]\n",
      "\n",
      " [[78.         -1.         -1.         -1.         -1.\n",
      "    0.5       ]\n",
      "  [62.         69.         74.         76.         -1.\n",
      "    3.75      ]\n",
      "  [81.         -1.         -1.         -1.         -1.\n",
      "    0.5       ]\n",
      "  ...\n",
      "  [-1.         -1.         -1.         -1.         -1.\n",
      "   -1.        ]\n",
      "  [-1.         -1.         -1.         -1.         -1.\n",
      "   -1.        ]\n",
      "  [-1.         -1.         -1.         -1.         -1.\n",
      "   -1.        ]]\n",
      "\n",
      " [[70.         -1.         -1.         -1.         -1.\n",
      "    2.        ]\n",
      "  [62.         -1.         -1.         -1.         -1.\n",
      "    2.        ]\n",
      "  [70.         -1.         -1.         -1.         -1.\n",
      "    0.25      ]\n",
      "  ...\n",
      "  [-1.         -1.         -1.         -1.         -1.\n",
      "   -1.        ]\n",
      "  [-1.         -1.         -1.         -1.         -1.\n",
      "   -1.        ]\n",
      "  [-1.         -1.         -1.         -1.         -1.\n",
      "   -1.        ]]]\n"
     ]
    }
   ],
   "source": [
    "from magenta.music import abc_parser as abc_parser\n",
    "import numpy as np\n",
    "\n",
    "MAX_NOTES = 2500\n",
    "NUM_PARAM = 5 + 1 # 5 pitches + 1 duration\n",
    "\n",
    "# 3D numpy array: num songs x MAX_NOTES x NUM_PARAM\n",
    "all_songs_data = np.empty((1, MAX_NOTES, NUM_PARAM), np.float64)\n",
    "\n",
    "for f in glob.glob(data_path + '*.mid'):\n",
    "  song_notes = get_notes(f)\n",
    "\n",
    "  temp_data = np.empty((1, 1, NUM_PARAM), np.float64)\n",
    "  notes_data = np.zeros((1, MAX_NOTES, NUM_PARAM)) - 1\n",
    "  \n",
    "  for elem in song_notes:\n",
    "    # Convert notes into a 2D numpy array\n",
    "    # The 1st dimension is 5 pitches and 1 duration\n",
    "    # The 2nd dimension is the number of notes\n",
    "    raw_notes = np.array([[elem]]) \n",
    "    temp_data = np.append(temp_data, raw_notes, axis=1)\n",
    "  \n",
    "  temp_data = temp_data[:, 1:, :]\n",
    "  notes_data[0, :temp_data.shape[1],:temp_data.shape[2]] = temp_data\n",
    "#   print('notes_data = ', notes_data)\n",
    "  \n",
    "  all_songs_data = np.append(all_songs_data, notes_data, axis=0)\n",
    "\n",
    "  \n",
    "all_songs_data = all_songs_data[1:,:,:]\n",
    "print(all_songs_data)\n"
   ]
  },
  {
   "cell_type": "code",
   "execution_count": 7,
   "metadata": {
    "id": "K9C0kgHdIxGX",
    "colab_type": "code",
    "colab": {
     "base_uri": "https://localhost:8080/",
     "height": 34.0
    },
    "outputId": "78e6b732-9caa-4111-a5f5-e4d00858baa5"
   },
   "outputs": [
    {
     "data": {
      "text/plain": [
       "(92, 2500, 6)"
      ]
     },
     "execution_count": 7,
     "metadata": {
      "tags": []
     },
     "output_type": "execute_result"
    }
   ],
   "source": [
    "all_songs_data.shape"
   ]
  },
  {
   "cell_type": "code",
   "execution_count": 0,
   "metadata": {
    "id": "tGDmM_ZRAQfZ",
    "colab_type": "code",
    "colab": {}
   },
   "outputs": [],
   "source": [
    "preprocessed_path = \"/content/gdrive/My Drive/Applied Deep Learning/Preprocessed Data/\""
   ]
  },
  {
   "cell_type": "code",
   "execution_count": 0,
   "metadata": {
    "id": "g_XwN_rkI715",
    "colab_type": "code",
    "colab": {}
   },
   "outputs": [],
   "source": [
    "import pickle\n",
    "\n",
    "pickle.dump( all_songs_data, open( preprocessed_path + \"all_songs_data.p\", \"wb\" ) )"
   ]
  },
  {
   "cell_type": "code",
   "execution_count": 0,
   "metadata": {
    "id": "Wv9RzEn5Icv_",
    "colab_type": "code",
    "colab": {}
   },
   "outputs": [],
   "source": [
    "all_songs_data = pickle.load( open( \"all_songs_data.p\", \"rb\" ) )"
   ]
  },
  {
   "cell_type": "markdown",
   "metadata": {
    "id": "UZD2EDDxLxpH",
    "colab_type": "text"
   },
   "source": [
    "## Generate MIDI\n"
   ]
  },
  {
   "cell_type": "code",
   "execution_count": 1,
   "metadata": {
    "id": "Jc58-2MIWiVa",
    "colab_type": "code",
    "colab": {
     "base_uri": "https://localhost:8080/",
     "height": 138.0
    },
    "outputId": "8db39e7d-eb48-4293-f00e-ff962deb72f1"
   },
   "outputs": [
    {
     "name": "stderr",
     "output_type": "stream",
     "text": [
      " \n",
      "Music21 v.4 is the last version that will support Python 2.\n",
      "Please start using Python 3 instead.\n",
      "\n",
      "Set music21.environment.UserSettings()['warnings'] = 0\n",
      "to disable this message.\n",
      "\n"
     ]
    }
   ],
   "source": [
    "from music21 import instrument, note, stream, chord"
   ]
  },
  {
   "cell_type": "code",
   "execution_count": 0,
   "metadata": {
    "id": "3vyRW1SYLzRm",
    "colab_type": "code",
    "colab": {}
   },
   "outputs": [],
   "source": [
    "def create_midi(prediction_output, number, output_path):\n",
    "    \"\"\" convert the output from the prediction to notes and create a midi file\n",
    "        from the notes \"\"\"\n",
    "    offset = 0\n",
    "    output_notes = []\n",
    "\n",
    "    # create note and chord objects based on the values generated by the model\n",
    "    for pattern in prediction_output:\n",
    "        duration = pattern[-1]\n",
    "        \n",
    "        if int(duration) != -1:\n",
    "            notes_in_chord = pattern[:-1]\n",
    "            notes = []\n",
    "            for current_note in notes_in_chord:\n",
    "                if int(current_note) != -1:\n",
    "                    new_note = note.Note(int(current_note))\n",
    "                    new_note.storedInstrument = instrument.Piano()\n",
    "                    notes.append(new_note)\n",
    "            new_chord = chord.Chord(notes)\n",
    "            new_chord.offset = offset\n",
    "            output_notes.append(new_chord)    \n",
    "\n",
    "            offset += duration\n",
    "\n",
    "    midi_stream = stream.Stream(output_notes)\n",
    "\n",
    "    midi_stream.write('midi', fp=output_path+'test_output%d.mid' % number)"
   ]
  },
  {
   "cell_type": "code",
   "execution_count": 0,
   "metadata": {
    "id": "Kf3Yo7CcmwnE",
    "colab_type": "code",
    "colab": {}
   },
   "outputs": [],
   "source": [
    "output_path = \"/content/gdrive/My Drive/Applied Deep Learning/Test Output/\""
   ]
  },
  {
   "cell_type": "code",
   "execution_count": 0,
   "metadata": {
    "id": "AsFKr5crXlDi",
    "colab_type": "code",
    "colab": {}
   },
   "outputs": [],
   "source": [
    "for k in range(all_songs_data.shape[0]):\n",
    "  create_midi(all_songs_data[k], k, output_path)"
   ]
  },
  {
   "cell_type": "markdown",
   "metadata": {
    "id": "tmNGau8xdn1k",
    "colab_type": "text"
   },
   "source": [
    "## Convert to Music Using Magenta Framework (Deprecated)"
   ]
  },
  {
   "cell_type": "code",
   "execution_count": 21,
   "metadata": {
    "id": "Ov4vxydVshVQ",
    "colab_type": "code",
    "colab": {
     "base_uri": "https://localhost:8080/",
     "height": 69.0
    },
    "outputId": "1dda4206-8762-404d-eeb0-f20012a65985"
   },
   "outputs": [
    {
     "name": "stdout",
     "output_type": "stream",
     "text": [
      "🎉 Done!\n",
      "0.3.19\n",
      "1.13.1\n"
     ]
    }
   ],
   "source": [
    "import ctypes.util\n",
    "orig_ctypes_util_find_library = ctypes.util.find_library\n",
    "def proxy_find_library(lib):\n",
    "  if lib == 'fluidsynth':\n",
    "    return 'libfluidsynth.so.1'\n",
    "  else:\n",
    "    return orig_ctypes_util_find_library(lib)\n",
    "ctypes.util.find_library = proxy_find_library\n",
    "\n",
    "from google.colab import files\n",
    "\n",
    "import magenta.music as mm\n",
    "import magenta\n",
    "import tensorflow\n",
    "\n",
    "print ('🎉 Done!')\n",
    "print (magenta.__version__ )\n",
    "print (tensorflow.__version__)"
   ]
  },
  {
   "cell_type": "code",
   "execution_count": 0,
   "metadata": {
    "id": "yX7HitrdmHjI",
    "colab_type": "code",
    "colab": {}
   },
   "outputs": [],
   "source": [
    "import numpy as np"
   ]
  },
  {
   "cell_type": "code",
   "execution_count": 0,
   "metadata": {
    "id": "vlpDFbUpstxL",
    "colab_type": "code",
    "colab": {}
   },
   "outputs": [],
   "source": [
    "# all_songs_data = all_songs_data[:,:100,:]"
   ]
  },
  {
   "cell_type": "code",
   "execution_count": 0,
   "metadata": {
    "id": "voAJmOdRqH9p",
    "colab_type": "code",
    "colab": {}
   },
   "outputs": [],
   "source": [
    "from magenta.protobuf import music_pb2\n",
    "\n",
    "magenta_songs = []\n",
    "\n",
    "for k in range(all_songs_data.shape[0]):\n",
    "  song = music_pb2.NoteSequence()\n",
    "\n",
    "  st_time = 0\n",
    "  end_time = 0\n",
    "\n",
    "  # Caution: Somehow the player cannot take a song that is longer than centain\n",
    "  # number of notes. Here limiting to 200. Can adjust accordingly\n",
    "  for m in range(200):\n",
    "#   for m in range(all_songs_data.shape[1]):\n",
    "    # Add the notes to the sequence.\n",
    "    if all_songs_data[k,m,5] >= 0:\n",
    "      st_time = end_time\n",
    "      end_time = st_time + all_songs_data[k,m,5]\n",
    "\n",
    "#       for n in range(1):\n",
    "      for n in range(all_songs_data.shape[2]-1):\n",
    "        pitch = int(all_songs_data[k,m,n])\n",
    "\n",
    "        if pitch != -1:\n",
    "          song.notes.add(pitch=pitch, \n",
    "                         start_time=st_time, \n",
    "                         end_time=end_time,\n",
    "                         velocity=90)\n",
    "  \n",
    "  magenta_songs.append(song)\n"
   ]
  },
  {
   "cell_type": "markdown",
   "metadata": {
    "id": "UU2qWKR3H3G_",
    "colab_type": "text"
   },
   "source": [
    "## !Warning: the MIDI player below seems to be working only in Python 2 "
   ]
  },
  {
   "cell_type": "code",
   "execution_count": 37,
   "metadata": {
    "id": "BEiDeEBPtJuH",
    "colab_type": "code",
    "colab": {
     "base_uri": "https://localhost:8080/",
     "height": 304.0
    },
    "outputId": "f6756aee-ae73-4c0d-de6a-68146cdf997c"
   },
   "outputs": [
    {
     "data": {
      "text/html": [
       "\n",
       "    <div class=\"bk-root\">\n",
       "        <a href=\"https://bokeh.pydata.org\" target=\"_blank\" class=\"bk-logo bk-logo-small bk-logo-notebook\"></a>\n",
       "        <span id=\"2292\">Loading BokehJS ...</span>\n",
       "    </div>"
      ]
     },
     "metadata": {
      "tags": []
     },
     "output_type": "execute_result"
    },
    {
     "data": {},
     "metadata": {
      "tags": []
     },
     "output_type": "display_data"
    },
    {
     "data": {
      "text/html": [
       "\n",
       "\n",
       "\n",
       "\n",
       "\n",
       "\n",
       "  <div class=\"bk-root\" id=\"72a35611-0af4-4045-8162-25d060522bbc\" data-root-id=\"2243\"></div>\n"
      ]
     },
     "metadata": {
      "tags": []
     },
     "output_type": "execute_result"
    },
    {
     "data": {},
     "metadata": {
      "tags": [],
      "application/vnd.bokehjs_exec.v0+json": {
       "id": "2243"
      }
     },
     "output_type": "display_data"
    },
    {
     "data": {
      "text/html": [
       "<div id=\"id_9\"> </div>"
      ],
      "text/plain": [
       "<IPython.core.display.HTML object>"
      ]
     },
     "metadata": {
      "tags": []
     },
     "output_type": "execute_result"
    }
   ],
   "source": [
    "k = 1\n",
    "\n",
    "# for k in range(len(magenta_songs)):\n",
    "magenta_songs[k].total_time = 120\n",
    "magenta_songs[k].tempos.add(qpm=150);\n",
    "# This is a colab utility method that visualizes a NoteSequence.\n",
    "mm.plot_sequence(magenta_songs[k])\n",
    "\n",
    "# This is a colab utility method that plays a NoteSequence.\n",
    "# mm.play_sequence(magenta_songs[k],synth=mm.fluidsynth)\n",
    "mm.play_sequence(magenta_songs[k],synth=mm.synthesize)\n"
   ]
  }
 ],
 "metadata": {
  "colab": {
   "name": "model_mid.ipynb",
   "version": "0.3.2",
   "provenance": [],
   "collapsed_sections": [],
   "toc_visible": true
  },
  "kernelspec": {
   "name": "python2",
   "display_name": "Python 2"
  },
  "accelerator": "GPU"
 },
 "nbformat": 4,
 "nbformat_minor": 0
}
