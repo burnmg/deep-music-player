{
  "nbformat": 4,
  "nbformat_minor": 0,
  "metadata": {
    "colab": {
      "name": "model_mid.ipynb",
      "version": "0.3.2",
      "provenance": [],
      "collapsed_sections": [],
      "toc_visible": true
    },
    "kernelspec": {
      "name": "python2",
      "display_name": "Python 2"
    },
    "accelerator": "GPU"
  },
  "cells": [
    {
      "cell_type": "code",
      "metadata": {
        "id": "V8rDHr575m3m",
        "colab_type": "code",
        "colab": {}
      },
      "source": [
        "# !pip install tensorflow-gpu==2.0.0-alpha0\n"
      ],
      "execution_count": 0,
      "outputs": []
    },
    {
      "cell_type": "code",
      "metadata": {
        "id": "gZ4Zpfeg6Pti",
        "colab_type": "code",
        "colab": {
          "base_uri": "https://localhost:8080/",
          "height": 138
        },
        "outputId": "89592795-8ee5-4414-de63-bf98a2bb8295"
      },
      "source": [
        "import tensorflow as tf\n",
        "from tensorflow import keras\n",
        "from tensorflow.keras.layers import Dense, GRU, Dropout, Embedding\n",
        "from music21 import converter, instrument, note, chord, pitch\n",
        "from google.colab import drive\n",
        "import numpy as np\n",
        "import time\n",
        "import glob\n",
        "import pickle\n"
      ],
      "execution_count": 1,
      "outputs": [
        {
          "output_type": "stream",
          "text": [
            " \n",
            "Music21 v.4 is the last version that will support Python 2.\n",
            "Please start using Python 3 instead.\n",
            "\n",
            "Set music21.environment.UserSettings()['warnings'] = 0\n",
            "to disable this message.\n",
            "\n"
          ],
          "name": "stderr"
        }
      ]
    },
    {
      "cell_type": "code",
      "metadata": {
        "id": "r3DDtqkY061Y",
        "colab_type": "code",
        "colab": {
          "base_uri": "https://localhost:8080/",
          "height": 124
        },
        "outputId": "2bd81445-9ef8-426e-d2ec-64352dac8774"
      },
      "source": [
        "drive.mount('/content/gdrive')"
      ],
      "execution_count": 2,
      "outputs": [
        {
          "output_type": "stream",
          "text": [
            "Go to this URL in a browser: https://accounts.google.com/o/oauth2/auth?client_id=947318989803-6bn6qk8qdgf4n4g3pfee6491hc0brc4i.apps.googleusercontent.com&redirect_uri=urn%3Aietf%3Awg%3Aoauth%3A2.0%3Aoob&scope=email%20https%3A%2F%2Fwww.googleapis.com%2Fauth%2Fdocs.test%20https%3A%2F%2Fwww.googleapis.com%2Fauth%2Fdrive%20https%3A%2F%2Fwww.googleapis.com%2Fauth%2Fdrive.photos.readonly%20https%3A%2F%2Fwww.googleapis.com%2Fauth%2Fpeopleapi.readonly&response_type=code\n",
            "\n",
            "Enter your authorization code:\n",
            "··········\n",
            "Mounted at /content/gdrive\n"
          ],
          "name": "stdout"
        }
      ]
    },
    {
      "cell_type": "code",
      "metadata": {
        "id": "V1NHWHqjzR2w",
        "colab_type": "code",
        "colab": {}
      },
      "source": [
        "data_path = \"/content/gdrive/My Drive/Applied Deep Learning/Data/\""
      ],
      "execution_count": 0,
      "outputs": []
    },
    {
      "cell_type": "code",
      "metadata": {
        "id": "Z-WKwrv24GRn",
        "colab_type": "code",
        "colab": {}
      },
      "source": [
        "def get_notes(filename):\n",
        "  notes = []\n",
        "  midi = converter.parse(filename)\n",
        "  notes_to_parse = None\n",
        "  try:  # file has instrument parts\n",
        "    s2 = instrument.partitionByInstrument(midi)\n",
        "    notes_to_parse = s2.parts[0].recurse() \n",
        "  except:  # file has notes in a flat structure\n",
        "    notes_to_parse = midi.flat.notes\n",
        "\n",
        "  for element in notes_to_parse:\n",
        "    \n",
        "    new_chord = [-1] * 6 # 5 pitches + 1 duration\n",
        "    \n",
        "    if isinstance(element, note.Note):\n",
        "      new_chord[0] = element.pitch.ps\n",
        "      new_chord[5] = float(element.duration.quarterLength)\n",
        "#       new_chord[5] = round(float(element.duration.quarterLength), 3)\n",
        "      notes.append(new_chord)\n",
        "    elif isinstance(element, chord.Chord):\n",
        "      new_chord[5] = float(element.duration.quarterLength)\n",
        "#       new_chord[5] = round(float(element.duration.quarterLength), 3)\n",
        "      \n",
        "      for k in range(len(element.pitches)):\n",
        "        new_chord[k] = element.pitches[k].ps\n",
        "        \n",
        "        if k >= len(new_chord) - 1:\n",
        "          break\n",
        "\n",
        "      notes.append(new_chord)\n",
        "\n",
        "  return notes\n"
      ],
      "execution_count": 0,
      "outputs": []
    },
    {
      "cell_type": "code",
      "metadata": {
        "id": "2Gu8nghH0KHU",
        "colab_type": "code",
        "colab": {}
      },
      "source": [
        "# pitch.Pitch(62)"
      ],
      "execution_count": 0,
      "outputs": []
    },
    {
      "cell_type": "code",
      "metadata": {
        "id": "9NLO1eNP8BtW",
        "colab_type": "code",
        "colab": {
          "base_uri": "https://localhost:8080/",
          "height": 1486
        },
        "outputId": "aef4fab9-e93d-4d00-93f8-a38379527c97"
      },
      "source": [
        "from magenta.music import abc_parser as abc_parser\n",
        "import numpy as np\n",
        "\n",
        "MAX_NOTES = 2500\n",
        "NUM_PARAM = 5 + 1 # 5 pitches + 1 duration\n",
        "\n",
        "# 3D numpy array: num songs x MAX_NOTES x NUM_PARAM\n",
        "all_songs_data = np.empty((1, MAX_NOTES, NUM_PARAM), np.float64)\n",
        "\n",
        "for f in glob.glob(data_path + '*.mid'):\n",
        "  song_notes = get_notes(f)\n",
        "\n",
        "  temp_data = np.empty((1, 1, NUM_PARAM), np.float64)\n",
        "  notes_data = np.zeros((1, MAX_NOTES, NUM_PARAM)) - 1\n",
        "  \n",
        "  for elem in song_notes:\n",
        "    # Convert notes into a 2D numpy array\n",
        "    # The 1st dimension is 5 pitches and 1 duration\n",
        "    # The 2nd dimension is the number of notes\n",
        "    raw_notes = np.array([[elem]]) \n",
        "    temp_data = np.append(temp_data, raw_notes, axis=1)\n",
        "  \n",
        "  temp_data = temp_data[:, 1:, :]\n",
        "  notes_data[0, :temp_data.shape[1],:temp_data.shape[2]] = temp_data\n",
        "#   print('notes_data = ', notes_data)\n",
        "  \n",
        "  all_songs_data = np.append(all_songs_data, notes_data, axis=0)\n",
        "\n",
        "  \n",
        "all_songs_data = all_songs_data[1:,:,:]\n",
        "print(all_songs_data)\n"
      ],
      "execution_count": 18,
      "outputs": [
        {
          "output_type": "stream",
          "text": [
            "[[[52.         57.         -1.         -1.         -1.\n",
            "    0.75      ]\n",
            "  [40.         -1.         -1.         -1.         -1.\n",
            "    0.75      ]\n",
            "  [33.         40.         -1.         -1.         -1.\n",
            "    0.75      ]\n",
            "  ...\n",
            "  [-1.         -1.         -1.         -1.         -1.\n",
            "   -1.        ]\n",
            "  [-1.         -1.         -1.         -1.         -1.\n",
            "   -1.        ]\n",
            "  [-1.         -1.         -1.         -1.         -1.\n",
            "   -1.        ]]\n",
            "\n",
            " [[72.         -1.         -1.         -1.         -1.\n",
            "    1.        ]\n",
            "  [64.         -1.         -1.         -1.         -1.\n",
            "    1.33333333]\n",
            "  [36.         -1.         -1.         -1.         -1.\n",
            "    2.        ]\n",
            "  ...\n",
            "  [-1.         -1.         -1.         -1.         -1.\n",
            "   -1.        ]\n",
            "  [-1.         -1.         -1.         -1.         -1.\n",
            "   -1.        ]\n",
            "  [-1.         -1.         -1.         -1.         -1.\n",
            "   -1.        ]]\n",
            "\n",
            " [[-1.         -1.         -1.         -1.         -1.\n",
            "   -1.        ]\n",
            "  [-1.         -1.         -1.         -1.         -1.\n",
            "   -1.        ]\n",
            "  [-1.         -1.         -1.         -1.         -1.\n",
            "   -1.        ]\n",
            "  ...\n",
            "  [-1.         -1.         -1.         -1.         -1.\n",
            "   -1.        ]\n",
            "  [-1.         -1.         -1.         -1.         -1.\n",
            "   -1.        ]\n",
            "  [-1.         -1.         -1.         -1.         -1.\n",
            "   -1.        ]]\n",
            "\n",
            " ...\n",
            "\n",
            " [[89.         -1.         -1.         -1.         -1.\n",
            "    9.        ]\n",
            "  [50.         -1.         -1.         -1.         -1.\n",
            "    0.5       ]\n",
            "  [61.         -1.         -1.         -1.         -1.\n",
            "    0.5       ]\n",
            "  ...\n",
            "  [-1.         -1.         -1.         -1.         -1.\n",
            "   -1.        ]\n",
            "  [-1.         -1.         -1.         -1.         -1.\n",
            "   -1.        ]\n",
            "  [-1.         -1.         -1.         -1.         -1.\n",
            "   -1.        ]]\n",
            "\n",
            " [[78.         -1.         -1.         -1.         -1.\n",
            "    0.5       ]\n",
            "  [62.         69.         74.         76.         -1.\n",
            "    3.75      ]\n",
            "  [81.         -1.         -1.         -1.         -1.\n",
            "    0.5       ]\n",
            "  ...\n",
            "  [-1.         -1.         -1.         -1.         -1.\n",
            "   -1.        ]\n",
            "  [-1.         -1.         -1.         -1.         -1.\n",
            "   -1.        ]\n",
            "  [-1.         -1.         -1.         -1.         -1.\n",
            "   -1.        ]]\n",
            "\n",
            " [[70.         -1.         -1.         -1.         -1.\n",
            "    2.        ]\n",
            "  [62.         -1.         -1.         -1.         -1.\n",
            "    2.        ]\n",
            "  [70.         -1.         -1.         -1.         -1.\n",
            "    0.25      ]\n",
            "  ...\n",
            "  [-1.         -1.         -1.         -1.         -1.\n",
            "   -1.        ]\n",
            "  [-1.         -1.         -1.         -1.         -1.\n",
            "   -1.        ]\n",
            "  [-1.         -1.         -1.         -1.         -1.\n",
            "   -1.        ]]]\n"
          ],
          "name": "stdout"
        }
      ]
    },
    {
      "cell_type": "code",
      "metadata": {
        "id": "K9C0kgHdIxGX",
        "colab_type": "code",
        "colab": {
          "base_uri": "https://localhost:8080/",
          "height": 34
        },
        "outputId": "89ba59e4-1996-4b33-91be-c6f946390081"
      },
      "source": [
        "all_songs_data.shape"
      ],
      "execution_count": 19,
      "outputs": [
        {
          "output_type": "execute_result",
          "data": {
            "text/plain": [
              "(92, 2500, 6)"
            ]
          },
          "metadata": {
            "tags": []
          },
          "execution_count": 19
        }
      ]
    },
    {
      "cell_type": "code",
      "metadata": {
        "id": "g_XwN_rkI715",
        "colab_type": "code",
        "colab": {}
      },
      "source": [
        "import pickle\n",
        "\n",
        "pickle.dump( all_songs_data, open( \"all_songs_data.p\", \"wb\" ) )"
      ],
      "execution_count": 0,
      "outputs": []
    },
    {
      "cell_type": "code",
      "metadata": {
        "id": "Wv9RzEn5Icv_",
        "colab_type": "code",
        "colab": {}
      },
      "source": [
        "all_songs_data = pickle.load( open( \"all_songs_data.p\", \"rb\" ) )"
      ],
      "execution_count": 0,
      "outputs": []
    },
    {
      "cell_type": "markdown",
      "metadata": {
        "id": "tmNGau8xdn1k",
        "colab_type": "text"
      },
      "source": [
        "# Convert to Music"
      ]
    },
    {
      "cell_type": "code",
      "metadata": {
        "id": "Ov4vxydVshVQ",
        "colab_type": "code",
        "colab": {
          "base_uri": "https://localhost:8080/",
          "height": 69
        },
        "outputId": "1dda4206-8762-404d-eeb0-f20012a65985"
      },
      "source": [
        "import ctypes.util\n",
        "orig_ctypes_util_find_library = ctypes.util.find_library\n",
        "def proxy_find_library(lib):\n",
        "  if lib == 'fluidsynth':\n",
        "    return 'libfluidsynth.so.1'\n",
        "  else:\n",
        "    return orig_ctypes_util_find_library(lib)\n",
        "ctypes.util.find_library = proxy_find_library\n",
        "\n",
        "from google.colab import files\n",
        "\n",
        "import magenta.music as mm\n",
        "import magenta\n",
        "import tensorflow\n",
        "\n",
        "print ('🎉 Done!')\n",
        "print (magenta.__version__ )\n",
        "print (tensorflow.__version__)"
      ],
      "execution_count": 21,
      "outputs": [
        {
          "output_type": "stream",
          "text": [
            "🎉 Done!\n",
            "0.3.19\n",
            "1.13.1\n"
          ],
          "name": "stdout"
        }
      ]
    },
    {
      "cell_type": "code",
      "metadata": {
        "id": "yX7HitrdmHjI",
        "colab_type": "code",
        "colab": {}
      },
      "source": [
        "import numpy as np"
      ],
      "execution_count": 0,
      "outputs": []
    },
    {
      "cell_type": "code",
      "metadata": {
        "id": "vlpDFbUpstxL",
        "colab_type": "code",
        "colab": {}
      },
      "source": [
        "# all_songs_data = all_songs_data[:,:100,:]"
      ],
      "execution_count": 0,
      "outputs": []
    },
    {
      "cell_type": "code",
      "metadata": {
        "id": "voAJmOdRqH9p",
        "colab_type": "code",
        "colab": {}
      },
      "source": [
        "from magenta.protobuf import music_pb2\n",
        "\n",
        "magenta_songs = []\n",
        "\n",
        "for k in range(all_songs_data.shape[0]):\n",
        "  song = music_pb2.NoteSequence()\n",
        "\n",
        "  st_time = 0\n",
        "  end_time = 0\n",
        "\n",
        "  # Caution: Somehow the player cannot take a song that is longer than centain\n",
        "  # number of notes. Here limiting to 200. Can adjust accordingly\n",
        "  for m in range(200):\n",
        "#   for m in range(all_songs_data.shape[1]):\n",
        "    # Add the notes to the sequence.\n",
        "    if all_songs_data[k,m,5] >= 0:\n",
        "      st_time = end_time\n",
        "      end_time = st_time + all_songs_data[k,m,5]\n",
        "\n",
        "#       for n in range(1):\n",
        "      for n in range(all_songs_data.shape[2]-1):\n",
        "        pitch = int(all_songs_data[k,m,n])\n",
        "\n",
        "        if pitch != -1:\n",
        "          song.notes.add(pitch=pitch, \n",
        "                         start_time=st_time, \n",
        "                         end_time=end_time,\n",
        "                         velocity=90)\n",
        "  \n",
        "  magenta_songs.append(song)\n"
      ],
      "execution_count": 0,
      "outputs": []
    },
    {
      "cell_type": "markdown",
      "metadata": {
        "id": "UU2qWKR3H3G_",
        "colab_type": "text"
      },
      "source": [
        "## !Warning: the MIDI player below seems to be working only in Python 2 "
      ]
    },
    {
      "cell_type": "code",
      "metadata": {
        "id": "BEiDeEBPtJuH",
        "colab_type": "code",
        "colab": {
          "base_uri": "https://localhost:8080/",
          "height": 247
        },
        "outputId": "5becfa2a-9887-41a2-91b9-1e9bc3cf9408"
      },
      "source": [
        "k = 0\n",
        "\n",
        "# for k in range(len(magenta_songs)):\n",
        "magenta_songs[k].total_time = 120\n",
        "magenta_songs[k].tempos.add(qpm=100);\n",
        "# This is a colab utility method that visualizes a NoteSequence.\n",
        "mm.plot_sequence(magenta_songs[k])\n",
        "\n",
        "# This is a colab utility method that plays a NoteSequence.\n",
        "# mm.play_sequence(magenta_songs[k],synth=mm.fluidsynth)\n",
        "mm.play_sequence(magenta_songs[k],synth=mm.synthesize)\n"
      ],
      "execution_count": 0,
      "outputs": [
        {
          "output_type": "display_data",
          "data": {
            "text/html": [
              "\n",
              "    <div class=\"bk-root\">\n",
              "        <a href=\"https://bokeh.pydata.org\" target=\"_blank\" class=\"bk-logo bk-logo-small bk-logo-notebook\"></a>\n",
              "        <span id=\"2122\">Loading BokehJS ...</span>\n",
              "    </div>"
            ]
          },
          "metadata": {
            "tags": []
          }
        },
        {
          "output_type": "display_data",
          "data": {
            "application/javascript": [
              "\n",
              "(function(root) {\n",
              "  function now() {\n",
              "    return new Date();\n",
              "  }\n",
              "\n",
              "  var force = true;\n",
              "\n",
              "  if (typeof (root._bokeh_onload_callbacks) === \"undefined\" || force === true) {\n",
              "    root._bokeh_onload_callbacks = [];\n",
              "    root._bokeh_is_loading = undefined;\n",
              "  }\n",
              "\n",
              "  var JS_MIME_TYPE = 'application/javascript';\n",
              "  var HTML_MIME_TYPE = 'text/html';\n",
              "  var EXEC_MIME_TYPE = 'application/vnd.bokehjs_exec.v0+json';\n",
              "  var CLASS_NAME = 'output_bokeh rendered_html';\n",
              "\n",
              "  /**\n",
              "   * Render data to the DOM node\n",
              "   */\n",
              "  function render(props, node) {\n",
              "    var script = document.createElement(\"script\");\n",
              "    node.appendChild(script);\n",
              "  }\n",
              "\n",
              "  /**\n",
              "   * Handle when an output is cleared or removed\n",
              "   */\n",
              "  function handleClearOutput(event, handle) {\n",
              "    var cell = handle.cell;\n",
              "\n",
              "    var id = cell.output_area._bokeh_element_id;\n",
              "    var server_id = cell.output_area._bokeh_server_id;\n",
              "    // Clean up Bokeh references\n",
              "    if (id != null && id in Bokeh.index) {\n",
              "      Bokeh.index[id].model.document.clear();\n",
              "      delete Bokeh.index[id];\n",
              "    }\n",
              "\n",
              "    if (server_id !== undefined) {\n",
              "      // Clean up Bokeh references\n",
              "      var cmd = \"from bokeh.io.state import curstate; print(curstate().uuid_to_server['\" + server_id + \"'].get_sessions()[0].document.roots[0]._id)\";\n",
              "      cell.notebook.kernel.execute(cmd, {\n",
              "        iopub: {\n",
              "          output: function(msg) {\n",
              "            var id = msg.content.text.trim();\n",
              "            if (id in Bokeh.index) {\n",
              "              Bokeh.index[id].model.document.clear();\n",
              "              delete Bokeh.index[id];\n",
              "            }\n",
              "          }\n",
              "        }\n",
              "      });\n",
              "      // Destroy server and session\n",
              "      var cmd = \"import bokeh.io.notebook as ion; ion.destroy_server('\" + server_id + \"')\";\n",
              "      cell.notebook.kernel.execute(cmd);\n",
              "    }\n",
              "  }\n",
              "\n",
              "  /**\n",
              "   * Handle when a new output is added\n",
              "   */\n",
              "  function handleAddOutput(event, handle) {\n",
              "    var output_area = handle.output_area;\n",
              "    var output = handle.output;\n",
              "\n",
              "    // limit handleAddOutput to display_data with EXEC_MIME_TYPE content only\n",
              "    if ((output.output_type != \"display_data\") || (!output.data.hasOwnProperty(EXEC_MIME_TYPE))) {\n",
              "      return\n",
              "    }\n",
              "\n",
              "    var toinsert = output_area.element.find(\".\" + CLASS_NAME.split(' ')[0]);\n",
              "\n",
              "    if (output.metadata[EXEC_MIME_TYPE][\"id\"] !== undefined) {\n",
              "      toinsert[toinsert.length - 1].firstChild.textContent = output.data[JS_MIME_TYPE];\n",
              "      // store reference to embed id on output_area\n",
              "      output_area._bokeh_element_id = output.metadata[EXEC_MIME_TYPE][\"id\"];\n",
              "    }\n",
              "    if (output.metadata[EXEC_MIME_TYPE][\"server_id\"] !== undefined) {\n",
              "      var bk_div = document.createElement(\"div\");\n",
              "      bk_div.innerHTML = output.data[HTML_MIME_TYPE];\n",
              "      var script_attrs = bk_div.children[0].attributes;\n",
              "      for (var i = 0; i < script_attrs.length; i++) {\n",
              "        toinsert[toinsert.length - 1].firstChild.setAttribute(script_attrs[i].name, script_attrs[i].value);\n",
              "      }\n",
              "      // store reference to server id on output_area\n",
              "      output_area._bokeh_server_id = output.metadata[EXEC_MIME_TYPE][\"server_id\"];\n",
              "    }\n",
              "  }\n",
              "\n",
              "  function register_renderer(events, OutputArea) {\n",
              "\n",
              "    function append_mime(data, metadata, element) {\n",
              "      // create a DOM node to render to\n",
              "      var toinsert = this.create_output_subarea(\n",
              "        metadata,\n",
              "        CLASS_NAME,\n",
              "        EXEC_MIME_TYPE\n",
              "      );\n",
              "      this.keyboard_manager.register_events(toinsert);\n",
              "      // Render to node\n",
              "      var props = {data: data, metadata: metadata[EXEC_MIME_TYPE]};\n",
              "      render(props, toinsert[toinsert.length - 1]);\n",
              "      element.append(toinsert);\n",
              "      return toinsert\n",
              "    }\n",
              "\n",
              "    /* Handle when an output is cleared or removed */\n",
              "    events.on('clear_output.CodeCell', handleClearOutput);\n",
              "    events.on('delete.Cell', handleClearOutput);\n",
              "\n",
              "    /* Handle when a new output is added */\n",
              "    events.on('output_added.OutputArea', handleAddOutput);\n",
              "\n",
              "    /**\n",
              "     * Register the mime type and append_mime function with output_area\n",
              "     */\n",
              "    OutputArea.prototype.register_mime_type(EXEC_MIME_TYPE, append_mime, {\n",
              "      /* Is output safe? */\n",
              "      safe: true,\n",
              "      /* Index of renderer in `output_area.display_order` */\n",
              "      index: 0\n",
              "    });\n",
              "  }\n",
              "\n",
              "  // register the mime type if in Jupyter Notebook environment and previously unregistered\n",
              "  if (root.Jupyter !== undefined) {\n",
              "    var events = require('base/js/events');\n",
              "    var OutputArea = require('notebook/js/outputarea').OutputArea;\n",
              "\n",
              "    if (OutputArea.prototype.mime_types().indexOf(EXEC_MIME_TYPE) == -1) {\n",
              "      register_renderer(events, OutputArea);\n",
              "    }\n",
              "  }\n",
              "\n",
              "  \n",
              "  if (typeof (root._bokeh_timeout) === \"undefined\" || force === true) {\n",
              "    root._bokeh_timeout = Date.now() + 5000;\n",
              "    root._bokeh_failed_load = false;\n",
              "  }\n",
              "\n",
              "  var NB_LOAD_WARNING = {'data': {'text/html':\n",
              "     \"<div style='background-color: #fdd'>\\n\"+\n",
              "     \"<p>\\n\"+\n",
              "     \"BokehJS does not appear to have successfully loaded. If loading BokehJS from CDN, this \\n\"+\n",
              "     \"may be due to a slow or bad network connection. Possible fixes:\\n\"+\n",
              "     \"</p>\\n\"+\n",
              "     \"<ul>\\n\"+\n",
              "     \"<li>re-rerun `output_notebook()` to attempt to load from CDN again, or</li>\\n\"+\n",
              "     \"<li>use INLINE resources instead, as so:</li>\\n\"+\n",
              "     \"</ul>\\n\"+\n",
              "     \"<code>\\n\"+\n",
              "     \"from bokeh.resources import INLINE\\n\"+\n",
              "     \"output_notebook(resources=INLINE)\\n\"+\n",
              "     \"</code>\\n\"+\n",
              "     \"</div>\"}};\n",
              "\n",
              "  function display_loaded() {\n",
              "    var el = document.getElementById(\"2122\");\n",
              "    if (el != null) {\n",
              "      el.textContent = \"BokehJS is loading...\";\n",
              "    }\n",
              "    if (root.Bokeh !== undefined) {\n",
              "      if (el != null) {\n",
              "        el.textContent = \"BokehJS \" + root.Bokeh.version + \" successfully loaded.\";\n",
              "      }\n",
              "    } else if (Date.now() < root._bokeh_timeout) {\n",
              "      setTimeout(display_loaded, 100)\n",
              "    }\n",
              "  }\n",
              "\n",
              "\n",
              "  function run_callbacks() {\n",
              "    try {\n",
              "      root._bokeh_onload_callbacks.forEach(function(callback) { callback() });\n",
              "    }\n",
              "    finally {\n",
              "      delete root._bokeh_onload_callbacks\n",
              "    }\n",
              "    console.info(\"Bokeh: all callbacks have finished\");\n",
              "  }\n",
              "\n",
              "  function load_libs(js_urls, callback) {\n",
              "    root._bokeh_onload_callbacks.push(callback);\n",
              "    if (root._bokeh_is_loading > 0) {\n",
              "      console.log(\"Bokeh: BokehJS is being loaded, scheduling callback at\", now());\n",
              "      return null;\n",
              "    }\n",
              "    if (js_urls == null || js_urls.length === 0) {\n",
              "      run_callbacks();\n",
              "      return null;\n",
              "    }\n",
              "    console.log(\"Bokeh: BokehJS not loaded, scheduling load and callback at\", now());\n",
              "    root._bokeh_is_loading = js_urls.length;\n",
              "    for (var i = 0; i < js_urls.length; i++) {\n",
              "      var url = js_urls[i];\n",
              "      var s = document.createElement('script');\n",
              "      s.src = url;\n",
              "      s.async = false;\n",
              "      s.onreadystatechange = s.onload = function() {\n",
              "        root._bokeh_is_loading--;\n",
              "        if (root._bokeh_is_loading === 0) {\n",
              "          console.log(\"Bokeh: all BokehJS libraries loaded\");\n",
              "          run_callbacks()\n",
              "        }\n",
              "      };\n",
              "      s.onerror = function() {\n",
              "        console.warn(\"failed to load library \" + url);\n",
              "      };\n",
              "      console.log(\"Bokeh: injecting script tag for BokehJS library: \", url);\n",
              "      document.getElementsByTagName(\"head\")[0].appendChild(s);\n",
              "    }\n",
              "  };var element = document.getElementById(\"2122\");\n",
              "  if (element == null) {\n",
              "    console.log(\"Bokeh: ERROR: autoload.js configured with elementid '2122' but no matching script tag was found. \")\n",
              "    return false;\n",
              "  }\n",
              "\n",
              "  var js_urls = [\"https://cdn.pydata.org/bokeh/release/bokeh-1.0.4.min.js\", \"https://cdn.pydata.org/bokeh/release/bokeh-widgets-1.0.4.min.js\", \"https://cdn.pydata.org/bokeh/release/bokeh-tables-1.0.4.min.js\", \"https://cdn.pydata.org/bokeh/release/bokeh-gl-1.0.4.min.js\"];\n",
              "\n",
              "  var inline_js = [\n",
              "    function(Bokeh) {\n",
              "      Bokeh.set_log_level(\"info\");\n",
              "    },\n",
              "    \n",
              "    function(Bokeh) {\n",
              "      \n",
              "    },\n",
              "    function(Bokeh) {\n",
              "      console.log(\"Bokeh: injecting CSS: https://cdn.pydata.org/bokeh/release/bokeh-1.0.4.min.css\");\n",
              "      Bokeh.embed.inject_css(\"https://cdn.pydata.org/bokeh/release/bokeh-1.0.4.min.css\");\n",
              "      console.log(\"Bokeh: injecting CSS: https://cdn.pydata.org/bokeh/release/bokeh-widgets-1.0.4.min.css\");\n",
              "      Bokeh.embed.inject_css(\"https://cdn.pydata.org/bokeh/release/bokeh-widgets-1.0.4.min.css\");\n",
              "      console.log(\"Bokeh: injecting CSS: https://cdn.pydata.org/bokeh/release/bokeh-tables-1.0.4.min.css\");\n",
              "      Bokeh.embed.inject_css(\"https://cdn.pydata.org/bokeh/release/bokeh-tables-1.0.4.min.css\");\n",
              "    }\n",
              "  ];\n",
              "\n",
              "  function run_inline_js() {\n",
              "    \n",
              "    if ((root.Bokeh !== undefined) || (force === true)) {\n",
              "      for (var i = 0; i < inline_js.length; i++) {\n",
              "        inline_js[i].call(root, root.Bokeh);\n",
              "      }if (force === true) {\n",
              "        display_loaded();\n",
              "      }} else if (Date.now() < root._bokeh_timeout) {\n",
              "      setTimeout(run_inline_js, 100);\n",
              "    } else if (!root._bokeh_failed_load) {\n",
              "      console.log(\"Bokeh: BokehJS failed to load within specified timeout.\");\n",
              "      root._bokeh_failed_load = true;\n",
              "    } else if (force !== true) {\n",
              "      var cell = $(document.getElementById(\"2122\")).parents('.cell').data().cell;\n",
              "      cell.output_area.append_execute_result(NB_LOAD_WARNING)\n",
              "    }\n",
              "\n",
              "  }\n",
              "\n",
              "  if (root._bokeh_is_loading === 0) {\n",
              "    console.log(\"Bokeh: BokehJS loaded, going straight to plotting\");\n",
              "    run_inline_js();\n",
              "  } else {\n",
              "    load_libs(js_urls, function() {\n",
              "      console.log(\"Bokeh: BokehJS plotting callback run at\", now());\n",
              "      run_inline_js();\n",
              "    });\n",
              "  }\n",
              "}(window));"
            ],
            "application/vnd.bokehjs_load.v0+json": "\n(function(root) {\n  function now() {\n    return new Date();\n  }\n\n  var force = true;\n\n  if (typeof (root._bokeh_onload_callbacks) === \"undefined\" || force === true) {\n    root._bokeh_onload_callbacks = [];\n    root._bokeh_is_loading = undefined;\n  }\n\n  \n\n  \n  if (typeof (root._bokeh_timeout) === \"undefined\" || force === true) {\n    root._bokeh_timeout = Date.now() + 5000;\n    root._bokeh_failed_load = false;\n  }\n\n  var NB_LOAD_WARNING = {'data': {'text/html':\n     \"<div style='background-color: #fdd'>\\n\"+\n     \"<p>\\n\"+\n     \"BokehJS does not appear to have successfully loaded. If loading BokehJS from CDN, this \\n\"+\n     \"may be due to a slow or bad network connection. Possible fixes:\\n\"+\n     \"</p>\\n\"+\n     \"<ul>\\n\"+\n     \"<li>re-rerun `output_notebook()` to attempt to load from CDN again, or</li>\\n\"+\n     \"<li>use INLINE resources instead, as so:</li>\\n\"+\n     \"</ul>\\n\"+\n     \"<code>\\n\"+\n     \"from bokeh.resources import INLINE\\n\"+\n     \"output_notebook(resources=INLINE)\\n\"+\n     \"</code>\\n\"+\n     \"</div>\"}};\n\n  function display_loaded() {\n    var el = document.getElementById(\"2122\");\n    if (el != null) {\n      el.textContent = \"BokehJS is loading...\";\n    }\n    if (root.Bokeh !== undefined) {\n      if (el != null) {\n        el.textContent = \"BokehJS \" + root.Bokeh.version + \" successfully loaded.\";\n      }\n    } else if (Date.now() < root._bokeh_timeout) {\n      setTimeout(display_loaded, 100)\n    }\n  }\n\n\n  function run_callbacks() {\n    try {\n      root._bokeh_onload_callbacks.forEach(function(callback) { callback() });\n    }\n    finally {\n      delete root._bokeh_onload_callbacks\n    }\n    console.info(\"Bokeh: all callbacks have finished\");\n  }\n\n  function load_libs(js_urls, callback) {\n    root._bokeh_onload_callbacks.push(callback);\n    if (root._bokeh_is_loading > 0) {\n      console.log(\"Bokeh: BokehJS is being loaded, scheduling callback at\", now());\n      return null;\n    }\n    if (js_urls == null || js_urls.length === 0) {\n      run_callbacks();\n      return null;\n    }\n    console.log(\"Bokeh: BokehJS not loaded, scheduling load and callback at\", now());\n    root._bokeh_is_loading = js_urls.length;\n    for (var i = 0; i < js_urls.length; i++) {\n      var url = js_urls[i];\n      var s = document.createElement('script');\n      s.src = url;\n      s.async = false;\n      s.onreadystatechange = s.onload = function() {\n        root._bokeh_is_loading--;\n        if (root._bokeh_is_loading === 0) {\n          console.log(\"Bokeh: all BokehJS libraries loaded\");\n          run_callbacks()\n        }\n      };\n      s.onerror = function() {\n        console.warn(\"failed to load library \" + url);\n      };\n      console.log(\"Bokeh: injecting script tag for BokehJS library: \", url);\n      document.getElementsByTagName(\"head\")[0].appendChild(s);\n    }\n  };var element = document.getElementById(\"2122\");\n  if (element == null) {\n    console.log(\"Bokeh: ERROR: autoload.js configured with elementid '2122' but no matching script tag was found. \")\n    return false;\n  }\n\n  var js_urls = [\"https://cdn.pydata.org/bokeh/release/bokeh-1.0.4.min.js\", \"https://cdn.pydata.org/bokeh/release/bokeh-widgets-1.0.4.min.js\", \"https://cdn.pydata.org/bokeh/release/bokeh-tables-1.0.4.min.js\", \"https://cdn.pydata.org/bokeh/release/bokeh-gl-1.0.4.min.js\"];\n\n  var inline_js = [\n    function(Bokeh) {\n      Bokeh.set_log_level(\"info\");\n    },\n    \n    function(Bokeh) {\n      \n    },\n    function(Bokeh) {\n      console.log(\"Bokeh: injecting CSS: https://cdn.pydata.org/bokeh/release/bokeh-1.0.4.min.css\");\n      Bokeh.embed.inject_css(\"https://cdn.pydata.org/bokeh/release/bokeh-1.0.4.min.css\");\n      console.log(\"Bokeh: injecting CSS: https://cdn.pydata.org/bokeh/release/bokeh-widgets-1.0.4.min.css\");\n      Bokeh.embed.inject_css(\"https://cdn.pydata.org/bokeh/release/bokeh-widgets-1.0.4.min.css\");\n      console.log(\"Bokeh: injecting CSS: https://cdn.pydata.org/bokeh/release/bokeh-tables-1.0.4.min.css\");\n      Bokeh.embed.inject_css(\"https://cdn.pydata.org/bokeh/release/bokeh-tables-1.0.4.min.css\");\n    }\n  ];\n\n  function run_inline_js() {\n    \n    if ((root.Bokeh !== undefined) || (force === true)) {\n      for (var i = 0; i < inline_js.length; i++) {\n        inline_js[i].call(root, root.Bokeh);\n      }if (force === true) {\n        display_loaded();\n      }} else if (Date.now() < root._bokeh_timeout) {\n      setTimeout(run_inline_js, 100);\n    } else if (!root._bokeh_failed_load) {\n      console.log(\"Bokeh: BokehJS failed to load within specified timeout.\");\n      root._bokeh_failed_load = true;\n    } else if (force !== true) {\n      var cell = $(document.getElementById(\"2122\")).parents('.cell').data().cell;\n      cell.output_area.append_execute_result(NB_LOAD_WARNING)\n    }\n\n  }\n\n  if (root._bokeh_is_loading === 0) {\n    console.log(\"Bokeh: BokehJS loaded, going straight to plotting\");\n    run_inline_js();\n  } else {\n    load_libs(js_urls, function() {\n      console.log(\"Bokeh: BokehJS plotting callback run at\", now());\n      run_inline_js();\n    });\n  }\n}(window));"
          },
          "metadata": {
            "tags": []
          }
        },
        {
          "output_type": "display_data",
          "data": {
            "text/html": [
              "\n",
              "\n",
              "\n",
              "\n",
              "\n",
              "\n",
              "  <div class=\"bk-root\" id=\"92471177-47bb-4bac-bb81-d2ac9bb4a66a\" data-root-id=\"2073\"></div>\n"
            ]
          },
          "metadata": {
            "tags": []
          }
        },
        {
          "output_type": "display_data",
          "data": {
            "application/javascript": [
              "(function(root) {\n",
              "  function embed_document(root) {\n",
              "    \n",
              "  var docs_json = {\"be81a74f-b096-44f0-8de2-c076a020c32b\":{\"roots\":{\"references\":[{\"attributes\":{},\"id\":\"2095\",\"type\":\"ResetTool\"},{\"attributes\":{\"overlay\":{\"id\":\"2099\",\"type\":\"BoxAnnotation\"}},\"id\":\"2094\",\"type\":\"BoxZoomTool\"},{\"attributes\":{\"active_drag\":\"auto\",\"active_inspect\":\"auto\",\"active_multi\":null,\"active_scroll\":\"auto\",\"active_tap\":\"auto\",\"tools\":[{\"id\":\"2092\",\"type\":\"HoverTool\"},{\"id\":\"2093\",\"type\":\"PanTool\"},{\"id\":\"2094\",\"type\":\"BoxZoomTool\"},{\"id\":\"2095\",\"type\":\"ResetTool\"},{\"id\":\"2096\",\"type\":\"SaveTool\"}]},\"id\":\"2097\",\"type\":\"Toolbar\"},{\"attributes\":{},\"id\":\"2096\",\"type\":\"SaveTool\"},{\"attributes\":{\"dimension\":1,\"plot\":{\"id\":\"2073\",\"subtype\":\"Figure\",\"type\":\"Plot\"},\"ticker\":{\"id\":\"2107\",\"type\":\"SingleIntervalTicker\"}},\"id\":\"2091\",\"type\":\"Grid\"},{\"attributes\":{},\"id\":\"2093\",\"type\":\"PanTool\"},{\"attributes\":{\"callback\":null,\"tooltips\":[[\"velo\",\"@velocity\"],[\"program\",\"@program\"],[\"end_time\",\"@end_time\"],[\"pitch\",\"@pitch\"],[\"duration\",\"@duration\"],[\"velocity\",\"@velocity\"],[\"start_time\",\"@start_time\"],[\"fill_alpha\",\"@fill_alpha\"]]},\"id\":\"2092\",\"type\":\"HoverTool\"},{\"attributes\":{\"bottom_units\":\"screen\",\"fill_alpha\":{\"value\":0.5},\"fill_color\":{\"value\":\"lightgrey\"},\"left_units\":\"screen\",\"level\":\"overlay\",\"line_alpha\":{\"value\":1.0},\"line_color\":{\"value\":\"black\"},\"line_dash\":[4,4],\"line_width\":{\"value\":2},\"plot\":null,\"render_mode\":\"css\",\"right_units\":\"screen\",\"top_units\":\"screen\"},\"id\":\"2099\",\"type\":\"BoxAnnotation\"},{\"attributes\":{},\"id\":\"2118\",\"type\":\"BasicTickFormatter\"},{\"attributes\":{},\"id\":\"2119\",\"type\":\"Selection\"},{\"attributes\":{},\"id\":\"2078\",\"type\":\"LinearScale\"},{\"attributes\":{\"bottom\":{\"field\":\"bottom\"},\"fill_alpha\":{\"field\":\"fill_alpha\"},\"fill_color\":{\"value\":\"#d53e4f\"},\"left\":{\"field\":\"start_time\"},\"right\":{\"field\":\"end_time\"},\"top\":{\"field\":\"top\"}},\"id\":\"2110\",\"type\":\"Quad\"},{\"attributes\":{\"bottom\":{\"field\":\"bottom\"},\"fill_alpha\":{\"value\":0.1},\"fill_color\":{\"value\":\"#1f77b4\"},\"left\":{\"field\":\"start_time\"},\"line_alpha\":{\"value\":0.1},\"line_color\":{\"value\":\"#1f77b4\"},\"right\":{\"field\":\"end_time\"},\"top\":{\"field\":\"top\"}},\"id\":\"2111\",\"type\":\"Quad\"},{\"attributes\":{\"data_source\":{\"id\":\"2108\",\"type\":\"ColumnDataSource\"},\"glyph\":{\"id\":\"2110\",\"type\":\"Quad\"},\"hover_glyph\":null,\"muted_glyph\":null,\"nonselection_glyph\":{\"id\":\"2111\",\"type\":\"Quad\"},\"selection_glyph\":null,\"view\":{\"id\":\"2113\",\"type\":\"CDSView\"}},\"id\":\"2112\",\"type\":\"GlyphRenderer\"},{\"attributes\":{\"source\":{\"id\":\"2108\",\"type\":\"ColumnDataSource\"}},\"id\":\"2113\",\"type\":\"CDSView\"},{\"attributes\":{\"plot\":null,\"text\":\"\"},\"id\":\"2115\",\"type\":\"Title\"},{\"attributes\":{},\"id\":\"2117\",\"type\":\"BasicTickFormatter\"},{\"attributes\":{\"below\":[{\"id\":\"2082\",\"type\":\"LinearAxis\"}],\"left\":[{\"id\":\"2087\",\"type\":\"LinearAxis\"}],\"plot_height\":200,\"plot_width\":500,\"renderers\":[{\"id\":\"2082\",\"type\":\"LinearAxis\"},{\"id\":\"2086\",\"type\":\"Grid\"},{\"id\":\"2087\",\"type\":\"LinearAxis\"},{\"id\":\"2091\",\"type\":\"Grid\"},{\"id\":\"2099\",\"type\":\"BoxAnnotation\"},{\"id\":\"2112\",\"type\":\"GlyphRenderer\"}],\"title\":{\"id\":\"2115\",\"type\":\"Title\"},\"toolbar\":{\"id\":\"2097\",\"type\":\"Toolbar\"},\"x_range\":{\"id\":\"2074\",\"type\":\"DataRange1d\"},\"x_scale\":{\"id\":\"2078\",\"type\":\"LinearScale\"},\"y_range\":{\"id\":\"2076\",\"type\":\"DataRange1d\"},\"y_scale\":{\"id\":\"2080\",\"type\":\"LinearScale\"}},\"id\":\"2073\",\"subtype\":\"Figure\",\"type\":\"Plot\"},{\"attributes\":{},\"id\":\"2120\",\"type\":\"UnionRenderers\"},{\"attributes\":{\"axis_label\":\"time (sec)\",\"formatter\":{\"id\":\"2117\",\"type\":\"BasicTickFormatter\"},\"plot\":{\"id\":\"2073\",\"subtype\":\"Figure\",\"type\":\"Plot\"},\"ticker\":{\"id\":\"2083\",\"type\":\"BasicTicker\"}},\"id\":\"2082\",\"type\":\"LinearAxis\"},{\"attributes\":{},\"id\":\"2083\",\"type\":\"BasicTicker\"},{\"attributes\":{},\"id\":\"2080\",\"type\":\"LinearScale\"},{\"attributes\":{\"plot\":{\"id\":\"2073\",\"subtype\":\"Figure\",\"type\":\"Plot\"},\"ticker\":{\"id\":\"2083\",\"type\":\"BasicTicker\"}},\"id\":\"2086\",\"type\":\"Grid\"},{\"attributes\":{\"axis_label\":\"pitch (MIDI)\",\"formatter\":{\"id\":\"2118\",\"type\":\"BasicTickFormatter\"},\"plot\":{\"id\":\"2073\",\"subtype\":\"Figure\",\"type\":\"Plot\"},\"ticker\":{\"id\":\"2105\",\"type\":\"SingleIntervalTicker\"}},\"id\":\"2087\",\"type\":\"LinearAxis\"},{\"attributes\":{\"callback\":null},\"id\":\"2076\",\"type\":\"DataRange1d\"},{\"attributes\":{\"callback\":null,\"data\":{\"bottom\":{\"__ndarray__\":\"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\",\"dtype\":\"float64\",\"shape\":[338]},\"duration\":{\"__ndarray__\":\"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\",\"dtype\":\"float64\",\"shape\":[338]},\"end_time\":{\"__ndarray__\":\"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\",\"dtype\":\"float64\",\"shape\":[338]},\"fill_alpha\":{\"__ndarray__\":\"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\",\"dtype\":\"float64\",\"shape\":[338]},\"index\":[0,1,2,3,4,5,6,7,8,9,10,11,12,13,14,15,16,17,18,19,20,21,22,23,24,25,26,27,28,29,30,31,32,33,34,35,36,37,38,39,40,41,42,43,44,45,46,47,48,49,50,51,52,53,54,55,56,57,58,59,60,61,62,63,64,65,66,67,68,69,70,71,72,73,74,75,76,77,78,79,80,81,82,83,84,85,86,87,88,89,90,91,92,93,94,95,96,97,98,99,100,101,102,103,104,105,106,107,108,109,110,111,112,113,114,115,116,117,118,119,120,121,122,123,124,125,126,127,128,129,130,131,132,133,134,135,136,137,138,139,140,141,142,143,144,145,146,147,148,149,150,151,152,153,154,155,156,157,158,159,160,161,162,163,164,165,166,167,168,169,170,171,172,173,174,175,176,177,178,179,180,181,182,183,184,185,186,187,188,189,190,191,192,193,194,195,196,197,198,199,200,201,202,203,204,205,206,207,208,209,210,211,212,213,214,215,216,217,218,219,220,221,222,223,224,225,226,227,228,229,230,231,232,233,234,235,236,237,238,239,240,241,242,243,244,245,246,247,248,249,250,251,252,253,254,255,256,257,258,259,260,261,262,263,264,265,266,267,268,269,270,271,272,273,274,275,276,277,278,279,280,281,282,283,284,285,286,287,288,289,290,291,292,293,294,295,296,297,298,299,300,301,302,303,304,305,306,307,308,309,310,311,312,313,314,315,316,317,318,319,320,321,322,323,324,325,326,327,328,329,330,331,332,333,334,335,336,337],\"instrument\":[0,0,0,0,0,0,0,0,0,0,0,0,0,0,0,0,0,0,0,0,0,0,0,0,0,0,0,0,0,0,0,0,0,0,0,0,0,0,0,0,0,0,0,0,0,0,0,0,0,0,0,0,0,0,0,0,0,0,0,0,0,0,0,0,0,0,0,0,0,0,0,0,0,0,0,0,0,0,0,0,0,0,0,0,0,0,0,0,0,0,0,0,0,0,0,0,0,0,0,0,0,0,0,0,0,0,0,0,0,0,0,0,0,0,0,0,0,0,0,0,0,0,0,0,0,0,0,0,0,0,0,0,0,0,0,0,0,0,0,0,0,0,0,0,0,0,0,0,0,0,0,0,0,0,0,0,0,0,0,0,0,0,0,0,0,0,0,0,0,0,0,0,0,0,0,0,0,0,0,0,0,0,0,0,0,0,0,0,0,0,0,0,0,0,0,0,0,0,0,0,0,0,0,0,0,0,0,0,0,0,0,0,0,0,0,0,0,0,0,0,0,0,0,0,0,0,0,0,0,0,0,0,0,0,0,0,0,0,0,0,0,0,0,0,0,0,0,0,0,0,0,0,0,0,0,0,0,0,0,0,0,0,0,0,0,0,0,0,0,0,0,0,0,0,0,0,0,0,0,0,0,0,0,0,0,0,0,0,0,0,0,0,0,0,0,0,0,0,0,0,0,0,0,0,0,0,0,0,0,0,0,0,0,0,0,0,0,0,0,0,0,0,0,0,0,0,0,0,0,0,0,0,0,0,0,0,0,0],\"pitch\":[52,57,40,33,40,52,57,33,40,33,40,33,40,33,40,33,40,52,59,33,40,52,59,33,40,33,40,33,40,33,40,33,40,52,60,40,33,40,52,60,33,40,33,40,33,40,33,40,33,40,57,62,33,40,57,62,57,62,33,40,33,40,33,40,33,40,33,40,64,69,40,33,40,64,69,33,40,33,40,33,40,76,77,80,81,33,40,33,40,65,71,33,40,65,71,33,40,33,40,33,40,76,77,80,81,33,40,33,40,69,72,40,33,40,69,72,33,40,33,40,33,40,76,77,80,81,33,40,33,40,71,74,33,40,71,74,71,74,33,40,33,40,33,40,76,77,80,81,33,40,33,40,67,71,75,39,67,71,75,47,43,69,73,77,42,69,73,77,67,71,75,39,67,71,75,43,47,51,69,73,77,44,69,73,77,69,73,77,53,41,41,41,41,41,52,57,76,52,57,72,52,57,81,52,57,53,57,77,53,57,72,53,57,81,53,57,52,57,76,52,57,72,52,57,81,52,57,77,53,57,72,53,57,76,53,57,74,53,57,76,52,57,75,52,57,83,52,57,52,57,81,53,57,53,57,53,57,53,57,52,57,52,57,52,57,52,57,53,57,53,57,53,57,53,57,71,52,57,69,52,57,76,52,57,52,57,75,53,57,53,57,53,57,53,57,52,57,52,57,52,57,52,57,53,57,53,57,53,57,53,57,76,40,52,75,84,76,41,53,75,83,76,42,54,75,84,81,41,53,69,40,52,72,76,77,76,41,53],\"program\":[0,0,0,0,0,0,0,0,0,0,0,0,0,0,0,0,0,0,0,0,0,0,0,0,0,0,0,0,0,0,0,0,0,0,0,0,0,0,0,0,0,0,0,0,0,0,0,0,0,0,0,0,0,0,0,0,0,0,0,0,0,0,0,0,0,0,0,0,0,0,0,0,0,0,0,0,0,0,0,0,0,0,0,0,0,0,0,0,0,0,0,0,0,0,0,0,0,0,0,0,0,0,0,0,0,0,0,0,0,0,0,0,0,0,0,0,0,0,0,0,0,0,0,0,0,0,0,0,0,0,0,0,0,0,0,0,0,0,0,0,0,0,0,0,0,0,0,0,0,0,0,0,0,0,0,0,0,0,0,0,0,0,0,0,0,0,0,0,0,0,0,0,0,0,0,0,0,0,0,0,0,0,0,0,0,0,0,0,0,0,0,0,0,0,0,0,0,0,0,0,0,0,0,0,0,0,0,0,0,0,0,0,0,0,0,0,0,0,0,0,0,0,0,0,0,0,0,0,0,0,0,0,0,0,0,0,0,0,0,0,0,0,0,0,0,0,0,0,0,0,0,0,0,0,0,0,0,0,0,0,0,0,0,0,0,0,0,0,0,0,0,0,0,0,0,0,0,0,0,0,0,0,0,0,0,0,0,0,0,0,0,0,0,0,0,0,0,0,0,0,0,0,0,0,0,0,0,0,0,0,0,0,0,0,0,0,0,0,0,0,0,0,0,0,0,0,0,0,0,0,0,0,0,0,0,0,0,0],\"start_time\":{\"__ndarray__\":\"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\",\"dtype\":\"float64\",\"shape\":[338]},\"top\":{\"__ndarray__\":\"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\",\"dtype\":\"float64\",\"shape\":[338]},\"velocity\":[90,90,90,90,90,90,90,90,90,90,90,90,90,90,90,90,90,90,90,90,90,90,90,90,90,90,90,90,90,90,90,90,90,90,90,90,90,90,90,90,90,90,90,90,90,90,90,90,90,90,90,90,90,90,90,90,90,90,90,90,90,90,90,90,90,90,90,90,90,90,90,90,90,90,90,90,90,90,90,90,90,90,90,90,90,90,90,90,90,90,90,90,90,90,90,90,90,90,90,90,90,90,90,90,90,90,90,90,90,90,90,90,90,90,90,90,90,90,90,90,90,90,90,90,90,90,90,90,90,90,90,90,90,90,90,90,90,90,90,90,90,90,90,90,90,90,90,90,90,90,90,90,90,90,90,90,90,90,90,90,90,90,90,90,90,90,90,90,90,90,90,90,90,90,90,90,90,90,90,90,90,90,90,90,90,90,90,90,90,90,90,90,90,90,90,90,90,90,90,90,90,90,90,90,90,90,90,90,90,90,90,90,90,90,90,90,90,90,90,90,90,90,90,90,90,90,90,90,90,90,90,90,90,90,90,90,90,90,90,90,90,90,90,90,90,90,90,90,90,90,90,90,90,90,90,90,90,90,90,90,90,90,90,90,90,90,90,90,90,90,90,90,90,90,90,90,90,90,90,90,90,90,90,90,90,90,90,90,90,90,90,90,90,90,90,90,90,90,90,90,90,90,90,90,90,90,90,90,90,90,90,90,90,90,90,90,90,90,90,90,90,90,90,90,90,90,90,90,90,90,90,90,90,90,90,90,90,90]},\"selected\":{\"id\":\"2119\",\"type\":\"Selection\"},\"selection_policy\":{\"id\":\"2120\",\"type\":\"UnionRenderers\"}},\"id\":\"2108\",\"type\":\"ColumnDataSource\"},{\"attributes\":{\"callback\":null},\"id\":\"2074\",\"type\":\"DataRange1d\"},{\"attributes\":{\"interval\":12},\"id\":\"2107\",\"type\":\"SingleIntervalTicker\"},{\"attributes\":{\"interval\":12},\"id\":\"2105\",\"type\":\"SingleIntervalTicker\"}],\"root_ids\":[\"2073\"]},\"title\":\"Bokeh Application\",\"version\":\"1.0.4\"}};\n",
              "  var render_items = [{\"docid\":\"be81a74f-b096-44f0-8de2-c076a020c32b\",\"roots\":{\"2073\":\"92471177-47bb-4bac-bb81-d2ac9bb4a66a\"}}];\n",
              "  root.Bokeh.embed.embed_items_notebook(docs_json, render_items);\n",
              "\n",
              "  }\n",
              "  if (root.Bokeh !== undefined) {\n",
              "    embed_document(root);\n",
              "  } else {\n",
              "    var attempts = 0;\n",
              "    var timer = setInterval(function(root) {\n",
              "      if (root.Bokeh !== undefined) {\n",
              "        embed_document(root);\n",
              "        clearInterval(timer);\n",
              "      }\n",
              "      attempts++;\n",
              "      if (attempts > 100) {\n",
              "        console.log(\"Bokeh: ERROR: Unable to run BokehJS code because BokehJS library is missing\");\n",
              "        clearInterval(timer);\n",
              "      }\n",
              "    }, 10, root)\n",
              "  }\n",
              "})(window);"
            ],
            "application/vnd.bokehjs_exec.v0+json": ""
          },
          "metadata": {
            "tags": [],
            "application/vnd.bokehjs_exec.v0+json": {
              "id": "2073"
            }
          }
        },
        {
          "output_type": "display_data",
          "data": {
            "text/plain": [
              "<IPython.core.display.HTML object>"
            ],
            "text/html": [
              "<div id=\"id_8\"> </div>"
            ]
          },
          "metadata": {
            "tags": []
          }
        }
      ]
    }
  ]
}