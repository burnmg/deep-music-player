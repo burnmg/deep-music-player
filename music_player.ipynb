{
  "nbformat": 4,
  "nbformat_minor": 0,
  "metadata": {
    "colab": {
      "name": "music_player.ipynb",
      "version": "0.3.2",
      "provenance": [],
      "collapsed_sections": []
    },
    "kernelspec": {
      "name": "python3",
      "display_name": "Python 3"
    },
    "accelerator": "GPU"
  },
  "cells": [
    {
      "metadata": {
        "id": "ZrZE9LV-lrmu",
        "colab_type": "code",
        "outputId": "60edf705-b724-4de7-c7b5-4349f0509fbe",
        "colab": {
          "base_uri": "https://localhost:8080/",
          "height": 2284
        }
      },
      "cell_type": "code",
      "source": [
        "!sudo apt-get install build-essential libasound2-dev libjack-dev\n",
        "\n",
        "!pip install magenta\n",
        "\n",
        "# !pip install magenta-gpu\n",
        "\n",
        "!pip install tensorflow==2.0.0-alpha0"
      ],
      "execution_count": 0,
      "outputs": [
        {
          "output_type": "stream",
          "text": [
            "Reading package lists... Done\n",
            "Building dependency tree       \n",
            "Reading state information... Done\n",
            "build-essential is already the newest version (12.4ubuntu1).\n",
            "libjack-dev is already the newest version (1:0.125.0-3).\n",
            "libasound2-dev is already the newest version (1.1.3-5ubuntu0.2).\n",
            "The following package was automatically installed and is no longer required:\n",
            "  libnvidia-common-410\n",
            "Use 'sudo apt autoremove' to remove it.\n",
            "0 upgraded, 0 newly installed, 0 to remove and 38 not upgraded.\n",
            "Requirement already satisfied: magenta in /usr/local/lib/python3.6/dist-packages (1.0.5)\n",
            "Requirement already satisfied: IPython in /usr/local/lib/python3.6/dist-packages (from magenta) (5.5.0)\n",
            "Requirement already satisfied: sonnet in /usr/local/lib/python3.6/dist-packages (from magenta) (0.1.6)\n",
            "Requirement already satisfied: pretty-midi>=0.2.6 in /usr/local/lib/python3.6/dist-packages (from magenta) (0.2.8)\n",
            "Requirement already satisfied: pandas>=0.18.1 in /usr/local/lib/python3.6/dist-packages (from magenta) (0.23.4)\n",
            "Requirement already satisfied: sox>=1.3.7 in /usr/local/lib/python3.6/dist-packages (from magenta) (1.3.7)\n",
            "Requirement already satisfied: protobuf>=3.6.1 in /usr/local/lib/python3.6/dist-packages (from magenta) (3.7.1)\n",
            "Requirement already satisfied: wheel in /usr/local/lib/python3.6/dist-packages (from magenta) (0.33.1)\n",
            "Requirement already satisfied: bokeh>=0.12.0 in /usr/local/lib/python3.6/dist-packages (from magenta) (1.0.4)\n",
            "Requirement already satisfied: numpy>=1.14.6 in /usr/local/lib/python3.6/dist-packages (from magenta) (1.16.2)\n",
            "Requirement already satisfied: absl-py in /usr/local/lib/python3.6/dist-packages (from magenta) (0.7.1)\n",
            "Requirement already satisfied: python-rtmidi<1.2,>=1.1 in /usr/local/lib/python3.6/dist-packages (from magenta) (1.1.2)\n",
            "Requirement already satisfied: matplotlib>=1.5.3 in /usr/local/lib/python3.6/dist-packages (from magenta) (3.0.3)\n",
            "Requirement already satisfied: backports.tempfile in /usr/local/lib/python3.6/dist-packages (from magenta) (1.0)\n",
            "Requirement already satisfied: intervaltree>=2.1.0 in /usr/local/lib/python3.6/dist-packages (from magenta) (2.1.0)\n",
            "Requirement already satisfied: scipy<=1.2.0,>=0.18.1 in /usr/local/lib/python3.6/dist-packages (from magenta) (1.2.0)\n",
            "Requirement already satisfied: joblib>=0.12 in /usr/local/lib/python3.6/dist-packages (from magenta) (0.12.5)\n",
            "Requirement already satisfied: tensorflow-probability>=0.5.0 in /usr/local/lib/python3.6/dist-packages (from magenta) (0.6.0)\n",
            "Requirement already satisfied: sk-video in /usr/local/lib/python3.6/dist-packages (from magenta) (1.1.10)\n",
            "Requirement already satisfied: tensorflow>=1.12.0 in /usr/local/lib/python3.6/dist-packages (from magenta) (2.0.0a0)\n",
            "Requirement already satisfied: mido==1.2.6 in /usr/local/lib/python3.6/dist-packages (from magenta) (1.2.6)\n",
            "Requirement already satisfied: librosa>=0.6.2 in /usr/local/lib/python3.6/dist-packages (from magenta) (0.6.3)\n",
            "Requirement already satisfied: tensor2tensor>=1.10.0 in /usr/local/lib/python3.6/dist-packages (from magenta) (1.11.0)\n",
            "Requirement already satisfied: mir-eval>=0.4 in /usr/local/lib/python3.6/dist-packages (from magenta) (0.5)\n",
            "Requirement already satisfied: Pillow>=3.4.2 in /usr/local/lib/python3.6/dist-packages (from magenta) (4.3.0)\n",
            "Requirement already satisfied: pygtrie>=2.3 in /usr/local/lib/python3.6/dist-packages (from magenta) (2.3)\n",
            "Requirement already satisfied: simplegeneric>0.8 in /usr/local/lib/python3.6/dist-packages (from IPython->magenta) (0.8.1)\n",
            "Requirement already satisfied: pexpect; sys_platform != \"win32\" in /usr/local/lib/python3.6/dist-packages (from IPython->magenta) (4.7.0)\n",
            "Requirement already satisfied: pygments in /usr/local/lib/python3.6/dist-packages (from IPython->magenta) (2.1.3)\n",
            "Requirement already satisfied: pickleshare in /usr/local/lib/python3.6/dist-packages (from IPython->magenta) (0.7.5)\n",
            "Requirement already satisfied: traitlets>=4.2 in /usr/local/lib/python3.6/dist-packages (from IPython->magenta) (4.3.2)\n",
            "Requirement already satisfied: setuptools>=18.5 in /usr/local/lib/python3.6/dist-packages (from IPython->magenta) (40.9.0)\n",
            "Requirement already satisfied: decorator in /usr/local/lib/python3.6/dist-packages (from IPython->magenta) (4.4.0)\n",
            "Requirement already satisfied: prompt-toolkit<2.0.0,>=1.0.4 in /usr/local/lib/python3.6/dist-packages (from IPython->magenta) (1.0.16)\n",
            "Requirement already satisfied: networkx==1.8.1 in /usr/local/lib/python3.6/dist-packages (from sonnet->magenta) (1.8.1)\n",
            "Requirement already satisfied: six in /usr/local/lib/python3.6/dist-packages (from pretty-midi>=0.2.6->magenta) (1.11.0)\n",
            "Requirement already satisfied: python-dateutil>=2.5.0 in /usr/local/lib/python3.6/dist-packages (from pandas>=0.18.1->magenta) (2.5.3)\n",
            "Requirement already satisfied: pytz>=2011k in /usr/local/lib/python3.6/dist-packages (from pandas>=0.18.1->magenta) (2018.9)\n",
            "Requirement already satisfied: PyYAML>=3.10 in /usr/local/lib/python3.6/dist-packages (from bokeh>=0.12.0->magenta) (3.13)\n",
            "Requirement already satisfied: Jinja2>=2.7 in /usr/local/lib/python3.6/dist-packages (from bokeh>=0.12.0->magenta) (2.10.1)\n",
            "Requirement already satisfied: packaging>=16.8 in /usr/local/lib/python3.6/dist-packages (from bokeh>=0.12.0->magenta) (19.0)\n",
            "Requirement already satisfied: tornado>=4.3 in /usr/local/lib/python3.6/dist-packages (from bokeh>=0.12.0->magenta) (4.5.3)\n",
            "Requirement already satisfied: kiwisolver>=1.0.1 in /usr/local/lib/python3.6/dist-packages (from matplotlib>=1.5.3->magenta) (1.0.1)\n",
            "Requirement already satisfied: cycler>=0.10 in /usr/local/lib/python3.6/dist-packages (from matplotlib>=1.5.3->magenta) (0.10.0)\n",
            "Requirement already satisfied: pyparsing!=2.0.4,!=2.1.2,!=2.1.6,>=2.0.1 in /usr/local/lib/python3.6/dist-packages (from matplotlib>=1.5.3->magenta) (2.4.0)\n",
            "Requirement already satisfied: backports.weakref in /usr/local/lib/python3.6/dist-packages (from backports.tempfile->magenta) (1.0.post1)\n",
            "Requirement already satisfied: sortedcontainers in /usr/local/lib/python3.6/dist-packages (from intervaltree>=2.1.0->magenta) (2.1.0)\n",
            "Requirement already satisfied: astor>=0.6.0 in /usr/local/lib/python3.6/dist-packages (from tensorflow>=1.12.0->magenta) (0.7.1)\n",
            "Requirement already satisfied: keras-applications>=1.0.6 in /usr/local/lib/python3.6/dist-packages (from tensorflow>=1.12.0->magenta) (1.0.7)\n",
            "Requirement already satisfied: tf-estimator-nightly<1.14.0.dev2019030116,>=1.14.0.dev2019030115 in /usr/local/lib/python3.6/dist-packages (from tensorflow>=1.12.0->magenta) (1.14.0.dev2019030115)\n",
            "Requirement already satisfied: grpcio>=1.8.6 in /usr/local/lib/python3.6/dist-packages (from tensorflow>=1.12.0->magenta) (1.15.0)\n",
            "Requirement already satisfied: gast>=0.2.0 in /usr/local/lib/python3.6/dist-packages (from tensorflow>=1.12.0->magenta) (0.2.2)\n",
            "Requirement already satisfied: tb-nightly<1.14.0a20190302,>=1.14.0a20190301 in /usr/local/lib/python3.6/dist-packages (from tensorflow>=1.12.0->magenta) (1.14.0a20190301)\n",
            "Requirement already satisfied: google-pasta>=0.1.2 in /usr/local/lib/python3.6/dist-packages (from tensorflow>=1.12.0->magenta) (0.1.5)\n",
            "Requirement already satisfied: termcolor>=1.1.0 in /usr/local/lib/python3.6/dist-packages (from tensorflow>=1.12.0->magenta) (1.1.0)\n",
            "Requirement already satisfied: keras-preprocessing>=1.0.5 in /usr/local/lib/python3.6/dist-packages (from tensorflow>=1.12.0->magenta) (1.0.9)\n",
            "Requirement already satisfied: audioread>=2.0.0 in /usr/local/lib/python3.6/dist-packages (from librosa>=0.6.2->magenta) (2.1.6)\n",
            "Requirement already satisfied: scikit-learn!=0.19.0,>=0.14.0 in /usr/local/lib/python3.6/dist-packages (from librosa>=0.6.2->magenta) (0.20.3)\n",
            "Requirement already satisfied: resampy>=0.2.0 in /usr/local/lib/python3.6/dist-packages (from librosa>=0.6.2->magenta) (0.2.1)\n",
            "Requirement already satisfied: numba>=0.38.0 in /usr/local/lib/python3.6/dist-packages (from librosa>=0.6.2->magenta) (0.40.1)\n",
            "Requirement already satisfied: gevent in /usr/local/lib/python3.6/dist-packages (from tensor2tensor>=1.10.0->magenta) (1.4.0)\n",
            "Requirement already satisfied: h5py in /usr/local/lib/python3.6/dist-packages (from tensor2tensor>=1.10.0->magenta) (2.8.0)\n",
            "Requirement already satisfied: google-api-python-client in /usr/local/lib/python3.6/dist-packages (from tensor2tensor>=1.10.0->magenta) (1.6.7)\n",
            "Requirement already satisfied: future in /usr/local/lib/python3.6/dist-packages (from tensor2tensor>=1.10.0->magenta) (0.16.0)\n",
            "Requirement already satisfied: flask in /usr/local/lib/python3.6/dist-packages (from tensor2tensor>=1.10.0->magenta) (1.0.2)\n",
            "Requirement already satisfied: requests in /usr/local/lib/python3.6/dist-packages (from tensor2tensor>=1.10.0->magenta) (2.18.4)\n",
            "Requirement already satisfied: mesh-tensorflow in /usr/local/lib/python3.6/dist-packages (from tensor2tensor>=1.10.0->magenta) (0.0.5)\n",
            "Requirement already satisfied: sympy in /usr/local/lib/python3.6/dist-packages (from tensor2tensor>=1.10.0->magenta) (1.1.1)\n",
            "Requirement already satisfied: oauth2client in /usr/local/lib/python3.6/dist-packages (from tensor2tensor>=1.10.0->magenta) (4.1.3)\n",
            "Requirement already satisfied: tfds-nightly in /usr/local/lib/python3.6/dist-packages (from tensor2tensor>=1.10.0->magenta) (1.0.2.dev201904090105)\n",
            "Requirement already satisfied: gunicorn in /usr/local/lib/python3.6/dist-packages (from tensor2tensor>=1.10.0->magenta) (19.9.0)\n",
            "Requirement already satisfied: tqdm in /usr/local/lib/python3.6/dist-packages (from tensor2tensor>=1.10.0->magenta) (4.28.1)\n",
            "Requirement already satisfied: bz2file in /usr/local/lib/python3.6/dist-packages (from tensor2tensor>=1.10.0->magenta) (0.98)\n",
            "Requirement already satisfied: gym in /usr/local/lib/python3.6/dist-packages (from tensor2tensor>=1.10.0->magenta) (0.10.11)\n",
            "Requirement already satisfied: olefile in /usr/local/lib/python3.6/dist-packages (from Pillow>=3.4.2->magenta) (0.46)\n",
            "Requirement already satisfied: ptyprocess>=0.5 in /usr/local/lib/python3.6/dist-packages (from pexpect; sys_platform != \"win32\"->IPython->magenta) (0.6.0)\n",
            "Requirement already satisfied: ipython-genutils in /usr/local/lib/python3.6/dist-packages (from traitlets>=4.2->IPython->magenta) (0.2.0)\n",
            "Requirement already satisfied: wcwidth in /usr/local/lib/python3.6/dist-packages (from prompt-toolkit<2.0.0,>=1.0.4->IPython->magenta) (0.1.7)\n",
            "Requirement already satisfied: MarkupSafe>=0.23 in /usr/local/lib/python3.6/dist-packages (from Jinja2>=2.7->bokeh>=0.12.0->magenta) (1.1.1)\n",
            "Requirement already satisfied: werkzeug>=0.11.15 in /usr/local/lib/python3.6/dist-packages (from tb-nightly<1.14.0a20190302,>=1.14.0a20190301->tensorflow>=1.12.0->magenta) (0.15.2)\n",
            "Requirement already satisfied: markdown>=2.6.8 in /usr/local/lib/python3.6/dist-packages (from tb-nightly<1.14.0a20190302,>=1.14.0a20190301->tensorflow>=1.12.0->magenta) (3.1)\n",
            "Requirement already satisfied: llvmlite>=0.25.0dev0 in /usr/local/lib/python3.6/dist-packages (from numba>=0.38.0->librosa>=0.6.2->magenta) (0.28.0)\n",
            "Requirement already satisfied: greenlet>=0.4.14; platform_python_implementation == \"CPython\" in /usr/local/lib/python3.6/dist-packages (from gevent->tensor2tensor>=1.10.0->magenta) (0.4.15)\n",
            "Requirement already satisfied: httplib2<1dev,>=0.9.2 in /usr/local/lib/python3.6/dist-packages (from google-api-python-client->tensor2tensor>=1.10.0->magenta) (0.11.3)\n",
            "Requirement already satisfied: uritemplate<4dev,>=3.0.0 in /usr/local/lib/python3.6/dist-packages (from google-api-python-client->tensor2tensor>=1.10.0->magenta) (3.0.0)\n",
            "Requirement already satisfied: click>=5.1 in /usr/local/lib/python3.6/dist-packages (from flask->tensor2tensor>=1.10.0->magenta) (7.0)\n",
            "Requirement already satisfied: itsdangerous>=0.24 in /usr/local/lib/python3.6/dist-packages (from flask->tensor2tensor>=1.10.0->magenta) (1.1.0)\n",
            "Requirement already satisfied: chardet<3.1.0,>=3.0.2 in /usr/local/lib/python3.6/dist-packages (from requests->tensor2tensor>=1.10.0->magenta) (3.0.4)\n",
            "Requirement already satisfied: idna<2.7,>=2.5 in /usr/local/lib/python3.6/dist-packages (from requests->tensor2tensor>=1.10.0->magenta) (2.6)\n",
            "Requirement already satisfied: certifi>=2017.4.17 in /usr/local/lib/python3.6/dist-packages (from requests->tensor2tensor>=1.10.0->magenta) (2019.3.9)\n",
            "Requirement already satisfied: urllib3<1.23,>=1.21.1 in /usr/local/lib/python3.6/dist-packages (from requests->tensor2tensor>=1.10.0->magenta) (1.22)\n",
            "Requirement already satisfied: mpmath>=0.19 in /usr/local/lib/python3.6/dist-packages (from sympy->tensor2tensor>=1.10.0->magenta) (1.1.0)\n",
            "Requirement already satisfied: pyasn1>=0.1.7 in /usr/local/lib/python3.6/dist-packages (from oauth2client->tensor2tensor>=1.10.0->magenta) (0.4.5)\n",
            "Requirement already satisfied: pyasn1-modules>=0.0.5 in /usr/local/lib/python3.6/dist-packages (from oauth2client->tensor2tensor>=1.10.0->magenta) (0.2.4)\n",
            "Requirement already satisfied: rsa>=3.1.4 in /usr/local/lib/python3.6/dist-packages (from oauth2client->tensor2tensor>=1.10.0->magenta) (4.0)\n",
            "Requirement already satisfied: wrapt in /usr/local/lib/python3.6/dist-packages (from tfds-nightly->tensor2tensor>=1.10.0->magenta) (1.10.11)\n",
            "Requirement already satisfied: tensorflow-metadata in /usr/local/lib/python3.6/dist-packages (from tfds-nightly->tensor2tensor>=1.10.0->magenta) (0.13.0)\n",
            "Requirement already satisfied: promise in /usr/local/lib/python3.6/dist-packages (from tfds-nightly->tensor2tensor>=1.10.0->magenta) (2.2.1)\n",
            "Requirement already satisfied: psutil in /usr/local/lib/python3.6/dist-packages (from tfds-nightly->tensor2tensor>=1.10.0->magenta) (5.4.8)\n",
            "Requirement already satisfied: pyglet>=1.2.0 in /usr/local/lib/python3.6/dist-packages (from gym->tensor2tensor>=1.10.0->magenta) (1.3.2)\n",
            "Requirement already satisfied: googleapis-common-protos in /usr/local/lib/python3.6/dist-packages (from tensorflow-metadata->tfds-nightly->tensor2tensor>=1.10.0->magenta) (1.5.9)\n",
            "Requirement already satisfied: tensorflow==2.0.0-alpha0 in /usr/local/lib/python3.6/dist-packages (2.0.0a0)\n",
            "Requirement already satisfied: six>=1.10.0 in /usr/local/lib/python3.6/dist-packages (from tensorflow==2.0.0-alpha0) (1.11.0)\n",
            "Requirement already satisfied: termcolor>=1.1.0 in /usr/local/lib/python3.6/dist-packages (from tensorflow==2.0.0-alpha0) (1.1.0)\n",
            "Requirement already satisfied: astor>=0.6.0 in /usr/local/lib/python3.6/dist-packages (from tensorflow==2.0.0-alpha0) (0.7.1)\n",
            "Requirement already satisfied: absl-py>=0.7.0 in /usr/local/lib/python3.6/dist-packages (from tensorflow==2.0.0-alpha0) (0.7.1)\n",
            "Requirement already satisfied: keras-preprocessing>=1.0.5 in /usr/local/lib/python3.6/dist-packages (from tensorflow==2.0.0-alpha0) (1.0.9)\n",
            "Requirement already satisfied: wheel>=0.26 in /usr/local/lib/python3.6/dist-packages (from tensorflow==2.0.0-alpha0) (0.33.1)\n",
            "Requirement already satisfied: tb-nightly<1.14.0a20190302,>=1.14.0a20190301 in /usr/local/lib/python3.6/dist-packages (from tensorflow==2.0.0-alpha0) (1.14.0a20190301)\n",
            "Requirement already satisfied: google-pasta>=0.1.2 in /usr/local/lib/python3.6/dist-packages (from tensorflow==2.0.0-alpha0) (0.1.5)\n",
            "Requirement already satisfied: keras-applications>=1.0.6 in /usr/local/lib/python3.6/dist-packages (from tensorflow==2.0.0-alpha0) (1.0.7)\n",
            "Requirement already satisfied: gast>=0.2.0 in /usr/local/lib/python3.6/dist-packages (from tensorflow==2.0.0-alpha0) (0.2.2)\n",
            "Requirement already satisfied: numpy<2.0,>=1.14.5 in /usr/local/lib/python3.6/dist-packages (from tensorflow==2.0.0-alpha0) (1.16.2)\n",
            "Requirement already satisfied: protobuf>=3.6.1 in /usr/local/lib/python3.6/dist-packages (from tensorflow==2.0.0-alpha0) (3.7.1)\n",
            "Requirement already satisfied: grpcio>=1.8.6 in /usr/local/lib/python3.6/dist-packages (from tensorflow==2.0.0-alpha0) (1.15.0)\n",
            "Requirement already satisfied: tf-estimator-nightly<1.14.0.dev2019030116,>=1.14.0.dev2019030115 in /usr/local/lib/python3.6/dist-packages (from tensorflow==2.0.0-alpha0) (1.14.0.dev2019030115)\n",
            "Requirement already satisfied: werkzeug>=0.11.15 in /usr/local/lib/python3.6/dist-packages (from tb-nightly<1.14.0a20190302,>=1.14.0a20190301->tensorflow==2.0.0-alpha0) (0.15.2)\n",
            "Requirement already satisfied: markdown>=2.6.8 in /usr/local/lib/python3.6/dist-packages (from tb-nightly<1.14.0a20190302,>=1.14.0a20190301->tensorflow==2.0.0-alpha0) (3.1)\n",
            "Requirement already satisfied: h5py in /usr/local/lib/python3.6/dist-packages (from keras-applications>=1.0.6->tensorflow==2.0.0-alpha0) (2.8.0)\n",
            "Requirement already satisfied: setuptools in /usr/local/lib/python3.6/dist-packages (from protobuf>=3.6.1->tensorflow==2.0.0-alpha0) (40.9.0)\n"
          ],
          "name": "stdout"
        }
      ]
    },
    {
      "metadata": {
        "id": "AfgVcnRKHu9D",
        "colab_type": "code",
        "colab": {}
      },
      "cell_type": "code",
      "source": [
        "from google.colab import files\n",
        "\n",
        "import magenta.music as mm\n",
        "import magenta\n",
        "import tensorflow as tf"
      ],
      "execution_count": 0,
      "outputs": []
    },
    {
      "metadata": {
        "id": "P7dFnP5q3Jve",
        "colab_type": "code",
        "colab": {}
      },
      "cell_type": "code",
      "source": [
        "path_to_file = tf.keras.utils.get_file('irish.abc', 'https://raw.githubusercontent.com/aamini/introtodeeplearning_labs/2019/lab1/data/irish.abc')\n",
        "\n",
        "# path_to_file = tf.keras.utils.get_file('irish.abc', 'http://members.yline.com/~zeiler1/abc/czdro.abc')\n",
        "# path_to_file = tf.keras.utils.get_file('irish.abc', 'http://members.yline.com/~zeiler1/abc/czital.abc')\n",
        "\n"
      ],
      "execution_count": 0,
      "outputs": []
    },
    {
      "metadata": {
        "id": "m8s5h80MJA0h",
        "colab_type": "code",
        "colab": {}
      },
      "cell_type": "code",
      "source": [
        "with open(path_to_file, 'r') as file:\n",
        "    raw_data = file.read()"
      ],
      "execution_count": 0,
      "outputs": []
    },
    {
      "metadata": {
        "id": "K9FW3gOSJdZJ",
        "colab_type": "code",
        "colab": {}
      },
      "cell_type": "code",
      "source": [
        "raw_songs = raw_data.split(\"\\n\\n\")"
      ],
      "execution_count": 0,
      "outputs": []
    },
    {
      "metadata": {
        "id": "nW9MO3UOY3Ni",
        "colab_type": "code",
        "colab": {}
      },
      "cell_type": "code",
      "source": [
        "import re\n",
        "\n",
        "def clean_music(music_score):\n",
        "    \"\"\"\n",
        "    :param music_score: string\n",
        "    :return: cleaned_score,\n",
        "    \"\"\"\n",
        "    p = re.compile(r\"\\(3(\\w)\\w(\\w)\")\n",
        "    res = p.sub(r\"\\1\\2\", music_score)\n",
        "    res = res.replace(\"!\", \"\")\n",
        "    return res\n",
        "\n",
        "\n",
        "# with open(\"test_data\", \"r\") as input:\n",
        "#     str = input.read()\n",
        "#     print(\n",
        "#         clean_music(str)\n",
        "#           )"
      ],
      "execution_count": 0,
      "outputs": []
    },
    {
      "metadata": {
        "id": "0cAgj3V0ORO5",
        "colab_type": "code",
        "colab": {}
      },
      "cell_type": "code",
      "source": [
        "songs_wo_tuplets = []\n",
        "\n",
        "for song in raw_songs:\n",
        "  # Remove the exclamation mark, which is not supported by the parser\n",
        "  clean_song = clean_music(song)\n",
        "  songs_wo_tuplets.append(clean_song)  "
      ],
      "execution_count": 0,
      "outputs": []
    },
    {
      "metadata": {
        "id": "xdR9fgcOUQoy",
        "colab_type": "text"
      },
      "cell_type": "markdown",
      "source": [
        "Refer to documentation on Magenta NoteSequence\n",
        "\n",
        "\n",
        "https://nikhilsinghmus.github.io/MusicianKit/Structs/NoteSequence.html#/s:11MusicianKit12NoteSequenceV5notesSayAA0C0VGv"
      ]
    },
    {
      "metadata": {
        "id": "H9ggeTwXMH66",
        "colab_type": "code",
        "outputId": "69e8b9bc-7ef9-40f9-a8fa-f84629f8d0b6",
        "colab": {
          "base_uri": "https://localhost:8080/",
          "height": 864
        }
      },
      "cell_type": "code",
      "source": [
        "# Parse abc to notesequence\n",
        "\n",
        "from magenta.music import abc_parser as abc_parser\n",
        "import numpy as np\n",
        "\n",
        "MAX_NOTES = 1000\n",
        "NUM_PARAM = 3\n",
        "\n",
        "# 3D numpy array: num songs x MAX_NOTES x NUM_PARAM\n",
        "all_songs_data = np.empty((1, MAX_NOTES, NUM_PARAM), np.float64)\n",
        "\n",
        "for k in range(len(songs_wo_tuplets)):\n",
        "  res = abc_parser.parse_abc_tunebook(songs_wo_tuplets[k])[0]\n",
        "  \n",
        "  temp_data = np.empty((1, 1, NUM_PARAM), np.float64)\n",
        "  notes_data = np.zeros((1, MAX_NOTES, NUM_PARAM))\n",
        "  \n",
        "  for key in res.keys():\n",
        "    for note in res[key].notes:\n",
        "      # Convert notes into a 2D numpy array\n",
        "      # The 1st dimension is pitch, velocity (loudness) and interval\n",
        "      # The 2nd dimension is the number of notes\n",
        "\n",
        "      a = np.array([[[note.pitch, note.velocity, note.end_time - note.start_time]]])  \n",
        "      temp_data = np.append(temp_data, a, axis=1)\n",
        "      \n",
        "  \n",
        "  notes_data[0, :temp_data.shape[1],:temp_data.shape[2]] = temp_data\n",
        "  \n",
        "  all_songs_data = np.append(all_songs_data, notes_data, axis=0)\n",
        "  \n",
        "all_songs_data\n"
      ],
      "execution_count": 33,
      "outputs": [
        {
          "output_type": "execute_result",
          "data": {
            "text/plain": [
              "array([[[6.7870612e-316, 9.0000000e+001, 1.0000000e+000],\n",
              "        [0.0000000e+000, 0.0000000e+000, 0.0000000e+000],\n",
              "        [0.0000000e+000, 0.0000000e+000, 0.0000000e+000],\n",
              "        ...,\n",
              "        [0.0000000e+000, 0.0000000e+000, 0.0000000e+000],\n",
              "        [0.0000000e+000, 0.0000000e+000, 0.0000000e+000],\n",
              "        [0.0000000e+000, 0.0000000e+000, 0.0000000e+000]],\n",
              "\n",
              "       [[7.6000000e+001, 9.0000000e+001, 5.0000000e-001],\n",
              "        [6.9000000e+001, 9.0000000e+001, 2.5000000e-001],\n",
              "        [7.3000000e+001, 9.0000000e+001, 2.5000000e-001],\n",
              "        ...,\n",
              "        [0.0000000e+000, 0.0000000e+000, 0.0000000e+000],\n",
              "        [0.0000000e+000, 0.0000000e+000, 0.0000000e+000],\n",
              "        [0.0000000e+000, 0.0000000e+000, 0.0000000e+000]],\n",
              "\n",
              "       [[7.3000000e+001, 9.0000000e+001, 2.5000000e-001],\n",
              "        [6.7000000e+001, 9.0000000e+001, 2.5000000e-001],\n",
              "        [6.6000000e+001, 9.0000000e+001, 2.5000000e-001],\n",
              "        ...,\n",
              "        [0.0000000e+000, 0.0000000e+000, 0.0000000e+000],\n",
              "        [0.0000000e+000, 0.0000000e+000, 0.0000000e+000],\n",
              "        [0.0000000e+000, 0.0000000e+000, 0.0000000e+000]],\n",
              "\n",
              "       ...,\n",
              "\n",
              "       [[6.7000000e+001, 9.0000000e+001, 1.5000000e+000],\n",
              "        [0.0000000e+000, 0.0000000e+000, 0.0000000e+000],\n",
              "        [0.0000000e+000, 0.0000000e+000, 0.0000000e+000],\n",
              "        ...,\n",
              "        [0.0000000e+000, 0.0000000e+000, 0.0000000e+000],\n",
              "        [0.0000000e+000, 0.0000000e+000, 0.0000000e+000],\n",
              "        [0.0000000e+000, 0.0000000e+000, 0.0000000e+000]],\n",
              "\n",
              "       [[6.7000000e+001, 9.0000000e+001, 1.0000000e+000],\n",
              "        [0.0000000e+000, 0.0000000e+000, 0.0000000e+000],\n",
              "        [0.0000000e+000, 0.0000000e+000, 0.0000000e+000],\n",
              "        ...,\n",
              "        [0.0000000e+000, 0.0000000e+000, 0.0000000e+000],\n",
              "        [0.0000000e+000, 0.0000000e+000, 0.0000000e+000],\n",
              "        [0.0000000e+000, 0.0000000e+000, 0.0000000e+000]],\n",
              "\n",
              "       [[6.7000000e+001, 9.0000000e+001, 1.5000000e+000],\n",
              "        [6.6000000e+001, 9.0000000e+001, 2.5000000e-001],\n",
              "        [6.7000000e+001, 9.0000000e+001, 2.5000000e-001],\n",
              "        ...,\n",
              "        [0.0000000e+000, 0.0000000e+000, 0.0000000e+000],\n",
              "        [0.0000000e+000, 0.0000000e+000, 0.0000000e+000],\n",
              "        [0.0000000e+000, 0.0000000e+000, 0.0000000e+000]]])"
            ]
          },
          "metadata": {
            "tags": []
          },
          "execution_count": 33
        }
      ]
    },
    {
      "metadata": {
        "id": "xKDtbQwQVmv4",
        "colab_type": "code",
        "colab": {
          "base_uri": "https://localhost:8080/",
          "height": 34
        },
        "outputId": "3dcdd547-502c-40f2-9ee4-fa693a88a8cb"
      },
      "cell_type": "code",
      "source": [
        "print(all_songs_data.shape)"
      ],
      "execution_count": 31,
      "outputs": [
        {
          "output_type": "stream",
          "text": [
            "(807, 1000, 3)\n"
          ],
          "name": "stdout"
        }
      ]
    },
    {
      "metadata": {
        "id": "9O7h47xMYvvp",
        "colab_type": "text"
      },
      "cell_type": "markdown",
      "source": [
        "Numpy to NoteSequence reference:\n",
        "\n",
        "https://colab.research.google.com/notebooks/magenta/hello_magenta/hello_magenta.ipynb#scrollTo=71dgCmmBli-s\n",
        "\n"
      ]
    },
    {
      "metadata": {
        "id": "e7_WotweDit_",
        "colab_type": "code",
        "colab": {}
      },
      "cell_type": "code",
      "source": [
        "import pickle\n",
        "\n",
        "pickle.dump( all_songs_data, open( \"all_songs_data.p\", \"wb\" ) )\n",
        "\n",
        "all_songs_data = pickle.load( open( \"all_songs_data.p\", \"rb\" ) )\n"
      ],
      "execution_count": 0,
      "outputs": []
    }
  ]
}
