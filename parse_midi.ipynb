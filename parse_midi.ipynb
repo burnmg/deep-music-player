{
  "nbformat": 4,
  "nbformat_minor": 0,
  "metadata": {
    "colab": {
      "name": "parse_midi.ipynb",
      "version": "0.3.2",
      "provenance": [],
      "collapsed_sections": [],
      "toc_visible": true
    },
    "kernelspec": {
      "name": "python2",
      "display_name": "Python 2"
    },
    "accelerator": "GPU"
  },
  "cells": [
    {
      "cell_type": "code",
      "metadata": {
        "id": "V8rDHr575m3m",
        "colab_type": "code",
        "colab": {}
      },
      "source": [
        "# !pip install tensorflow-gpu==2.0.0-alpha0"
      ],
      "execution_count": 0,
      "outputs": []
    },
    {
      "cell_type": "code",
      "metadata": {
        "id": "gZ4Zpfeg6Pti",
        "colab_type": "code",
        "colab": {}
      },
      "source": [
        "import tensorflow as tf\n",
        "from tensorflow import keras\n",
        "from tensorflow.keras.layers import Dense, GRU, Dropout, Embedding\n",
        "from music21 import converter, instrument, note, chord, pitch\n",
        "from google.colab import drive\n",
        "import numpy as np\n",
        "import time\n",
        "import glob\n",
        "import pickle"
      ],
      "execution_count": 0,
      "outputs": []
    },
    {
      "cell_type": "code",
      "metadata": {
        "id": "r3DDtqkY061Y",
        "colab_type": "code",
        "outputId": "d7522b19-162e-40d9-de54-547bd4eb9dda",
        "colab": {
          "base_uri": "https://localhost:8080/",
          "height": 54
        }
      },
      "source": [
        "drive.mount('/content/gdrive')"
      ],
      "execution_count": 0,
      "outputs": [
        {
          "output_type": "stream",
          "text": [
            "Drive already mounted at /content/gdrive; to attempt to forcibly remount, call drive.mount(\"/content/gdrive\", force_remount=True).\n"
          ],
          "name": "stdout"
        }
      ]
    },
    {
      "cell_type": "code",
      "metadata": {
        "id": "V1NHWHqjzR2w",
        "colab_type": "code",
        "colab": {}
      },
      "source": [
        "data_path = \"/content/gdrive/My Drive/Applied Deep Learning/Data/\""
      ],
      "execution_count": 0,
      "outputs": []
    },
    {
      "cell_type": "code",
      "metadata": {
        "id": "Z-WKwrv24GRn",
        "colab_type": "code",
        "colab": {}
      },
      "source": [
        "def get_notes(filename):\n",
        "  notes = []\n",
        "  midi = converter.parse(filename)\n",
        "  notes_to_parse = None\n",
        "  try:  # file has instrument parts\n",
        "    s2 = instrument.partitionByInstrument(midi)\n",
        "    notes_to_parse = s2.parts[0].recurse() \n",
        "  except:  # file has notes in a flat structure\n",
        "    notes_to_parse = midi.flat.notes\n",
        "\n",
        "  for element in notes_to_parse:\n",
        "    \n",
        "    new_chord = [-1] * 6 # 5 pitches + 1 duration\n",
        "    \n",
        "    if isinstance(element, note.Note):\n",
        "      new_chord[0] = element.pitch.ps\n",
        "      new_chord[5] = float(element.duration.quarterLength)\n",
        "#       new_chord[5] = round(float(element.duration.quarterLength), 3)\n",
        "      notes.append(new_chord)\n",
        "    elif isinstance(element, chord.Chord):\n",
        "      new_chord[5] = float(element.duration.quarterLength)\n",
        "#       new_chord[5] = round(float(element.duration.quarterLength), 3)\n",
        "      \n",
        "      for k in range(len(element.pitches)):\n",
        "        new_chord[k] = element.pitches[k].ps\n",
        "        \n",
        "        if k >= len(new_chord) - 1:\n",
        "          break\n",
        "\n",
        "      notes.append(new_chord)\n",
        "\n",
        "  return notes\n"
      ],
      "execution_count": 0,
      "outputs": []
    },
    {
      "cell_type": "code",
      "metadata": {
        "id": "9NLO1eNP8BtW",
        "colab_type": "code",
        "outputId": "e78df8a7-a3eb-499b-d88d-953266335799",
        "colab": {
          "base_uri": "https://localhost:8080/",
          "height": 1607
        }
      },
      "source": [
        "from magenta.music import abc_parser as abc_parser\n",
        "import numpy as np\n",
        "\n",
        "MAX_NOTES = 2500\n",
        "NUM_PARAM = 5 + 1 # 5 pitches + 1 duration\n",
        "\n",
        "# 3D numpy array: num songs x MAX_NOTES x NUM_PARAM\n",
        "all_songs_data = np.empty((1, MAX_NOTES, NUM_PARAM), np.float64)\n",
        "\n",
        "for f in glob.glob(data_path + '*.mid'):\n",
        "  song_notes = get_notes(f)\n",
        "\n",
        "  temp_data = np.empty((1, 1, NUM_PARAM), np.float64)\n",
        "  notes_data = np.zeros((1, MAX_NOTES, NUM_PARAM)) - 1\n",
        "  \n",
        "  for elem in song_notes:\n",
        "    # Convert notes into a 2D numpy array\n",
        "    # The 1st dimension is 5 pitches and 1 duration\n",
        "    # The 2nd dimension is the number of notes\n",
        "    raw_notes = np.array([[elem]]) \n",
        "    temp_data = np.append(temp_data, raw_notes, axis=1)\n",
        "  \n",
        "  temp_data = temp_data[:, 1:, :]\n",
        "  notes_data[0, :temp_data.shape[1],:temp_data.shape[2]] = temp_data\n",
        "#   print('notes_data = ', notes_data)\n",
        "  \n",
        "  all_songs_data = np.append(all_songs_data, notes_data, axis=0)\n",
        "\n",
        "  \n",
        "all_songs_data = all_songs_data[1:,:,:]\n"
      ],
      "execution_count": 0,
      "outputs": [
        {
          "output_type": "stream",
          "text": [
            "\n",
            "WARNING: The TensorFlow contrib module will not be included in TensorFlow 2.0.\n",
            "For more information, please see:\n",
            "  * https://github.com/tensorflow/community/blob/master/rfcs/20180907-contrib-sunset.md\n",
            "  * https://github.com/tensorflow/addons\n",
            "If you depend on functionality not listed there, please file an issue.\n",
            "\n",
            "[[[52.         57.         -1.         -1.         -1.\n",
            "    0.75      ]\n",
            "  [40.         -1.         -1.         -1.         -1.\n",
            "    0.75      ]\n",
            "  [33.         40.         -1.         -1.         -1.\n",
            "    0.75      ]\n",
            "  ...\n",
            "  [-1.         -1.         -1.         -1.         -1.\n",
            "   -1.        ]\n",
            "  [-1.         -1.         -1.         -1.         -1.\n",
            "   -1.        ]\n",
            "  [-1.         -1.         -1.         -1.         -1.\n",
            "   -1.        ]]\n",
            "\n",
            " [[72.         -1.         -1.         -1.         -1.\n",
            "    1.        ]\n",
            "  [64.         -1.         -1.         -1.         -1.\n",
            "    1.33333333]\n",
            "  [36.         -1.         -1.         -1.         -1.\n",
            "    2.        ]\n",
            "  ...\n",
            "  [-1.         -1.         -1.         -1.         -1.\n",
            "   -1.        ]\n",
            "  [-1.         -1.         -1.         -1.         -1.\n",
            "   -1.        ]\n",
            "  [-1.         -1.         -1.         -1.         -1.\n",
            "   -1.        ]]\n",
            "\n",
            " [[-1.         -1.         -1.         -1.         -1.\n",
            "   -1.        ]\n",
            "  [-1.         -1.         -1.         -1.         -1.\n",
            "   -1.        ]\n",
            "  [-1.         -1.         -1.         -1.         -1.\n",
            "   -1.        ]\n",
            "  ...\n",
            "  [-1.         -1.         -1.         -1.         -1.\n",
            "   -1.        ]\n",
            "  [-1.         -1.         -1.         -1.         -1.\n",
            "   -1.        ]\n",
            "  [-1.         -1.         -1.         -1.         -1.\n",
            "   -1.        ]]\n",
            "\n",
            " ...\n",
            "\n",
            " [[89.         -1.         -1.         -1.         -1.\n",
            "    9.        ]\n",
            "  [50.         -1.         -1.         -1.         -1.\n",
            "    0.5       ]\n",
            "  [61.         -1.         -1.         -1.         -1.\n",
            "    0.5       ]\n",
            "  ...\n",
            "  [-1.         -1.         -1.         -1.         -1.\n",
            "   -1.        ]\n",
            "  [-1.         -1.         -1.         -1.         -1.\n",
            "   -1.        ]\n",
            "  [-1.         -1.         -1.         -1.         -1.\n",
            "   -1.        ]]\n",
            "\n",
            " [[78.         -1.         -1.         -1.         -1.\n",
            "    0.5       ]\n",
            "  [62.         69.         74.         76.         -1.\n",
            "    3.75      ]\n",
            "  [81.         -1.         -1.         -1.         -1.\n",
            "    0.5       ]\n",
            "  ...\n",
            "  [-1.         -1.         -1.         -1.         -1.\n",
            "   -1.        ]\n",
            "  [-1.         -1.         -1.         -1.         -1.\n",
            "   -1.        ]\n",
            "  [-1.         -1.         -1.         -1.         -1.\n",
            "   -1.        ]]\n",
            "\n",
            " [[70.         -1.         -1.         -1.         -1.\n",
            "    2.        ]\n",
            "  [62.         -1.         -1.         -1.         -1.\n",
            "    2.        ]\n",
            "  [70.         -1.         -1.         -1.         -1.\n",
            "    0.25      ]\n",
            "  ...\n",
            "  [-1.         -1.         -1.         -1.         -1.\n",
            "   -1.        ]\n",
            "  [-1.         -1.         -1.         -1.         -1.\n",
            "   -1.        ]\n",
            "  [-1.         -1.         -1.         -1.         -1.\n",
            "   -1.        ]]]\n"
          ],
          "name": "stdout"
        }
      ]
    },
    {
      "cell_type": "code",
      "metadata": {
        "id": "K9C0kgHdIxGX",
        "colab_type": "code",
        "outputId": "78e6b732-9caa-4111-a5f5-e4d00858baa5",
        "colab": {
          "base_uri": "https://localhost:8080/",
          "height": 34
        }
      },
      "source": [
        "all_songs_data.shape"
      ],
      "execution_count": 0,
      "outputs": [
        {
          "output_type": "execute_result",
          "data": {
            "text/plain": [
              "(92, 2500, 6)"
            ]
          },
          "metadata": {
            "tags": []
          },
          "execution_count": 7
        }
      ]
    },
    {
      "cell_type": "code",
      "metadata": {
        "id": "tGDmM_ZRAQfZ",
        "colab_type": "code",
        "colab": {}
      },
      "source": [
        "preprocessed_path = \"/content/gdrive/My Drive/Applied Deep Learning/Outputs/\""
      ],
      "execution_count": 0,
      "outputs": []
    },
    {
      "cell_type": "code",
      "metadata": {
        "id": "g_XwN_rkI715",
        "colab_type": "code",
        "colab": {}
      },
      "source": [
        "import pickle\n",
        "\n",
        "pickle.dump( all_songs_data, open( preprocessed_path + \"all_songs_data.p\", \"wb\" ) )"
      ],
      "execution_count": 0,
      "outputs": []
    },
    {
      "cell_type": "code",
      "metadata": {
        "id": "Wv9RzEn5Icv_",
        "colab_type": "code",
        "colab": {}
      },
      "source": [
        "all_songs_data = pickle.load( open( preprocessed_path + \"all_songs_data.p\", \"rb\" ) )"
      ],
      "execution_count": 0,
      "outputs": []
    }
  ]
}