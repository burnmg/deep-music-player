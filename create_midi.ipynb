{
  "nbformat": 4,
  "nbformat_minor": 0,
  "metadata": {
    "colab": {
      "name": "create_midi.ipynb",
      "version": "0.3.2",
      "provenance": [],
      "collapsed_sections": [],
      "toc_visible": true
    },
    "kernelspec": {
      "name": "python2",
      "display_name": "Python 2"
    },
    "accelerator": "GPU"
  },
  "cells": [
    {
      "cell_type": "code",
      "metadata": {
        "id": "gZ4Zpfeg6Pti",
        "colab_type": "code",
        "colab": {}
      },
      "source": [
        "import tensorflow as tf\n",
        "from tensorflow import keras\n",
        "from tensorflow.keras.layers import Dense, GRU, Dropout, Embedding\n",
        "from music21 import converter, instrument, note, chord, pitch\n",
        "from google.colab import drive\n",
        "import numpy as np\n",
        "import time\n",
        "import glob\n",
        "import pickle"
      ],
      "execution_count": 0,
      "outputs": []
    },
    {
      "cell_type": "code",
      "metadata": {
        "id": "r3DDtqkY061Y",
        "colab_type": "code",
        "colab": {
          "base_uri": "https://localhost:8080/",
          "height": 54
        },
        "outputId": "c311fa54-e0a3-4742-c325-6fbf9840f188"
      },
      "source": [
        "drive.mount('/content/gdrive')"
      ],
      "execution_count": 65,
      "outputs": [
        {
          "output_type": "stream",
          "text": [
            "Drive already mounted at /content/gdrive; to attempt to forcibly remount, call drive.mount(\"/content/gdrive\", force_remount=True).\n"
          ],
          "name": "stdout"
        }
      ]
    },
    {
      "cell_type": "code",
      "metadata": {
        "id": "V1NHWHqjzR2w",
        "colab_type": "code",
        "colab": {}
      },
      "source": [
        "data_path = \"/content/gdrive/My Drive/Applied Deep Learning/Data/\""
      ],
      "execution_count": 0,
      "outputs": []
    },
    {
      "cell_type": "code",
      "metadata": {
        "id": "Z-WKwrv24GRn",
        "colab_type": "code",
        "colab": {}
      },
      "source": [
        "def get_notes(filename):\n",
        "  notes = []\n",
        "  midi = converter.parse(filename)\n",
        "  notes_to_parse = None\n",
        "  try:  # file has instrument parts\n",
        "    s2 = instrument.partitionByInstrument(midi)\n",
        "    notes_to_parse = s2.parts[0].recurse() \n",
        "  except:  # file has notes in a flat structure\n",
        "    notes_to_parse = midi.flat.notes\n",
        "\n",
        "  for element in notes_to_parse:\n",
        "    \n",
        "    new_chord = [-1] * 6 # 5 pitches + 1 duration\n",
        "    \n",
        "    if isinstance(element, note.Note):\n",
        "      new_chord[0] = element.pitch.ps\n",
        "      new_chord[5] = float(element.duration.quarterLength)\n",
        "      notes.append(new_chord)\n",
        "    elif isinstance(element, chord.Chord):\n",
        "      new_chord[5] = float(element.duration.quarterLength)\n",
        "      \n",
        "      for k in range(len(element.pitches)):\n",
        "        new_chord[k] = element.pitches[k].ps\n",
        "        \n",
        "        if k >= len(new_chord) - 1:\n",
        "          break\n",
        "\n",
        "      notes.append(new_chord)\n",
        "\n",
        "  return notes\n"
      ],
      "execution_count": 0,
      "outputs": []
    },
    {
      "cell_type": "markdown",
      "metadata": {
        "id": "-t5lY6jgNGVe",
        "colab_type": "text"
      },
      "source": [
        "## Load trained outputs"
      ]
    },
    {
      "cell_type": "code",
      "metadata": {
        "id": "tGDmM_ZRAQfZ",
        "colab_type": "code",
        "colab": {}
      },
      "source": [
        "preprocessed_path = \"/content/gdrive/My Drive/Applied Deep Learning/Outputs/\""
      ],
      "execution_count": 0,
      "outputs": []
    },
    {
      "cell_type": "code",
      "metadata": {
        "id": "8vc5D0FEnWQZ",
        "colab_type": "code",
        "colab": {}
      },
      "source": [
        "# new_songs_game100, chopin, game\n",
        "\n",
        "dataset = 'new_songs_game100' "
      ],
      "execution_count": 0,
      "outputs": []
    },
    {
      "cell_type": "code",
      "metadata": {
        "id": "NveNmTdWdrG6",
        "colab_type": "code",
        "colab": {}
      },
      "source": [
        "all_songs_data = np.load(preprocessed_path + '{}.npy'.format(dataset))"
      ],
      "execution_count": 0,
      "outputs": []
    },
    {
      "cell_type": "code",
      "metadata": {
        "id": "gZGkCdKThCPm",
        "colab_type": "code",
        "colab": {
          "base_uri": "https://localhost:8080/",
          "height": 34
        },
        "outputId": "ab1e6288-aeda-4bb2-9400-f6268911b8ab"
      },
      "source": [
        "all_songs_data.shape"
      ],
      "execution_count": 74,
      "outputs": [
        {
          "output_type": "execute_result",
          "data": {
            "text/plain": [
              "(100, 2500, 6)"
            ]
          },
          "metadata": {
            "tags": []
          },
          "execution_count": 74
        }
      ]
    },
    {
      "cell_type": "markdown",
      "metadata": {
        "id": "UZD2EDDxLxpH",
        "colab_type": "text"
      },
      "source": [
        "## Generate MIDI\n"
      ]
    },
    {
      "cell_type": "code",
      "metadata": {
        "id": "Jc58-2MIWiVa",
        "colab_type": "code",
        "colab": {}
      },
      "source": [
        "from music21 import instrument, note, stream, chord"
      ],
      "execution_count": 0,
      "outputs": []
    },
    {
      "cell_type": "code",
      "metadata": {
        "id": "3vyRW1SYLzRm",
        "colab_type": "code",
        "colab": {}
      },
      "source": [
        "def create_midi(prediction_output, number, output_path, dataset):\n",
        "    \"\"\" convert the output from the prediction to notes and create a midi file\n",
        "        from the notes \"\"\"\n",
        "    offset = 0\n",
        "    output_notes = []\n",
        "\n",
        "    # create note and chord objects based on the values generated by the model\n",
        "    for pattern in prediction_output:\n",
        "        duration = pattern[-1]\n",
        "        \n",
        "        if int(duration) != -1:\n",
        "            notes_in_chord = pattern[:-1]\n",
        "            notes = []\n",
        "            for current_note in notes_in_chord:\n",
        "                if int(current_note) != -1:\n",
        "                    new_note = note.Note(int(current_note))\n",
        "                    new_note.storedInstrument = instrument.Piano()\n",
        "                    notes.append(new_note)\n",
        "            new_chord = chord.Chord(notes)\n",
        "            new_chord.offset = offset\n",
        "            output_notes.append(new_chord)    \n",
        "\n",
        "            offset += duration\n",
        "\n",
        "    midi_stream = stream.Stream(output_notes)\n",
        "\n",
        "    midi_stream.write('midi', fp=output_path+'{}_output{}.mid'.format(dataset, number))"
      ],
      "execution_count": 0,
      "outputs": []
    },
    {
      "cell_type": "code",
      "metadata": {
        "id": "Kf3Yo7CcmwnE",
        "colab_type": "code",
        "colab": {}
      },
      "source": [
        "output_path = \"/content/gdrive/My Drive/Applied Deep Learning/{} Output/\".format(dataset)"
      ],
      "execution_count": 0,
      "outputs": []
    },
    {
      "cell_type": "code",
      "metadata": {
        "id": "ipr2knkqd7Ay",
        "colab_type": "code",
        "colab": {}
      },
      "source": [
        "import os\n",
        "os.mkdir(output_path)"
      ],
      "execution_count": 0,
      "outputs": []
    },
    {
      "cell_type": "code",
      "metadata": {
        "id": "AsFKr5crXlDi",
        "colab_type": "code",
        "colab": {}
      },
      "source": [
        "for k in range(all_songs_data.shape[0]):\n",
        "  create_midi(all_songs_data[k], k, output_path, dataset)"
      ],
      "execution_count": 0,
      "outputs": []
    }
  ]
}